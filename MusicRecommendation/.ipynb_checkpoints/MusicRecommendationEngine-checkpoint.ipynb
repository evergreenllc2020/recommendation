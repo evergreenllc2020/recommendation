{
 "cells": [
  {
   "cell_type": "markdown",
   "metadata": {},
   "source": [
    "![alt text](https://greenheritagellc.github.io/portal/images//Green%20Heritage%20Logo.png \"Logo Title Text 1\")"
   ]
  },
  {
   "cell_type": "markdown",
   "metadata": {},
   "source": [
    "# Music Recommendation Engine"
   ]
  },
  {
   "cell_type": "markdown",
   "metadata": {},
   "source": [
    "* This notebook recommends a set of music similar to other music based on crowdsourced music play count by users\n",
    "* It uses item based collberative filtering to achieve this\n",
    "* Citation: Songs dataset has been downloaded from http://millionsongdataset.com/sites/default/files/millionsong_ismir11_1.bib\n",
    "Thierry Bertin-Mahieux, Daniel P.W. Ellis, Brian Whitman, and Paul Lamere. \n",
    "The Million Song Dataset. In Proceedings of the 12th International Society\n",
    "for Music Information Retrieval Conference (ISMIR 2011), 2011."
   ]
  },
  {
   "cell_type": "code",
   "execution_count": 12,
   "metadata": {},
   "outputs": [],
   "source": [
    "%matplotlib inline\n",
    "import pandas as pd\n",
    "import numpy as np\n",
    "from numpy import int64\n",
    "\n",
    "import requests\n",
    "import IPython.display as Disp\n",
    "import sklearn\n",
    "from sklearn.decomposition import TruncatedSVD"
   ]
  },
  {
   "cell_type": "markdown",
   "metadata": {},
   "source": [
    "### Read dataset that shows metadata of each song into Pandas dataframe"
   ]
  },
  {
   "cell_type": "code",
   "execution_count": 17,
   "metadata": {},
   "outputs": [
    {
     "data": {
      "text/html": [
       "<div>\n",
       "<style scoped>\n",
       "    .dataframe tbody tr th:only-of-type {\n",
       "        vertical-align: middle;\n",
       "    }\n",
       "\n",
       "    .dataframe tbody tr th {\n",
       "        vertical-align: top;\n",
       "    }\n",
       "\n",
       "    .dataframe thead th {\n",
       "        text-align: right;\n",
       "    }\n",
       "</style>\n",
       "<table border=\"1\" class=\"dataframe\">\n",
       "  <thead>\n",
       "    <tr style=\"text-align: right;\">\n",
       "      <th></th>\n",
       "      <th>song_id</th>\n",
       "      <th>title</th>\n",
       "      <th>release</th>\n",
       "      <th>artist_name</th>\n",
       "      <th>year</th>\n",
       "    </tr>\n",
       "  </thead>\n",
       "  <tbody>\n",
       "    <tr>\n",
       "      <td>0</td>\n",
       "      <td>SOQMMHC12AB0180CB8</td>\n",
       "      <td>Silent Night</td>\n",
       "      <td>Monster Ballads X-Mas</td>\n",
       "      <td>Faster Pussy cat</td>\n",
       "      <td>2003</td>\n",
       "    </tr>\n",
       "    <tr>\n",
       "      <td>1</td>\n",
       "      <td>SOVFVAK12A8C1350D9</td>\n",
       "      <td>Tanssi vaan</td>\n",
       "      <td>Karkuteillä</td>\n",
       "      <td>Karkkiautomaatti</td>\n",
       "      <td>1995</td>\n",
       "    </tr>\n",
       "    <tr>\n",
       "      <td>2</td>\n",
       "      <td>SOGTUKN12AB017F4F1</td>\n",
       "      <td>No One Could Ever</td>\n",
       "      <td>Butter</td>\n",
       "      <td>Hudson Mohawke</td>\n",
       "      <td>2006</td>\n",
       "    </tr>\n",
       "    <tr>\n",
       "      <td>3</td>\n",
       "      <td>SOBNYVR12A8C13558C</td>\n",
       "      <td>Si Vos Querés</td>\n",
       "      <td>De Culo</td>\n",
       "      <td>Yerba Brava</td>\n",
       "      <td>2003</td>\n",
       "    </tr>\n",
       "    <tr>\n",
       "      <td>4</td>\n",
       "      <td>SOHSBXH12A8C13B0DF</td>\n",
       "      <td>Tangle Of Aspens</td>\n",
       "      <td>Rene Ablaze Presents Winter Sessions</td>\n",
       "      <td>Der Mystic</td>\n",
       "      <td>0</td>\n",
       "    </tr>\n",
       "  </tbody>\n",
       "</table>\n",
       "</div>"
      ],
      "text/plain": [
       "              song_id              title  \\\n",
       "0  SOQMMHC12AB0180CB8       Silent Night   \n",
       "1  SOVFVAK12A8C1350D9        Tanssi vaan   \n",
       "2  SOGTUKN12AB017F4F1  No One Could Ever   \n",
       "3  SOBNYVR12A8C13558C      Si Vos Querés   \n",
       "4  SOHSBXH12A8C13B0DF   Tangle Of Aspens   \n",
       "\n",
       "                                release       artist_name  year  \n",
       "0                 Monster Ballads X-Mas  Faster Pussy cat  2003  \n",
       "1                           Karkuteillä  Karkkiautomaatti  1995  \n",
       "2                                Butter    Hudson Mohawke  2006  \n",
       "3                               De Culo       Yerba Brava  2003  \n",
       "4  Rene Ablaze Presents Winter Sessions        Der Mystic     0  "
      ]
     },
     "execution_count": 17,
     "metadata": {},
     "output_type": "execute_result"
    }
   ],
   "source": [
    "songs_metadata_file = 'https://static.turi.com/datasets/millionsong/song_data.csv'\n",
    "songs_df =  pd.read_csv(songs_metadata_file)\n",
    "songs_df.head()"
   ]
  },
  {
   "cell_type": "code",
   "execution_count": 26,
   "metadata": {},
   "outputs": [
    {
     "data": {
      "text/html": [
       "<div>\n",
       "<style scoped>\n",
       "    .dataframe tbody tr th:only-of-type {\n",
       "        vertical-align: middle;\n",
       "    }\n",
       "\n",
       "    .dataframe tbody tr th {\n",
       "        vertical-align: top;\n",
       "    }\n",
       "\n",
       "    .dataframe thead th {\n",
       "        text-align: right;\n",
       "    }\n",
       "</style>\n",
       "<table border=\"1\" class=\"dataframe\">\n",
       "  <thead>\n",
       "    <tr style=\"text-align: right;\">\n",
       "      <th></th>\n",
       "      <th>year</th>\n",
       "    </tr>\n",
       "  </thead>\n",
       "  <tbody>\n",
       "    <tr>\n",
       "      <td>count</td>\n",
       "      <td>1000000.000000</td>\n",
       "    </tr>\n",
       "    <tr>\n",
       "      <td>mean</td>\n",
       "      <td>1030.325652</td>\n",
       "    </tr>\n",
       "    <tr>\n",
       "      <td>std</td>\n",
       "      <td>998.745002</td>\n",
       "    </tr>\n",
       "    <tr>\n",
       "      <td>min</td>\n",
       "      <td>0.000000</td>\n",
       "    </tr>\n",
       "    <tr>\n",
       "      <td>25%</td>\n",
       "      <td>0.000000</td>\n",
       "    </tr>\n",
       "    <tr>\n",
       "      <td>50%</td>\n",
       "      <td>1969.000000</td>\n",
       "    </tr>\n",
       "    <tr>\n",
       "      <td>75%</td>\n",
       "      <td>2002.000000</td>\n",
       "    </tr>\n",
       "    <tr>\n",
       "      <td>max</td>\n",
       "      <td>2011.000000</td>\n",
       "    </tr>\n",
       "  </tbody>\n",
       "</table>\n",
       "</div>"
      ],
      "text/plain": [
       "                 year\n",
       "count  1000000.000000\n",
       "mean      1030.325652\n",
       "std        998.745002\n",
       "min          0.000000\n",
       "25%          0.000000\n",
       "50%       1969.000000\n",
       "75%       2002.000000\n",
       "max       2011.000000"
      ]
     },
     "execution_count": 26,
     "metadata": {},
     "output_type": "execute_result"
    }
   ],
   "source": [
    "songs_df.describe()"
   ]
  },
  {
   "cell_type": "code",
   "execution_count": null,
   "metadata": {
    "collapsed": true
   },
   "outputs": [],
   "source": []
  },
  {
   "cell_type": "code",
   "execution_count": 43,
   "metadata": {},
   "outputs": [
    {
     "data": {
      "text/plain": [
       "artist_name\n",
       "Michael Jackson                            194\n",
       "Johnny Cash                                193\n",
       "Beastie Boys                               187\n",
       "Joan Baez                                  181\n",
       "Neil Diamond                               176\n",
       "                                          ... \n",
       "Greg Davis & Jeph Jerman                     1\n",
       "Greg Davis_ Sébastien Roux                   1\n",
       "Greg Edwards                                 1\n",
       "Greg Hawks & The Tremblers                   1\n",
       "\n",
       "Little Louie\" Vega Feat. Arnold Jarvis      1\n",
       "Name: song_id, Length: 72665, dtype: int64"
      ]
     },
     "execution_count": 43,
     "metadata": {},
     "output_type": "execute_result"
    }
   ],
   "source": [
    "songs_df.groupby(\"artist_name\")[\"song_id\"].count().sort_values(ascending=False)"
   ]
  },
  {
   "cell_type": "code",
   "execution_count": 128,
   "metadata": {},
   "outputs": [
    {
     "data": {
      "text/html": [
       "<div>\n",
       "<style scoped>\n",
       "    .dataframe tbody tr th:only-of-type {\n",
       "        vertical-align: middle;\n",
       "    }\n",
       "\n",
       "    .dataframe tbody tr th {\n",
       "        vertical-align: top;\n",
       "    }\n",
       "\n",
       "    .dataframe thead th {\n",
       "        text-align: right;\n",
       "    }\n",
       "</style>\n",
       "<table border=\"1\" class=\"dataframe\">\n",
       "  <thead>\n",
       "    <tr style=\"text-align: right;\">\n",
       "      <th></th>\n",
       "      <th>song_id</th>\n",
       "      <th>title</th>\n",
       "      <th>release</th>\n",
       "      <th>artist_name</th>\n",
       "      <th>year</th>\n",
       "    </tr>\n",
       "  </thead>\n",
       "  <tbody>\n",
       "    <tr>\n",
       "      <td>178</td>\n",
       "      <td>SONTDUZ12D021989FD</td>\n",
       "      <td>Rowboat</td>\n",
       "      <td>Unchained</td>\n",
       "      <td>Johnny Cash</td>\n",
       "      <td>1996</td>\n",
       "    </tr>\n",
       "    <tr>\n",
       "      <td>7317</td>\n",
       "      <td>SOILMNQ12AB0186349</td>\n",
       "      <td>I Just Thought You\u0019d Like To Know (Digitally R...</td>\n",
       "      <td>Mi Love Collection</td>\n",
       "      <td>Johnny Cash</td>\n",
       "      <td>0</td>\n",
       "    </tr>\n",
       "    <tr>\n",
       "      <td>9618</td>\n",
       "      <td>SOLKQPF12A8BEE956D</td>\n",
       "      <td>Old Doc Brown</td>\n",
       "      <td>Original Album Classics</td>\n",
       "      <td>Johnny Cash</td>\n",
       "      <td>1960</td>\n",
       "    </tr>\n",
       "    <tr>\n",
       "      <td>9633</td>\n",
       "      <td>SOWLYYP12D0219044F</td>\n",
       "      <td>I Was There When It Happened</td>\n",
       "      <td>The Legend</td>\n",
       "      <td>Johnny Cash</td>\n",
       "      <td>1957</td>\n",
       "    </tr>\n",
       "    <tr>\n",
       "      <td>14721</td>\n",
       "      <td>SOGATAN12AB01859E3</td>\n",
       "      <td>Thanks A Lot - Alternate</td>\n",
       "      <td>The Sun Years CD3</td>\n",
       "      <td>Johnny Cash</td>\n",
       "      <td>0</td>\n",
       "    </tr>\n",
       "    <tr>\n",
       "      <td>...</td>\n",
       "      <td>...</td>\n",
       "      <td>...</td>\n",
       "      <td>...</td>\n",
       "      <td>...</td>\n",
       "      <td>...</td>\n",
       "    </tr>\n",
       "    <tr>\n",
       "      <td>959408</td>\n",
       "      <td>SOHMWYF12AB018C0D5</td>\n",
       "      <td>Born To Lose</td>\n",
       "      <td>The Legend</td>\n",
       "      <td>Johnny Cash</td>\n",
       "      <td>1964</td>\n",
       "    </tr>\n",
       "    <tr>\n",
       "      <td>971336</td>\n",
       "      <td>SOXMOBG12D0219798A</td>\n",
       "      <td>Orange Blossom Special</td>\n",
       "      <td>Greatest Hits</td>\n",
       "      <td>Johnny Cash</td>\n",
       "      <td>1965</td>\n",
       "    </tr>\n",
       "    <tr>\n",
       "      <td>978035</td>\n",
       "      <td>SOOUGLY12A8BEE954A</td>\n",
       "      <td>You Dreamer You</td>\n",
       "      <td>Original Album Classics</td>\n",
       "      <td>Johnny Cash</td>\n",
       "      <td>1968</td>\n",
       "    </tr>\n",
       "    <tr>\n",
       "      <td>988937</td>\n",
       "      <td>SOKVPFB12A58A79D86</td>\n",
       "      <td>What On Earth Will You Do (For Heaven's Sake)</td>\n",
       "      <td>God</td>\n",
       "      <td>Johnny Cash</td>\n",
       "      <td>1974</td>\n",
       "    </tr>\n",
       "    <tr>\n",
       "      <td>989301</td>\n",
       "      <td>SOHRCIX12A8C13F658</td>\n",
       "      <td>Straight A's in Love</td>\n",
       "      <td>Johnny Cash: Remixed</td>\n",
       "      <td>Johnny Cash</td>\n",
       "      <td>1959</td>\n",
       "    </tr>\n",
       "  </tbody>\n",
       "</table>\n",
       "<p>193 rows × 5 columns</p>\n",
       "</div>"
      ],
      "text/plain": [
       "                   song_id                                              title  \\\n",
       "178     SONTDUZ12D021989FD                                            Rowboat   \n",
       "7317    SOILMNQ12AB0186349  I Just Thought You\u0019d Like To Know (Digitally R...   \n",
       "9618    SOLKQPF12A8BEE956D                                      Old Doc Brown   \n",
       "9633    SOWLYYP12D0219044F                       I Was There When It Happened   \n",
       "14721   SOGATAN12AB01859E3                           Thanks A Lot - Alternate   \n",
       "...                    ...                                                ...   \n",
       "959408  SOHMWYF12AB018C0D5                                       Born To Lose   \n",
       "971336  SOXMOBG12D0219798A                             Orange Blossom Special   \n",
       "978035  SOOUGLY12A8BEE954A                                    You Dreamer You   \n",
       "988937  SOKVPFB12A58A79D86      What On Earth Will You Do (For Heaven's Sake)   \n",
       "989301  SOHRCIX12A8C13F658                               Straight A's in Love   \n",
       "\n",
       "                        release  artist_name  year  \n",
       "178                   Unchained  Johnny Cash  1996  \n",
       "7317         Mi Love Collection  Johnny Cash     0  \n",
       "9618    Original Album Classics  Johnny Cash  1960  \n",
       "9633                 The Legend  Johnny Cash  1957  \n",
       "14721         The Sun Years CD3  Johnny Cash     0  \n",
       "...                         ...          ...   ...  \n",
       "959408               The Legend  Johnny Cash  1964  \n",
       "971336            Greatest Hits  Johnny Cash  1965  \n",
       "978035  Original Album Classics  Johnny Cash  1968  \n",
       "988937                      God  Johnny Cash  1974  \n",
       "989301     Johnny Cash: Remixed  Johnny Cash  1959  \n",
       "\n",
       "[193 rows x 5 columns]"
      ]
     },
     "execution_count": 128,
     "metadata": {},
     "output_type": "execute_result"
    }
   ],
   "source": [
    "Filter_Artist=songs_df['artist_name']=='Johnny Cash'\n",
    "songs_df[Filter_Artist]"
   ]
  },
  {
   "cell_type": "markdown",
   "metadata": {},
   "source": [
    "### Read dataset that shows how many times a user plays each song into pandas dataframe"
   ]
  },
  {
   "cell_type": "code",
   "execution_count": 19,
   "metadata": {},
   "outputs": [
    {
     "data": {
      "text/html": [
       "<div>\n",
       "<style scoped>\n",
       "    .dataframe tbody tr th:only-of-type {\n",
       "        vertical-align: middle;\n",
       "    }\n",
       "\n",
       "    .dataframe tbody tr th {\n",
       "        vertical-align: top;\n",
       "    }\n",
       "\n",
       "    .dataframe thead th {\n",
       "        text-align: right;\n",
       "    }\n",
       "</style>\n",
       "<table border=\"1\" class=\"dataframe\">\n",
       "  <thead>\n",
       "    <tr style=\"text-align: right;\">\n",
       "      <th></th>\n",
       "      <th>user_id</th>\n",
       "      <th>song_id</th>\n",
       "      <th>listen_count</th>\n",
       "    </tr>\n",
       "  </thead>\n",
       "  <tbody>\n",
       "    <tr>\n",
       "      <td>0</td>\n",
       "      <td>b80344d063b5ccb3212f76538f3d9e43d87dca9e</td>\n",
       "      <td>SOAKIMP12A8C130995</td>\n",
       "      <td>1</td>\n",
       "    </tr>\n",
       "    <tr>\n",
       "      <td>1</td>\n",
       "      <td>b80344d063b5ccb3212f76538f3d9e43d87dca9e</td>\n",
       "      <td>SOBBMDR12A8C13253B</td>\n",
       "      <td>2</td>\n",
       "    </tr>\n",
       "    <tr>\n",
       "      <td>2</td>\n",
       "      <td>b80344d063b5ccb3212f76538f3d9e43d87dca9e</td>\n",
       "      <td>SOBXHDL12A81C204C0</td>\n",
       "      <td>1</td>\n",
       "    </tr>\n",
       "    <tr>\n",
       "      <td>3</td>\n",
       "      <td>b80344d063b5ccb3212f76538f3d9e43d87dca9e</td>\n",
       "      <td>SOBYHAJ12A6701BF1D</td>\n",
       "      <td>1</td>\n",
       "    </tr>\n",
       "    <tr>\n",
       "      <td>4</td>\n",
       "      <td>b80344d063b5ccb3212f76538f3d9e43d87dca9e</td>\n",
       "      <td>SODACBL12A8C13C273</td>\n",
       "      <td>1</td>\n",
       "    </tr>\n",
       "  </tbody>\n",
       "</table>\n",
       "</div>"
      ],
      "text/plain": [
       "                                    user_id             song_id  listen_count\n",
       "0  b80344d063b5ccb3212f76538f3d9e43d87dca9e  SOAKIMP12A8C130995             1\n",
       "1  b80344d063b5ccb3212f76538f3d9e43d87dca9e  SOBBMDR12A8C13253B             2\n",
       "2  b80344d063b5ccb3212f76538f3d9e43d87dca9e  SOBXHDL12A81C204C0             1\n",
       "3  b80344d063b5ccb3212f76538f3d9e43d87dca9e  SOBYHAJ12A6701BF1D             1\n",
       "4  b80344d063b5ccb3212f76538f3d9e43d87dca9e  SODACBL12A8C13C273             1"
      ]
     },
     "execution_count": 19,
     "metadata": {},
     "output_type": "execute_result"
    }
   ],
   "source": [
    "triplets_file = 'https://static.turi.com/datasets/millionsong/10000.txt'\n",
    "songs_to_user_df = pd.read_table(triplets_file,header=None)\n",
    "songs_to_user_df.columns = ['user_id', 'song_id', 'listen_count']\n",
    "songs_to_user_df.head()"
   ]
  },
  {
   "cell_type": "code",
   "execution_count": 25,
   "metadata": {},
   "outputs": [
    {
     "data": {
      "text/html": [
       "<div>\n",
       "<style scoped>\n",
       "    .dataframe tbody tr th:only-of-type {\n",
       "        vertical-align: middle;\n",
       "    }\n",
       "\n",
       "    .dataframe tbody tr th {\n",
       "        vertical-align: top;\n",
       "    }\n",
       "\n",
       "    .dataframe thead th {\n",
       "        text-align: right;\n",
       "    }\n",
       "</style>\n",
       "<table border=\"1\" class=\"dataframe\">\n",
       "  <thead>\n",
       "    <tr style=\"text-align: right;\">\n",
       "      <th></th>\n",
       "      <th>listen_count</th>\n",
       "    </tr>\n",
       "  </thead>\n",
       "  <tbody>\n",
       "    <tr>\n",
       "      <td>count</td>\n",
       "      <td>2.000000e+06</td>\n",
       "    </tr>\n",
       "    <tr>\n",
       "      <td>mean</td>\n",
       "      <td>3.045485e+00</td>\n",
       "    </tr>\n",
       "    <tr>\n",
       "      <td>std</td>\n",
       "      <td>6.579720e+00</td>\n",
       "    </tr>\n",
       "    <tr>\n",
       "      <td>min</td>\n",
       "      <td>1.000000e+00</td>\n",
       "    </tr>\n",
       "    <tr>\n",
       "      <td>25%</td>\n",
       "      <td>1.000000e+00</td>\n",
       "    </tr>\n",
       "    <tr>\n",
       "      <td>50%</td>\n",
       "      <td>1.000000e+00</td>\n",
       "    </tr>\n",
       "    <tr>\n",
       "      <td>75%</td>\n",
       "      <td>3.000000e+00</td>\n",
       "    </tr>\n",
       "    <tr>\n",
       "      <td>max</td>\n",
       "      <td>2.213000e+03</td>\n",
       "    </tr>\n",
       "  </tbody>\n",
       "</table>\n",
       "</div>"
      ],
      "text/plain": [
       "       listen_count\n",
       "count  2.000000e+06\n",
       "mean   3.045485e+00\n",
       "std    6.579720e+00\n",
       "min    1.000000e+00\n",
       "25%    1.000000e+00\n",
       "50%    1.000000e+00\n",
       "75%    3.000000e+00\n",
       "max    2.213000e+03"
      ]
     },
     "execution_count": 25,
     "metadata": {},
     "output_type": "execute_result"
    }
   ],
   "source": [
    "songs_to_user_df.describe()"
   ]
  },
  {
   "cell_type": "code",
   "execution_count": 37,
   "metadata": {},
   "outputs": [
    {
     "data": {
      "text/plain": [
       "user_id\n",
       "6d625c6557df84b60d90426c0116138b617b9449    711\n",
       "fbee1c8ce1a346fa07d2ef648cec81117438b91f    643\n",
       "4e11f45d732f4861772b2906f81a7d384552ad12    556\n",
       "24b98f8ab023f6e7a1c37c7729c623f7b821eb95    540\n",
       "1aa4fd215aadb160965110ed8a829745cde319eb    533\n",
       "                                           ... \n",
       "f19b6e160a2c88805c66aa5068001a96f22ef228      1\n",
       "eb0a706547d7e173757a83358def009af40fd74f      1\n",
       "b506264c38f0739cb352605ce534e7d03d016553      1\n",
       "cd4a00b93a113ededaab455e3a62118ab11b5c47      1\n",
       "d33330810b25dd593e6645e4a6ad791bc2f05685      1\n",
       "Name: listen_count, Length: 76353, dtype: int64"
      ]
     },
     "execution_count": 37,
     "metadata": {},
     "output_type": "execute_result"
    }
   ],
   "source": [
    "songs_to_user_df.groupby('user_id')['listen_count'].count().sort_values(ascending=False)"
   ]
  },
  {
   "cell_type": "markdown",
   "metadata": {},
   "source": [
    "## Merge songs and songs to user dataset"
   ]
  },
  {
   "cell_type": "code",
   "execution_count": 44,
   "metadata": {},
   "outputs": [],
   "source": [
    "combined_songs_df = pd.merge(songs_to_user_df, songs_df, on='song_id')"
   ]
  },
  {
   "cell_type": "markdown",
   "metadata": {},
   "source": []
  },
  {
   "cell_type": "code",
   "execution_count": 45,
   "metadata": {},
   "outputs": [
    {
     "data": {
      "text/html": [
       "<div>\n",
       "<style scoped>\n",
       "    .dataframe tbody tr th:only-of-type {\n",
       "        vertical-align: middle;\n",
       "    }\n",
       "\n",
       "    .dataframe tbody tr th {\n",
       "        vertical-align: top;\n",
       "    }\n",
       "\n",
       "    .dataframe thead th {\n",
       "        text-align: right;\n",
       "    }\n",
       "</style>\n",
       "<table border=\"1\" class=\"dataframe\">\n",
       "  <thead>\n",
       "    <tr style=\"text-align: right;\">\n",
       "      <th></th>\n",
       "      <th>user_id</th>\n",
       "      <th>song_id</th>\n",
       "      <th>listen_count</th>\n",
       "      <th>title</th>\n",
       "      <th>release</th>\n",
       "      <th>artist_name</th>\n",
       "      <th>year</th>\n",
       "    </tr>\n",
       "  </thead>\n",
       "  <tbody>\n",
       "    <tr>\n",
       "      <td>0</td>\n",
       "      <td>b80344d063b5ccb3212f76538f3d9e43d87dca9e</td>\n",
       "      <td>SOAKIMP12A8C130995</td>\n",
       "      <td>1</td>\n",
       "      <td>The Cove</td>\n",
       "      <td>Thicker Than Water</td>\n",
       "      <td>Jack Johnson</td>\n",
       "      <td>0</td>\n",
       "    </tr>\n",
       "    <tr>\n",
       "      <td>1</td>\n",
       "      <td>7c86176941718984fed11b7c0674ff04c029b480</td>\n",
       "      <td>SOAKIMP12A8C130995</td>\n",
       "      <td>1</td>\n",
       "      <td>The Cove</td>\n",
       "      <td>Thicker Than Water</td>\n",
       "      <td>Jack Johnson</td>\n",
       "      <td>0</td>\n",
       "    </tr>\n",
       "    <tr>\n",
       "      <td>2</td>\n",
       "      <td>76235885b32c4e8c82760c340dc54f9b608d7d7e</td>\n",
       "      <td>SOAKIMP12A8C130995</td>\n",
       "      <td>3</td>\n",
       "      <td>The Cove</td>\n",
       "      <td>Thicker Than Water</td>\n",
       "      <td>Jack Johnson</td>\n",
       "      <td>0</td>\n",
       "    </tr>\n",
       "    <tr>\n",
       "      <td>3</td>\n",
       "      <td>250c0fa2a77bc6695046e7c47882ecd85c42d748</td>\n",
       "      <td>SOAKIMP12A8C130995</td>\n",
       "      <td>1</td>\n",
       "      <td>The Cove</td>\n",
       "      <td>Thicker Than Water</td>\n",
       "      <td>Jack Johnson</td>\n",
       "      <td>0</td>\n",
       "    </tr>\n",
       "    <tr>\n",
       "      <td>4</td>\n",
       "      <td>3f73f44560e822344b0fb7c6b463869743eb9860</td>\n",
       "      <td>SOAKIMP12A8C130995</td>\n",
       "      <td>6</td>\n",
       "      <td>The Cove</td>\n",
       "      <td>Thicker Than Water</td>\n",
       "      <td>Jack Johnson</td>\n",
       "      <td>0</td>\n",
       "    </tr>\n",
       "  </tbody>\n",
       "</table>\n",
       "</div>"
      ],
      "text/plain": [
       "                                    user_id             song_id  listen_count  \\\n",
       "0  b80344d063b5ccb3212f76538f3d9e43d87dca9e  SOAKIMP12A8C130995             1   \n",
       "1  7c86176941718984fed11b7c0674ff04c029b480  SOAKIMP12A8C130995             1   \n",
       "2  76235885b32c4e8c82760c340dc54f9b608d7d7e  SOAKIMP12A8C130995             3   \n",
       "3  250c0fa2a77bc6695046e7c47882ecd85c42d748  SOAKIMP12A8C130995             1   \n",
       "4  3f73f44560e822344b0fb7c6b463869743eb9860  SOAKIMP12A8C130995             6   \n",
       "\n",
       "      title             release   artist_name  year  \n",
       "0  The Cove  Thicker Than Water  Jack Johnson     0  \n",
       "1  The Cove  Thicker Than Water  Jack Johnson     0  \n",
       "2  The Cove  Thicker Than Water  Jack Johnson     0  \n",
       "3  The Cove  Thicker Than Water  Jack Johnson     0  \n",
       "4  The Cove  Thicker Than Water  Jack Johnson     0  "
      ]
     },
     "execution_count": 45,
     "metadata": {},
     "output_type": "execute_result"
    }
   ],
   "source": [
    "combined_songs_df.head()"
   ]
  },
  {
   "cell_type": "markdown",
   "metadata": {},
   "source": [
    "### Get most listened songs"
   ]
  },
  {
   "cell_type": "code",
   "execution_count": 47,
   "metadata": {},
   "outputs": [
    {
     "data": {
      "text/plain": [
       "song_id\n",
       "SOFRQTD12A81C233C0    8277\n",
       "SOWCKVR12A8C142411    7952\n",
       "SOAUWYT12A81C206F1    7032\n",
       "SOAXGDH12A8C13F8A1    6949\n",
       "SOBONKR12A58A7A7E0    6412\n",
       "                      ... \n",
       "SOLIGVL12AB017DBAE      51\n",
       "SOWNLZF12A58A79811      51\n",
       "SOBPGWB12A6D4F7EF3      50\n",
       "SOGSPGJ12A8C134FAA      48\n",
       "SOYYBJJ12AB017E9FD      48\n",
       "Name: listen_count, Length: 10000, dtype: int64"
      ]
     },
     "execution_count": 47,
     "metadata": {},
     "output_type": "execute_result"
    }
   ],
   "source": [
    "combined_songs_df.groupby('song_id')['listen_count'].count().sort_values(ascending=False)"
   ]
  },
  {
   "cell_type": "code",
   "execution_count": 76,
   "metadata": {},
   "outputs": [
    {
     "data": {
      "text/plain": [
       "title\n",
       "Sehr kosmisch                     8277\n",
       "Use Somebody                      7952\n",
       "Undo                              7032\n",
       "Dog Days Are Over (Radio Edit)    6949\n",
       "You're The One                    6729\n",
       "                                  ... \n",
       "Scared                              51\n",
       "Historia Del Portero                51\n",
       "Don´t Leave Me Now                  50\n",
       "Ghosts (Toxic Avenger Mix)          48\n",
       "No Creo En El Jamas                 48\n",
       "Name: listen_count, Length: 9593, dtype: int64"
      ]
     },
     "execution_count": 76,
     "metadata": {},
     "output_type": "execute_result"
    }
   ],
   "source": [
    "combined_songs_df.groupby('title')['listen_count'].count().sort_values(ascending=False)"
   ]
  },
  {
   "cell_type": "code",
   "execution_count": 234,
   "metadata": {},
   "outputs": [
    {
     "name": "stdout",
     "output_type": "stream",
     "text": [
      "this is title\n",
      "Billionaire [feat. Bruno Mars]  (Explicit Album Version)\n"
     ]
    }
   ],
   "source": [
    "#songs_df_2 = pd.DataFrame(combined_songs_df.groupby('title')['listen_count'].count())\n",
    "songs_df_2 = pd.DataFrame({'count' : combined_songs_df.groupby( [ \"title\"] ).size()}).reset_index()\n",
    "songs_df_2.columns=['title','count']\n",
    "#songs_df_2.head()\n",
    "songs_df_2[(songs_df_2['count'] > 3000)  & (songs_df_2['count']<3113) ].head()\n",
    "song_title = str(songs_df_2[songs_df_2['count'] ==3113 ]['title'].values[0])\n",
    "print(\"this is title\")\n",
    "print(song_title)\n"
   ]
  },
  {
   "cell_type": "code",
   "execution_count": 77,
   "metadata": {},
   "outputs": [
    {
     "data": {
      "text/plain": [
       "artist_name\n",
       "Coldplay            32572\n",
       "Kings Of Leon       26169\n",
       "The Black Keys      19862\n",
       "Jack Johnson        19590\n",
       "Muse                19282\n",
       "                    ...  \n",
       "Shotta                 54\n",
       "Umphrey's McGee        52\n",
       "Ricardo Montaner       52\n",
       "The Four Seasons       52\n",
       "Amparanoia             50\n",
       "Name: listen_count, Length: 3379, dtype: int64"
      ]
     },
     "execution_count": 77,
     "metadata": {},
     "output_type": "execute_result"
    }
   ],
   "source": [
    "combined_songs_df.groupby('artist_name')['listen_count'].count().sort_values(ascending=False)"
   ]
  },
  {
   "cell_type": "code",
   "execution_count": 78,
   "metadata": {},
   "outputs": [
    {
     "data": {
      "text/plain": [
       "array(['Kings Of Leon'], dtype=object)"
      ]
     },
     "execution_count": 78,
     "metadata": {},
     "output_type": "execute_result"
    }
   ],
   "source": [
    "Filter = combined_songs_df['song_id']==\"SOWCKVR12A8C142411\"\n",
    "combined_songs_df[Filter]['artist_name'].unique()\n",
    "#printBookCover(Filter)"
   ]
  },
  {
   "cell_type": "code",
   "execution_count": null,
   "metadata": {},
   "outputs": [],
   "source": []
  },
  {
   "cell_type": "markdown",
   "metadata": {},
   "source": [
    "### Create Pivot Table of User Vs Songs"
   ]
  },
  {
   "cell_type": "code",
   "execution_count": 72,
   "metadata": {},
   "outputs": [],
   "source": [
    "ct_df = combined_songs_df.pivot_table(values='listen_count', index='user_id', columns='title', fill_value=0)"
   ]
  },
  {
   "cell_type": "code",
   "execution_count": 73,
   "metadata": {},
   "outputs": [
    {
     "data": {
      "text/html": [
       "<div>\n",
       "<style scoped>\n",
       "    .dataframe tbody tr th:only-of-type {\n",
       "        vertical-align: middle;\n",
       "    }\n",
       "\n",
       "    .dataframe tbody tr th {\n",
       "        vertical-align: top;\n",
       "    }\n",
       "\n",
       "    .dataframe thead th {\n",
       "        text-align: right;\n",
       "    }\n",
       "</style>\n",
       "<table border=\"1\" class=\"dataframe\">\n",
       "  <thead>\n",
       "    <tr style=\"text-align: right;\">\n",
       "      <th>title</th>\n",
       "      <th>#!*@ You Tonight [Featuring R. Kelly] (Explicit Album Version)</th>\n",
       "      <th>#40</th>\n",
       "      <th>&amp; Down</th>\n",
       "      <th>' Cello Song</th>\n",
       "      <th>'97 Bonnie &amp; Clyde</th>\n",
       "      <th>'Round Midnight</th>\n",
       "      <th>'Til We Die (Album Version)</th>\n",
       "      <th>'Till I Collapse</th>\n",
       "      <th>('Til) I Kissed You</th>\n",
       "      <th>(Anaesthesia) Pulling Teath</th>\n",
       "      <th>...</th>\n",
       "      <th>sillyworld (Album Version)</th>\n",
       "      <th>sleep_ eat food_ have visions</th>\n",
       "      <th>smile around the face</th>\n",
       "      <th>sun drums and soil</th>\n",
       "      <th>teachme (Album Version)</th>\n",
       "      <th>the Love Song</th>\n",
       "      <th>you were there with me</th>\n",
       "      <th>¡Viva La Gloria! (Album Version)</th>\n",
       "      <th>¿Lo Ves? [Piano Y Voz]</th>\n",
       "      <th>Época</th>\n",
       "    </tr>\n",
       "    <tr>\n",
       "      <th>user_id</th>\n",
       "      <th></th>\n",
       "      <th></th>\n",
       "      <th></th>\n",
       "      <th></th>\n",
       "      <th></th>\n",
       "      <th></th>\n",
       "      <th></th>\n",
       "      <th></th>\n",
       "      <th></th>\n",
       "      <th></th>\n",
       "      <th></th>\n",
       "      <th></th>\n",
       "      <th></th>\n",
       "      <th></th>\n",
       "      <th></th>\n",
       "      <th></th>\n",
       "      <th></th>\n",
       "      <th></th>\n",
       "      <th></th>\n",
       "      <th></th>\n",
       "      <th></th>\n",
       "    </tr>\n",
       "  </thead>\n",
       "  <tbody>\n",
       "    <tr>\n",
       "      <td>00003a4459f33b92906be11abe0e93efc423c0ff</td>\n",
       "      <td>0</td>\n",
       "      <td>0</td>\n",
       "      <td>0</td>\n",
       "      <td>0</td>\n",
       "      <td>0</td>\n",
       "      <td>0</td>\n",
       "      <td>0</td>\n",
       "      <td>0</td>\n",
       "      <td>0</td>\n",
       "      <td>0</td>\n",
       "      <td>...</td>\n",
       "      <td>0</td>\n",
       "      <td>0</td>\n",
       "      <td>0</td>\n",
       "      <td>0</td>\n",
       "      <td>0</td>\n",
       "      <td>0</td>\n",
       "      <td>0</td>\n",
       "      <td>0</td>\n",
       "      <td>0</td>\n",
       "      <td>0</td>\n",
       "    </tr>\n",
       "    <tr>\n",
       "      <td>00005c6177188f12fb5e2e82cdbd93e8a3f35e64</td>\n",
       "      <td>0</td>\n",
       "      <td>0</td>\n",
       "      <td>0</td>\n",
       "      <td>0</td>\n",
       "      <td>0</td>\n",
       "      <td>0</td>\n",
       "      <td>0</td>\n",
       "      <td>0</td>\n",
       "      <td>0</td>\n",
       "      <td>0</td>\n",
       "      <td>...</td>\n",
       "      <td>0</td>\n",
       "      <td>0</td>\n",
       "      <td>0</td>\n",
       "      <td>0</td>\n",
       "      <td>0</td>\n",
       "      <td>0</td>\n",
       "      <td>0</td>\n",
       "      <td>0</td>\n",
       "      <td>0</td>\n",
       "      <td>0</td>\n",
       "    </tr>\n",
       "    <tr>\n",
       "      <td>00030033e3a2f904a48ec1dd53019c9969b6ef1f</td>\n",
       "      <td>0</td>\n",
       "      <td>0</td>\n",
       "      <td>0</td>\n",
       "      <td>0</td>\n",
       "      <td>0</td>\n",
       "      <td>0</td>\n",
       "      <td>0</td>\n",
       "      <td>0</td>\n",
       "      <td>0</td>\n",
       "      <td>0</td>\n",
       "      <td>...</td>\n",
       "      <td>0</td>\n",
       "      <td>0</td>\n",
       "      <td>0</td>\n",
       "      <td>0</td>\n",
       "      <td>0</td>\n",
       "      <td>0</td>\n",
       "      <td>0</td>\n",
       "      <td>0</td>\n",
       "      <td>0</td>\n",
       "      <td>0</td>\n",
       "    </tr>\n",
       "    <tr>\n",
       "      <td>0007235c769e610e3d339a17818a5708e41008d9</td>\n",
       "      <td>0</td>\n",
       "      <td>0</td>\n",
       "      <td>0</td>\n",
       "      <td>0</td>\n",
       "      <td>0</td>\n",
       "      <td>0</td>\n",
       "      <td>0</td>\n",
       "      <td>0</td>\n",
       "      <td>0</td>\n",
       "      <td>0</td>\n",
       "      <td>...</td>\n",
       "      <td>0</td>\n",
       "      <td>0</td>\n",
       "      <td>0</td>\n",
       "      <td>0</td>\n",
       "      <td>0</td>\n",
       "      <td>0</td>\n",
       "      <td>0</td>\n",
       "      <td>0</td>\n",
       "      <td>0</td>\n",
       "      <td>0</td>\n",
       "    </tr>\n",
       "    <tr>\n",
       "      <td>0007c0e74728ca9ef0fe4eb7f75732e8026a278b</td>\n",
       "      <td>0</td>\n",
       "      <td>0</td>\n",
       "      <td>0</td>\n",
       "      <td>0</td>\n",
       "      <td>0</td>\n",
       "      <td>0</td>\n",
       "      <td>0</td>\n",
       "      <td>0</td>\n",
       "      <td>0</td>\n",
       "      <td>0</td>\n",
       "      <td>...</td>\n",
       "      <td>0</td>\n",
       "      <td>0</td>\n",
       "      <td>0</td>\n",
       "      <td>0</td>\n",
       "      <td>0</td>\n",
       "      <td>0</td>\n",
       "      <td>0</td>\n",
       "      <td>0</td>\n",
       "      <td>0</td>\n",
       "      <td>0</td>\n",
       "    </tr>\n",
       "  </tbody>\n",
       "</table>\n",
       "<p>5 rows × 9593 columns</p>\n",
       "</div>"
      ],
      "text/plain": [
       "title                                     #!*@ You Tonight [Featuring R. Kelly] (Explicit Album Version)  \\\n",
       "user_id                                                                                                    \n",
       "00003a4459f33b92906be11abe0e93efc423c0ff                                                  0                \n",
       "00005c6177188f12fb5e2e82cdbd93e8a3f35e64                                                  0                \n",
       "00030033e3a2f904a48ec1dd53019c9969b6ef1f                                                  0                \n",
       "0007235c769e610e3d339a17818a5708e41008d9                                                  0                \n",
       "0007c0e74728ca9ef0fe4eb7f75732e8026a278b                                                  0                \n",
       "\n",
       "title                                     #40  & Down  ' Cello Song  \\\n",
       "user_id                                                               \n",
       "00003a4459f33b92906be11abe0e93efc423c0ff    0       0             0   \n",
       "00005c6177188f12fb5e2e82cdbd93e8a3f35e64    0       0             0   \n",
       "00030033e3a2f904a48ec1dd53019c9969b6ef1f    0       0             0   \n",
       "0007235c769e610e3d339a17818a5708e41008d9    0       0             0   \n",
       "0007c0e74728ca9ef0fe4eb7f75732e8026a278b    0       0             0   \n",
       "\n",
       "title                                     '97 Bonnie & Clyde  'Round Midnight  \\\n",
       "user_id                                                                         \n",
       "00003a4459f33b92906be11abe0e93efc423c0ff                   0                0   \n",
       "00005c6177188f12fb5e2e82cdbd93e8a3f35e64                   0                0   \n",
       "00030033e3a2f904a48ec1dd53019c9969b6ef1f                   0                0   \n",
       "0007235c769e610e3d339a17818a5708e41008d9                   0                0   \n",
       "0007c0e74728ca9ef0fe4eb7f75732e8026a278b                   0                0   \n",
       "\n",
       "title                                     'Til We Die (Album Version)  \\\n",
       "user_id                                                                 \n",
       "00003a4459f33b92906be11abe0e93efc423c0ff                            0   \n",
       "00005c6177188f12fb5e2e82cdbd93e8a3f35e64                            0   \n",
       "00030033e3a2f904a48ec1dd53019c9969b6ef1f                            0   \n",
       "0007235c769e610e3d339a17818a5708e41008d9                            0   \n",
       "0007c0e74728ca9ef0fe4eb7f75732e8026a278b                            0   \n",
       "\n",
       "title                                     'Till I Collapse  \\\n",
       "user_id                                                      \n",
       "00003a4459f33b92906be11abe0e93efc423c0ff                 0   \n",
       "00005c6177188f12fb5e2e82cdbd93e8a3f35e64                 0   \n",
       "00030033e3a2f904a48ec1dd53019c9969b6ef1f                 0   \n",
       "0007235c769e610e3d339a17818a5708e41008d9                 0   \n",
       "0007c0e74728ca9ef0fe4eb7f75732e8026a278b                 0   \n",
       "\n",
       "title                                     ('Til) I Kissed You  \\\n",
       "user_id                                                         \n",
       "00003a4459f33b92906be11abe0e93efc423c0ff                    0   \n",
       "00005c6177188f12fb5e2e82cdbd93e8a3f35e64                    0   \n",
       "00030033e3a2f904a48ec1dd53019c9969b6ef1f                    0   \n",
       "0007235c769e610e3d339a17818a5708e41008d9                    0   \n",
       "0007c0e74728ca9ef0fe4eb7f75732e8026a278b                    0   \n",
       "\n",
       "title                                     (Anaesthesia) Pulling Teath  ...  \\\n",
       "user_id                                                                ...   \n",
       "00003a4459f33b92906be11abe0e93efc423c0ff                            0  ...   \n",
       "00005c6177188f12fb5e2e82cdbd93e8a3f35e64                            0  ...   \n",
       "00030033e3a2f904a48ec1dd53019c9969b6ef1f                            0  ...   \n",
       "0007235c769e610e3d339a17818a5708e41008d9                            0  ...   \n",
       "0007c0e74728ca9ef0fe4eb7f75732e8026a278b                            0  ...   \n",
       "\n",
       "title                                     sillyworld (Album Version)  \\\n",
       "user_id                                                                \n",
       "00003a4459f33b92906be11abe0e93efc423c0ff                           0   \n",
       "00005c6177188f12fb5e2e82cdbd93e8a3f35e64                           0   \n",
       "00030033e3a2f904a48ec1dd53019c9969b6ef1f                           0   \n",
       "0007235c769e610e3d339a17818a5708e41008d9                           0   \n",
       "0007c0e74728ca9ef0fe4eb7f75732e8026a278b                           0   \n",
       "\n",
       "title                                     sleep_ eat food_ have visions  \\\n",
       "user_id                                                                   \n",
       "00003a4459f33b92906be11abe0e93efc423c0ff                              0   \n",
       "00005c6177188f12fb5e2e82cdbd93e8a3f35e64                              0   \n",
       "00030033e3a2f904a48ec1dd53019c9969b6ef1f                              0   \n",
       "0007235c769e610e3d339a17818a5708e41008d9                              0   \n",
       "0007c0e74728ca9ef0fe4eb7f75732e8026a278b                              0   \n",
       "\n",
       "title                                     smile around the face  \\\n",
       "user_id                                                           \n",
       "00003a4459f33b92906be11abe0e93efc423c0ff                      0   \n",
       "00005c6177188f12fb5e2e82cdbd93e8a3f35e64                      0   \n",
       "00030033e3a2f904a48ec1dd53019c9969b6ef1f                      0   \n",
       "0007235c769e610e3d339a17818a5708e41008d9                      0   \n",
       "0007c0e74728ca9ef0fe4eb7f75732e8026a278b                      0   \n",
       "\n",
       "title                                     sun drums and soil  \\\n",
       "user_id                                                        \n",
       "00003a4459f33b92906be11abe0e93efc423c0ff                   0   \n",
       "00005c6177188f12fb5e2e82cdbd93e8a3f35e64                   0   \n",
       "00030033e3a2f904a48ec1dd53019c9969b6ef1f                   0   \n",
       "0007235c769e610e3d339a17818a5708e41008d9                   0   \n",
       "0007c0e74728ca9ef0fe4eb7f75732e8026a278b                   0   \n",
       "\n",
       "title                                     teachme (Album Version)  \\\n",
       "user_id                                                             \n",
       "00003a4459f33b92906be11abe0e93efc423c0ff                        0   \n",
       "00005c6177188f12fb5e2e82cdbd93e8a3f35e64                        0   \n",
       "00030033e3a2f904a48ec1dd53019c9969b6ef1f                        0   \n",
       "0007235c769e610e3d339a17818a5708e41008d9                        0   \n",
       "0007c0e74728ca9ef0fe4eb7f75732e8026a278b                        0   \n",
       "\n",
       "title                                     the Love Song  \\\n",
       "user_id                                                   \n",
       "00003a4459f33b92906be11abe0e93efc423c0ff              0   \n",
       "00005c6177188f12fb5e2e82cdbd93e8a3f35e64              0   \n",
       "00030033e3a2f904a48ec1dd53019c9969b6ef1f              0   \n",
       "0007235c769e610e3d339a17818a5708e41008d9              0   \n",
       "0007c0e74728ca9ef0fe4eb7f75732e8026a278b              0   \n",
       "\n",
       "title                                     you were there with me  \\\n",
       "user_id                                                            \n",
       "00003a4459f33b92906be11abe0e93efc423c0ff                       0   \n",
       "00005c6177188f12fb5e2e82cdbd93e8a3f35e64                       0   \n",
       "00030033e3a2f904a48ec1dd53019c9969b6ef1f                       0   \n",
       "0007235c769e610e3d339a17818a5708e41008d9                       0   \n",
       "0007c0e74728ca9ef0fe4eb7f75732e8026a278b                       0   \n",
       "\n",
       "title                                     ¡Viva La Gloria! (Album Version)  \\\n",
       "user_id                                                                      \n",
       "00003a4459f33b92906be11abe0e93efc423c0ff                                 0   \n",
       "00005c6177188f12fb5e2e82cdbd93e8a3f35e64                                 0   \n",
       "00030033e3a2f904a48ec1dd53019c9969b6ef1f                                 0   \n",
       "0007235c769e610e3d339a17818a5708e41008d9                                 0   \n",
       "0007c0e74728ca9ef0fe4eb7f75732e8026a278b                                 0   \n",
       "\n",
       "title                                     ¿Lo Ves? [Piano Y Voz]  Época  \n",
       "user_id                                                                  \n",
       "00003a4459f33b92906be11abe0e93efc423c0ff                       0      0  \n",
       "00005c6177188f12fb5e2e82cdbd93e8a3f35e64                       0      0  \n",
       "00030033e3a2f904a48ec1dd53019c9969b6ef1f                       0      0  \n",
       "0007235c769e610e3d339a17818a5708e41008d9                       0      0  \n",
       "0007c0e74728ca9ef0fe4eb7f75732e8026a278b                       0      0  \n",
       "\n",
       "[5 rows x 9593 columns]"
      ]
     },
     "execution_count": 73,
     "metadata": {},
     "output_type": "execute_result"
    }
   ],
   "source": [
    "ct_df.head()"
   ]
  },
  {
   "cell_type": "code",
   "execution_count": 79,
   "metadata": {},
   "outputs": [
    {
     "data": {
      "text/plain": [
       "(9593, 76353)"
      ]
     },
     "execution_count": 79,
     "metadata": {},
     "output_type": "execute_result"
    }
   ],
   "source": [
    "X = ct_df.values.T\n",
    "X.shape"
   ]
  },
  {
   "cell_type": "markdown",
   "metadata": {},
   "source": [
    "### Compress dataset by applying Singular Value Decomposition (SVD)"
   ]
  },
  {
   "cell_type": "code",
   "execution_count": 80,
   "metadata": {},
   "outputs": [
    {
     "data": {
      "text/plain": [
       "(9593, 20)"
      ]
     },
     "execution_count": 80,
     "metadata": {},
     "output_type": "execute_result"
    }
   ],
   "source": [
    "SVD  = TruncatedSVD(n_components=20, random_state=17)\n",
    "result_matrix = SVD.fit_transform(X)\n",
    "result_matrix.shape"
   ]
  },
  {
   "cell_type": "markdown",
   "metadata": {},
   "source": [
    "### Create Pearson coorelation matrix"
   ]
  },
  {
   "cell_type": "code",
   "execution_count": 81,
   "metadata": {},
   "outputs": [
    {
     "data": {
      "text/plain": [
       "(9593, 9593)"
      ]
     },
     "execution_count": 81,
     "metadata": {},
     "output_type": "execute_result"
    }
   ],
   "source": [
    "corr_mat = np.corrcoef(result_matrix)\n",
    "corr_mat.shape\n"
   ]
  },
  {
   "cell_type": "code",
   "execution_count": 82,
   "metadata": {},
   "outputs": [
    {
     "data": {
      "text/plain": [
       "0.5110047853800223"
      ]
     },
     "execution_count": 82,
     "metadata": {},
     "output_type": "execute_result"
    }
   ],
   "source": [
    "corr_mat[0][2]"
   ]
  },
  {
   "cell_type": "markdown",
   "metadata": {},
   "source": [
    "### Print books related to specified book\n"
   ]
  },
  {
   "cell_type": "code",
   "execution_count": 83,
   "metadata": {},
   "outputs": [
    {
     "name": "stdout",
     "output_type": "stream",
     "text": [
      "['#!*@ You Tonight [Featuring R. Kelly] (Explicit Album Version)', '#40', '& Down', \"' Cello Song\", \"'97 Bonnie & Clyde\", \"'Round Midnight\", \"'Til We Die (Album Version)\", \"'Till I Collapse\", \"('Til) I Kissed You\", '(Anaesthesia) Pulling Teath', '(Antichrist Television Blues)', '(I Can\\x19t Get No) Satisfaction', \"(I Can't Get Me No) Satisfaction\", '(I Got That) Boom Boom', '(I Just) Died In Your Arms', \"(I've Had) The Time Of My Life\", \"(If You're Wondering If I Want You To) I Want You To\", '(Keep Feeling) Fascination (2003 Digital Remaster)', '(Nice Dream)', \"(Nothing's Too Good) For My Baby (1999 Digital Remaster)\", '(Oh) Pretty Woman (Remastered Album Version)', '(Remember The Days Of The) Old Schoolyard', \"(Sittin' On) The Dock Of The Bay\", '(Splash) Turn Twist', \"(The Symphony Of) Blase'\", '(They Long To Be) Close To You', '(You Drive Me) Crazy (The Stop Remix!)', '(iii)', '...Baby One More Time', '..Come Around', '0010', '1.36', '10 A.M. Automatic', '10 Miles Wide', '100°', '10:15 Saturday Night', '11 am', '1234', '14 Years', '143', '15 Step', '1517', '16 Candles', '18 And Life (LP Version)', '19-2000', '1958', '1981', '1983', \"1983 (Daedelus's Odd-Dance Party Remix)\", '1991', '2 Become 1', '2080', '21 Guns [feat. Green Day & The Cast Of American Idiot] (Album Version)', '22', '221', '24', '240 Years Before Your Time', '2nd Self', '3', '3 Rounds and a Sound', '369 (feat. B.o.B.) [Step Up 2 The Streets O.S.T. Version]', '38:45 (A Thievery Number)', '3AM (LP Version)', '42', '45 (Album Version)', '4th Dimensional Transition', '5 Minutes Alone [Live Version]', \"5' O'Clock In the Morning\", '5.45', '505', '53rd & 3rd   (Remastered Version )', '5_ 6_ 7_ 8', '7', '83', '911', 'A Beautiful Mine', 'A Beggar On A Beach Of Gold', 'A Better Place_ A Better Time (Album Version)', 'A Better Son/Daughter', 'A Book Like This', 'A Boy Brushed Red Living In Black And White', 'A Candlelit Dinner With Inamorta (feat. NO)', 'A Cautionary Song', 'A Certain Romance', 'A Cloak Of Elvenkind', 'A Comet Appears (Album)', 'A Crippling Blow', 'A Cura', 'A Day Late', 'A Day Without Me', 'A Days Work (feat. P.O.S)', 'A Decade Under The Influence (Album Version)', 'A Deeper Shade Of Soul', 'A Dios Le Pido', 'A Dirge for the Underground', 'A Dream', 'A Dustland Fairytale', \"A Dying Cub Fan's Last Request\", 'A Face In The Crowd', 'A Foggy Day (In London Town) (Album Version)', 'A Forest', 'A Gentle Dissolve', 'A Girl Like You', 'A Good Heart', 'A Good Idea At The Time', 'A Great Big Sled', 'A Guitar And A Heart', 'A Horse Is Not A Home', 'A Kind Of Hope', 'A Kiss Is Not A Contract (Album Version)', 'A La Mierda', 'A Lack Of Color (Album Version)', 'A Life Worth Living', \"A Lion's Heart\", 'A Little Bit Longer', 'A Little Bit Of Riddim', 'A Little Less Sixteen Candles_ A Little More \"Touch Me', 'A Little More Country Than That', 'A Little Something', 'A Little Something Refreshing', \"A Little's Enough\", 'A Lo Cubano', 'A Lonely September (Album)', 'A Man/Me/Then Jim (Album Version)', 'A Message', 'A Message To You Rudy', 'A Million Miles Away', 'A Million Ways', 'A Moment Like This', 'A New Level [Live Version]', 'A Night In Torino', 'A Nightmare To Remember (Album Version)', 'A Pain That I\\x19m Used To', 'A Party Song (The Walk of Shame)', 'A Perfect Sonnet', 'A Perfectly Good Heart', 'A Prayer', 'A Primera Vista', 'A Quai', 'A Reminder', 'A Ribbon', 'A Rush Of Blood To The Head', 'A Single Moment Of Sincerity (feat. NO)', 'A Sisters Social Agony', 'A Small Victory (2009 Remastered)', 'A Song About Hope', 'A Song For The Lovers', 'A Strangely Isolated Place', 'A Stranger', 'A Summer Song', 'A Sunday Smile', 'A Teenager In Love', 'A Thousand Miles', 'A Ti', 'A Time To Be So Small', 'A Veces Vuelvo', 'A Warm Place', 'A Warning (Dub)', 'A Well Respected Man', 'A Whisper', 'A Whiter Shade Of Pale', 'A Wolf At The Door', \"A Woman's Worth\", 'A World Without Love', 'A Year', 'A fuego lento', 'A-Punk (Album)', 'A.T.H.F. (Aqua Teen Hunger Force) (Album Version)', 'AMERIKA', 'AMOUR', 'ATWA', \"Aber Dich Gibt's Nur Einmal Für Mich\", 'About A Girl (Album Version)', 'Above The Clouds (Edited)', 'Above You', 'Abracadabra', 'Abrazame', 'Abrazame  (Version Acustica)', 'Absence of Fear', 'Absolutely Zero (LP Version)', 'Absolution: Of Flight and Failure', 'Acadian Coast', 'Acapella', 'Acapulco 1922', 'Accidental Babies', 'Accidntel Deth (Album Version)', 'Acende O Candieiro (2003 Digital Remaster)', 'Achy Breaky Heart', 'Acid Rain', 'Ackrite', 'Across 110th Street', 'Across The Universe', 'Act Naturally (Album Version)', 'Act Nice and Gentle', 'Act Too (Love Of My Life)', \"Adam's Song\", 'Add It Up', 'Addams Groove', 'Addicted', 'Addicted To Love', 'Adelante', 'Adhesive (LP Version)', 'Adios', 'Adir Adirim (Featuring Victoria Hanna)', 'Adrenalin', 'Adrift', 'Adrift & At Peace', 'Adventures In Solitude', 'Advertising Space', 'Aerials', 'Aero Zeppelin', 'Aerodynamic', 'Aerodynamic (Daft Punk Remix)', 'Aerodynamic (Slum Village Remix)', 'Aerodynamite', 'Aeroplane (Album Version)', 'Aeroplane Blues', 'Afortunada', 'Africadën', 'African Pride', 'Afroman', 'After All (Love Theme From Chances Are)', 'After An Afternoon (Eagles Ballroom Live Version)', 'After Hours', 'After The Gold Rush (Album Version)', 'After The Love Has Gone', 'Afterlife (Album Version)', 'Afternoon (Album)', 'Agaetis Byrjun', 'Again', 'Again & Again', 'Again Again', 'Again I Go Unnoticed', 'Against The Peruvian Monster', 'Age Of Consent', 'Ageless beauty', 'Aghia Sophia (2008 Digital Remaster)', 'Agitated [Live From Le Zenith]', 'Agua', 'Aguas De Marco', 'Agüela (Mi Abuela & The Magnificent Seven & Bust A Move)', \"Ain't Got A Lot of Money\", \"Ain't It Fun\", \"Ain't Misbehavin\", \"Ain't Misbehavin'\", \"Ain't My Bitch\", \"Ain't No Reason\", \"Ain't No Rest For The Wicked (Original Version)\", \"Ain't No Sunshine\", \"Ain't No Way (You Won't Love Me)\", \"Ain't Nobody\", \"Ain't Talkin'  'Bout Love (Remastered Version)\", \"Ain't Talkin' 'Bout Love (Remastered Live Version)\", \"Ain't That A Bitch\", 'Air', 'Air & Lack Thereof', 'Air Force Ones', 'Airplanes', 'Airwar', 'Airwave (Original Version)', 'Aja', 'Ajde sonce zajde', 'Al Di Fuori Di Me', 'Al Vacío', 'Al otro lado del Río', 'Alala (Album)', 'Alaska', 'Alcohol', 'Aldebaran', 'Alejandro', 'Alejate De Mi', 'Alerion (feat. NO)', 'Alexandra', 'Alguien Soy Yo', 'Alice', 'Alice Practise', 'Alienated', 'Alive', 'Alive (2006 Remastered Album Version)', 'Alive (nightmare)', 'Alkime', 'All About The Benjamins (Album Version)', 'All Alone', 'All Along The Watchtower', 'All Apologies', 'All At Once', \"All Day Sucker / Easy Goin' Evening\", 'All Ears', 'All Fall Down', 'All Falls Down', 'All Fired Up', 'All For Love', 'All For Swinging You Around', 'All Hands Against His Own', 'All I', 'All I Do Is Win (feat. T-Pain_ Ludacris_ Snoop Dogg & Rick Ross)', 'All I Ever Wanted', 'All I Hear', 'All I Need', 'All I Want', 'All I Want (Live LP Version)', 'All I Want Is You (Josh Harris Remix)', 'All In', 'All In Forms', 'All In Good Time', 'All In My Blood [Pittsburgh Sound] [Radio Edit]', 'All In The Suit That You Wear (Album Version)', 'All Is Love', 'All Men Are Liars', 'All Mine', 'All My Best Friends Are Metalheads', 'All My Friends', 'All My Friends Say', 'All My Life', 'All My Loving', 'All My Mistakes (US4BW0700133)', 'All Night', 'All Night Long', 'All Night Long (All Night)', 'All Night Operator (Part 1)', 'All Of Me', 'All Of The Champs That Ever Lived', 'All Of This', 'All Outta Angst', 'All Over Me', 'All Over You', 'All Right Now', 'All She Wants Is', 'All Star', 'All Summer Long', 'All Summer Long (Album Version)', 'All That I Need', \"All That I'm Asking For\", 'All That She Wants', 'All That She Wants (Banghra Version)', 'All That We Perceive', \"All That's Left\", 'All The Above [feat. T-Pain] (Explicit Album Version)', 'All The Kings Horns', 'All The Old Showstoppers', 'All The Pretty Faces', 'All The Right Moves', 'All The Same', 'All The Things That Go To Make Heaven And Earth', 'All The Way (Single Version)', 'All The Wild Horses', \"All The Woman (Recorded Live In London '99)\", 'All These Things I Hate [revolve Around Me] [album Version]', \"All These Things That I've Done\", 'All Things To All Men', 'All This Beauty', 'All This Time', 'All To All', \"All Tomorrow's Parties\", 'All We Are', 'All We Ever Do Is Say Goodbye', 'All We Know (Album Version)', 'All You Ever Wanted', 'All You Need Is Love', 'Alley Cats', 'Alley Oop (Girls Version) (2007 Digital Remaster)', 'Allison', 'Alma De Diamante', 'Almaz', \"Almeno Tu Nell'Universo\", 'Almost Cut My Hair', 'Almost Easy (Album Version)', 'Almost Grown', 'Almost Here (Album Version)', 'Almost Lover (Album Version)', 'Alone Again (Naturally)', 'Alone In Kyoto', 'Alone In This Bed (Capeside)', 'Alone With You', 'Alone in the dark', 'Alpha Beta Gaga', 'Alpha Male', 'Already Gone', 'Alright', 'Alright Hear This', 'Also Frightened', 'Always', \"Always (7'' Mix)\", 'Always Coming Back Home To You', 'Always Like This', 'Always Love (Album Version)', 'Always On My Mind (Album Version)', 'Always Remember', 'Always Something There To Remind Me', 'Always Where I Need To Be', 'Aló', 'Am I A Fool', 'Am I Evil?', 'Am I High (Feat. Malice)', 'Amame', 'Amanda', 'Amanecer', 'Amapola', 'Amarga Vida', 'Amarte Es Un Placer', 'Amazing', 'Amazing Grace (1999 Digital Remaster)', 'Ambling Alp (DJ /Rupture & Brent Arnold Remix)', 'Ameno', 'American Idiot [feat. Green Day & The Cast Of American Idiot] (Album Version)', 'American Ride', 'American Soldier', 'American Star', 'American Superstar [Feat. Lil Wayne] (Explicit Album Version)', 'American Terrorist [feat. Matthew Santos] (Explicit Album Version)', 'American Wedding', 'Amerika', 'Amerika (Album Version)', 'Amie', 'Amish Paradise (Parody of \"Gangsta\\'s Paradise\" by Coolio)', 'Amityville', 'Amor De Madre', 'Amor Prohibido', 'Amor de Loca Juventud', 'Amores De Barra', 'Amsterdam', 'Amy Amy Amy / Outro', 'América', 'An Ending (Ascent) (2005 Digital Remaster)', 'An Island', 'An Ocean Between Us', 'An Unsavoury Urge', 'Ana', \"Ana's Song (Open Fire)\", 'Analyse', 'And It Spread', 'And The Boys', 'Andalucia', 'Andar Conmigo', 'Andvari', \"Andy_ You're A Star\", 'Anesthetize [Album Version]', 'Angel', 'Angel / Better Together', 'Angel De Orión', 'Angel Echoes', 'Angel From Montgomery', 'Angel Malherido', 'Angel Of Death', 'Angel On My Shoulder (EDX Radio Edit)', 'Angel With The Scabbed Wings', 'Angeles', 'Angelica', 'Angelina', 'Angels (Album Version)', 'Angels Cry', 'Angels Fall First', 'Angie', 'Angie (1993 Digital Remaster)', 'Angry Chair', 'Animal', 'Animal Instinct', 'Animals [Live In Atlanta]', 'Annan Water', \"Anne's Song\", 'Annie (Album Version)', 'Annihilation', 'Annihilation By The Hands Of God (Album Version)', 'Anoche Soñé Contigo', 'Anonanimal', 'Anonymous', 'Another Day', 'Another Day In Paradise', 'Another Girl Another Planet', 'Another Great Divide', 'Another Place', 'Another Rainy Day', 'Another Saturday Night', 'Another Song About The Weekend', 'Another Song About The Weekend [Acoustic]', 'Another Time Another Place', 'Another Town', \"Another Travelin' Song (Album Version)\", 'Another Try', 'Another Way To Die', 'Ante Up (Robbin Hoodz Theory)', 'Anthem For The Year 2000', 'Anthems For a Seventeen Year-Old Girl', 'Anxiety', 'Any Colour You Like', 'Any Man', 'Anybody Wanna Take Me Home', 'Anyone Else But You', 'Anything But Ordinary', 'Anything New', 'Anytime You Need A Friend', 'Anywhere Is', 'Apache (LP Version)', 'Apologize', 'Apology', 'Apple', 'Apple Orchard', 'April 8th', 'April Showers', \"Apuesta Por El Rock 'N' Roll\", 'Aqui No Es Asi', 'Arboretum', 'Arc Of Time (time Code) (Album Version)', 'Arcade Robot', 'Arcadia', 'Arco Arena', 'Arde el cielo', 'Are We The Waiting [feat. Green Day & The Cast Of American Idiot] (Album Version)', 'Are You Dead Yet', 'Are You Gonna Be My Girl (Album Version)', 'Are You Hurting The One You Love?', 'Are You In?', 'Are You That Somebody? ( LP Version )', 'Area Codes', 'Arguru', 'Arise', 'Arizona', 'Arma dispuesta', 'Armada Latina (feat. Pitbull and Marc Anthony)', 'Armchairs', 'Armed And Ready (2009 Digital Remaster)', 'Armistice', 'Armour Love', 'Arms Of A Woman', 'Army of Me', 'Around The World (Motorbass Vice Mix)', 'Around The World (Radio Edit)', 'Around The World / Harder Better Faster Stronger', 'Arriving Somewhere But Not Here (Album Version)', 'Arroyito', \"Art Isn't Real (City Of Sin)\", 'Art is Hard', 'Artifacts of the black rain', 'As Good As I Once Was', 'As I Am', 'As I Rise', 'As Lovers Go', 'As Serious As Your Life', 'As The Sun Still Burns Away (2002 Digital Remaster)', 'As The World Turns', 'Asche Zu Asche', 'Asesíname', 'Ashes', 'Ashes And Wine', 'Ashes To Ashes', 'Ask', 'Ask Me No Questions', 'Ask The Mountains', 'Ask about me', 'Asking Around For You', 'Asleep', 'Asleep On A Sunbeam', 'Astair', 'Astro Zombies', 'Astronaut', 'At Last', 'At The Back Of The Shell', 'At The Beach', 'At The Beginning (LP Version)', 'At The Bottom Of Everything', 'Atlantic', 'Atlantis To Interzone', 'Atlas Air', \"Atomic '98 (Xenomania Mix)\", 'Atrevete Y Mirame', 'Atrevido', 'Atrévete te te', 'Attention', 'Attention (Album Version)', 'Attica Blues', 'Auburn and Ivory', 'Audience Of One', 'Auditorium', 'Aunt Eggma Blowtorch', 'Australia', 'Australia (Album)', 'Auto Rock', 'Auto rojo', 'Auto-Dub', 'Autobiography', 'Automatik', 'Automobile (Feat. Eazy-E)', 'Automotywacja', 'Autumn (Album)', 'Autumn Almanac', 'Autumn Music 2', \"Autumn's Child\", 'Available [feat. Akon] (Album Version)', 'Avalon', 'Ave Maria', 'Ave Maria No Morro', 'Avery Island / April 1st', 'Awake', 'Away From The Sun', 'Away With Murder', 'Aww Skeet Skeet', 'Axel F', 'Axel F (Radio Edit)', 'Ay Dios', 'Ay Mama', 'Azure', 'B-B-B-Baby', 'B.I.G. (Interlude)(Amended Version)', 'B.O.B.', 'BB Good', 'BENZIN', 'Babel', 'Baby', 'Baby (Album Version)', 'Baby Blue Eyes (Album Version)', 'Baby Boy [feat. Beyonce]', 'Baby Come Back', 'Baby Daddy (Amended Version)', 'Baby Did A Bad Bad Thing (LP Version)', 'Baby Doll (Edited)', 'Baby Fratelli', 'Baby Got Back', 'Baby I Want You', \"Baby I'm A Fool\", \"Baby I'm Yours\", \"Baby I'm-A Want You (LP Version)\", \"Baby It's You\", 'Baby Let Me Take You Home', 'Baby Love', 'Baby M', \"Baby Now That I've Found You\", \"Baby [You've Got What It Takes] [with Sharon Jones & the Dap-Kings]\", 'Baby said', \"Baby's Got Sauce\", 'Baby_ I Go Crazy', 'Baby_ I Love Your Way (Album Version)', \"Baby_ It's Fact\", 'Babylon', 'Babylon Sisters', 'Bachelorette (Family Tree Version)', 'Back 2 Good (LP Version)', 'Back Against The Wall', 'Back At One', 'Back Down', 'Back Home (Album Version)', 'Back In The Day', 'Back In Time', 'Back In Time (LP Version)', 'Back It Up', 'Back Porch', 'Back That Azz Up', 'Back To Black', 'Back To Life (Album Version)', 'Back To Life (However Do You Want Me) (2003 Digital Remaster) (Feat. Caron Wheeler)', 'Back To Me', 'Back To School (Mini Maggit) (LP Version)', 'Back To The Ground', 'Back To The Old House', 'Back To You', 'Back from hell', 'Backdoor Love Affair (LP Version)', 'Backdrifts', 'Backstabber', 'Bad', 'Bad Actors', 'Bad Apples', 'Bad Boys', 'Bad Company', 'Bad Day (Album Version)', 'Bad Detective', 'Bad Girlfriend [Explicit]', 'Bad Is Bad', 'Bad Luck', 'Bad Meets Evil', 'Bad Moon Rising', 'Bad News', 'Bad Sneakers', 'Bad Trails', 'Bad Weed', 'Bada', 'Bag Lady', 'Baggy Trousers', 'Bagpipes From Baghdad', 'Baila Esta Cumbia', 'Bailamos', 'Baker Street (Edit)', \"Baker's Blue Jay Yarn\", 'Balaclava', 'Balada Del Diablo y La Muerte', 'Ball & Chain (Album)', 'Ball And Chain', \"Ball Of Confusion (That's What The World Is Today)\", 'Ballad Of A Comeback Kid', 'Ballad Of Big Nothing', 'Ballad Of Mott The Hoople', 'Balloons (Single version)', 'Baltimore Blues No. 1', 'Bam Bam', 'Banana Co', 'Banana Ghost', 'Band of Gold', 'Bandelero', 'Bang Bang', 'Bang On The Drum', 'Bankrupt On Selling', 'Banned Announcement', 'Banquet', 'Banquet (Phones Disco Edit)', 'Baobabs (Bonus Album Version)', 'Baptism', 'Bar Tacuba', 'Bard Dance', 'Barely Breathing (LP Version)', 'Barfly', 'Bark At The Moon', \"Bartender Song (Sittin' At A Bar)\", 'Basic Space', 'Bass Solo', 'Bastards on Parade', 'Bat Country (Album Version)', 'Batdance ( LP Version )', 'Battle', 'Battle For The Sun', 'Be (Intro)', 'Be Aggressive', 'Be Aware', 'Be Good Or Be Gone', 'Be Kind', 'Be Less Rude', 'Be Like You', 'Be My Baby', 'Be My Lover', 'Be On You [feat. Ne-Yo] (Album Version)', 'Be Somebody', 'Be Wild', 'Be With You', 'Be Yourself (Album Version)', 'Beach Baby', 'Beach Party', 'Beat Goes On [Featuring Kanye West] (Album Version)', 'Beat It', 'Beat Somebody Up', 'Beatbox (Nus Track)', 'Beatnik Beach (Live) (1981)', 'Beauties Can Die', 'Beautiful', 'Beautiful Bride', 'Beautiful Dangerous (featuring Fergie)', 'Beautiful Day Without You', 'Beautiful Disaster', 'Beautiful Friday', 'Beautiful Liar', 'Beautiful Life', 'Beautiful Morning', 'Beautiful Stranger', 'Beautiful_ Beautiful (Album)', 'Beautiful_ Dirty_ Rich', 'Beauty Beats', 'Beauty School (Album Version)', 'Bebot', 'Because I Got High', 'Because Of You (Album Version)', 'Because The Night [MTV Unplugged Version]', 'Because We Can', \"Because We're Dead\", 'Because You Loved Me', 'Becoming Insane', 'Becoming [Live Version]', 'Bed', 'BedRock (Radio Edit) (feat.Lloyd)', 'Bedlam 1-2-3', 'Bedroom Boom (Feat. Avant)', 'Bedroom Suite', 'Beds Are Burning', 'Been A Son', 'Been Around The World (Featuring The Notorious B.I.G. & Mase)(Album Version)', 'Been Caught Stealing ( LP Version )', 'Beer', 'Before I Forget (Album Version)', 'Before I Let You Go', 'Before You Accuse Me', 'Before You Accuse Me (Album Version)', 'Before You Cry', \"Beggin'\", 'Beginners Falafel', 'Behave', 'Behind Blue Eyes', 'Behind Closed Doors', 'Behind The Screams', 'Behind The Sea [Live In Chicago]', 'Behind The Sun', 'Bela Flor', 'Believe', 'Believe (Album Version)', 'Believe In Me (A&T Remix)', 'Bella', \"Bella's Lullaby (Twilight Soundtrack Version)\", 'Belle', 'Bellevue', 'Beloved', 'Beloved Kitty and the Piercing Bolts of Amor', 'Ben', 'Bend & Flush', 'Bendable Poseable', 'Beneath The Surface', 'Beneath an Evening Sky', 'Bent (LP Version)', \"Bentley's Gonna Sort You Out\", 'Berlin Heart', 'Bermuda', \"Bernie's Funeral/ Auto Asphixiation\", 'Besame', 'Besame Mucho', 'Besos', 'Best I Ever Had', 'Best Of Both Worlds (Remastered Album Version)', 'Best Thing', 'Bestrafe Mich', 'Bette Davis Eyes', 'Better Days', 'Better Days To Come', 'Better Man', 'Better Off Alone', 'Better Off Dead', 'Better Than (Album Version)', 'Better Than Me', 'Better That We Break', 'Better The Devil You Know (Showgirl Tour)', 'Better Things', 'Better To Reign In Hell', 'Better Together', 'Better Version Of Me', 'Better in time', 'Betterman (full-length/album version)', 'Between A Man And A Woman', 'Between The Bars', 'Between The Lines', 'Between Two Lungs', 'Between Us And Them', 'Bewildered', 'Bidi Bidi Bom Bom', 'Big Big Love (Fig .2)', 'Big Big World', 'Big Booty Hoes (Featuring Too $hort) (Album Version)', 'Big Boss Man', 'Big Brother', 'Big Calm', 'Big Casino', \"Big Girls Don't Cry\", 'Big Green Tractor', 'Big Idea', 'Big In Japan (Original)', 'Big Jet Plane', 'Big Lost', 'Big Me', 'Big Munny', 'Big My Secret', 'Big Poppa', 'Big Sur', 'Big Time Sensuality', 'Big Trouble', 'Big Weenie', 'Big Yellow Taxi', 'Big Yellow Taxi (Remastered LP Version)', 'Bigger', 'Bigger Boys And Stolen Sweethearts', 'Bigger Boys and Stolen Sweethearts', \"Bigger Isn't Better\", 'Bigger Stronger', 'Bigmouth Strikes Again', 'Bill Murray', 'Billie Jean', 'Billionaire', 'Billionaire [feat. Bruno Mars]  (Explicit Album Version)', 'Billy (Album Version)', 'Billy Breathes', 'Billy Liar', 'Bird Song', 'Bird Song Intro', 'BirdFlu', 'Birds', 'Birds Of A Feather', 'Birds and the Bees', 'Birthday', 'Birthday Sex', 'Biscuit', 'Bitch', 'Bitch Please (Explicit) (Feat. Xzibit)', 'Bitter Sweet Symphony', 'Bitter Sweet Symphony (2004 Digital Remaster)', 'Bittersweet', 'Bittersweet Memories', 'Bizarre Love Triangle', 'Bla Bla Bla (Abbentenza In FM Mix)', 'Black', 'Black & Blue', 'Black And White', 'Black Balloon', 'Black Betty', \"Black Betty (In The Style Of 'Ram Jam')\", 'Black Bird', 'Black Cadillacs', 'Black Cat (Album)', 'Black Cherry', 'Black Cloud', 'Black Door', 'Black Eyed Dog (Album Version)', 'Black Heroes', 'Black Hole', 'Black Hole Sun', 'Black Horse And The Cherry Tree (Radio Version)', 'Black Is Black', 'Black Is My Color', 'Black Jack County Chains', 'Black Mags', 'Black Man Ray', 'Black Masks & Gasoline', 'Black Mirror', 'Black Mission Goggles', 'Black Mud', 'Black Refuge', 'Black River', 'Black River Killer (Album)', 'Black Rose Dying (Album Version)', 'Black Sands', 'Black Star', 'Black Swan', 'Black Water', 'Black Wave (Album)', 'Black Wave/Bad Vibrations', 'Black and White', 'Blackberry Stone', 'Blackbird', 'Blackbirds', 'Blackest Eyes (Album Version)', 'Blagunyo Denche', 'Blake\\x19s View', 'Blame It', 'Blame It On The Boogie', 'Blame It On The Rain', 'Blame It On The Tetons', 'Blank Expression', 'Blasphemous rumours', 'Bleacher', 'Bleed It Out [Live At Milton Keynes]', 'Bleeding Heart', 'Bleeding Hearts', 'Bleeding Love', 'Bleeding Mascara (Album Version)', 'Bleeding Me', 'Blessa', 'Blessed Be Your Name', 'Blind', 'Blind Date', 'Blinded [When I See You]', 'Blindfold', 'Blindsided', 'Bling (Confession Of A King)', 'Bliss', 'Blister In The Sun', 'Blood', 'Blood Bank', 'Blood On The Ground', 'Blood Red', 'Blood To Bleed', 'Blood sugar', 'Blood-Red White & Blue', 'Bloodstream', 'Bloody Well Right', 'Blow Away', 'Blow Me Away', 'Blow Out', 'Blow Up The Outside World', 'Blu Elettrico', 'Blue', 'Blue (Da Ba Dee)', 'Blue Beard', 'Blue Blood', 'Blue Christmas', 'Blue Collar Man (Long Nights)', 'Blue Eyes', 'Blue In Green', 'Blue Magic', 'Blue Mind', 'Blue Monday', 'Blue Moon', 'Blue On Black (Album Version)', 'Blue Orchid', 'Blue Savannah', 'Blue Shoes', 'Blues In The Night', 'Bluish', 'Blumenthal', 'Blumenwiese Neben Autobahn', 'Blurry', 'Boadicea', 'Bob', 'Bodies', 'Bodies Hit The Floor', 'Body In A Box', \"Body Movin'\", 'Bold As Love', 'Bolinha De Papel', 'Bom_ Bom - Suenan', 'Bombay', 'Bombtrack', 'Bonafied Lovin (Radio Edit)', 'Bone Machine', 'Bones', 'Bonita Applebum', 'Bonkers', 'Bonnie And Clyde', 'Bontempi Latin', 'Boogie Shoes', 'Book Of Brilliant Things (2002 Digital Remaster)', 'Books Written For Girls', 'Booksmart Devil', 'Boom (2006 Remastered Album Version)', 'Boom (Album Version)', 'Boombastic', 'Boombox', \"Boot Scootin' Boogie\", 'Boots &  Boys', 'Boots On', \"Bootstrap's Bootstraps\", 'Bootycall', 'Borders', \"Born In The 50's\", 'Born On The Bayou', 'Born Slippy', 'Born To Be Wild', 'Born To Run', 'Born Too Slow', 'Born With A Broken Heart (Album Version)', 'Born to raise hell', 'Bossa Nova Cha Cha', 'Bossy (Edited) (Feat. Too $hort)', 'Boten Anna [Radio edit]', 'Bottle And A Gun', 'Bottle Of Red Wine', 'Bottle Pop', \"Bottle Poppin' (feat. Gorilla Zoe) (Explicit Album Version)\", 'Bottom Of the Barrel', 'Bottom of a Bottle (Explicit Album Version)', 'Bounce', 'Bounce That', 'Bouncing Around The Room (LP Version)', 'Bouncing Off The Walls', 'Bound For The Floor', 'Bow Down', 'Bowls', 'Boy From School (Hot Chip Re-Work)', 'Boy With The Coin', \"Boy's Life\", 'Boyfriend', 'Boys Boys Boys', \"Boys Don't Cry\", 'Boys Will Be Boys', 'Boyz-N-The-Hood', 'Brackett_ WI', 'Brain (Edited)', 'Brainfeeder', 'Brand New Colony (Album)', 'Brand New Day', 'Brand New Key', 'Brandenburg', \"Brandy (You're A Fine Girl)\", 'Bratislava', 'Brave The Elements', 'Brazil', 'Breadfan', 'Break It Off', 'Break My Body', 'Break Out! Break Out!', 'Break Stuff', 'Break Through', 'Break Up To Make Up', 'Break Your Little Heart', 'Breakbeat Suckers', 'Breakdown', 'Breakdown (Album Version)', 'Breakeven', \"Breakfast At Tiffany's\", \"Breakin'\", \"Breakin' At The Cracks\", \"Breakin' Dishes\", \"Breakin' The Law\", 'Breaking Down The Walls Of Heartache', 'Breaking The Girl (Album Version)', 'Breaking The Habit (Album Version)', 'Breakout', 'Breakthru', 'Breathe', 'Breathe (2 AM)', 'Breathe (Album Version)', 'Breathe (Amended Album Version)', 'Breathe . Something/Stellar STar', 'Breathe In', 'Breathe Into Me', 'Breathing', 'Breathless', 'Breed', 'Brian Eno', 'Brianstorm', 'Brick', 'Brick By Brick', 'Bricks', 'Bright Lights (Remastered Version)', 'Brillante sobre el mic', 'Brimful Of Asha - The Norman Cook Remix (Single Version)', 'Brimstone Landscapes', 'Bring Em Back Alive', 'Bring Me To Life', 'Bring Me Your Cup', 'Bring The Noize', 'Bring The Pain', 'Bring Your Daughter...To The Slaughter (1998 Digital Remaster)', 'Bringing Us Down', 'Broken', 'Broken Arrows', 'Broken Boy Soldier', 'Broken Breads', 'Broken Face', 'Broken Hearts', 'Broken-Hearted Girl', 'Broken_ Beat & Scarred', 'Brokenheartsville', 'Brompton Cocktail (Album Version)', 'Brooklyn Bound', 'Brooklyn King', 'Brooklyn Zoo [Explicit Version]', 'Bros Sto Rimagmeno Spiti (2003 Digital Remaster)', 'Brother', 'Brother Against Brother', 'Brother Sport', 'Brothers', 'Brothers & Sisters', 'Brothers on a Hotel Bed (Rolling Stone Original)', 'Brown Eyed Girl (2004 Digital Remaster)', 'Brown Skin', 'Brown Sugar (Edited)', 'Bruise', 'Bruised (Snakes Remix)', 'Bryn (Album)', 'Bubble Toes', 'Bubble Toes / Express Yourself', 'Bubbles', 'Bubbles They Bounce', 'Bubbly', 'Buddy Holly', 'Buffalo Bill', 'Buffalo Stance', \"Build God_ Then We'll Talk (Album Version)\", 'Build High', 'Building Steam With A Grain Of Salt', 'Bukowski', 'Bulgarian  Chicks', 'Bulizás', 'Bullet And A Target', 'Bullet Proof', 'Bullet Tells The Truth', 'Bulletproof', 'Bullets', 'Bulls On Parade', 'Burden In My Hand', 'Burden of Tomorrow', 'Burial', 'Burn', 'Burn (LP Version)', 'Burn Clear', 'Burn It To The Ground (Album Version)', 'Burn My Shadow', 'Burn Your Life Down (Album Version)', \"Burnin' (Edit version)\", \"Burnin' / Too Long\", \"Burnin' Sky\", \"Burnin' Up\", 'Burnout (Album Version)', 'Bury Me With It', 'Bury The Living', 'Bury Your Head', 'Business Time (Album)', 'Bust A Move', 'Bust a Move', 'Busted', 'Buster', 'But Tonight We Dance', 'Butterflies and Hurricanes', 'Butterfly', 'Butterfly Caught (Radio Edit)', 'Butterfly Fly Away', 'Buttons', \"Buzzin'\", 'By The Sword (featuring Andrew Stockdale or Wolfmother)', 'By The Time I Get To Arizona', 'By Your Side', 'Bye Bye', 'Bye Bye Baby', 'Bye Bye Beautiful', \"Bérangère's Nightmare\", 'Bück Dich', \"C'mere\", \"C'mon C'mon\", \"C'mon C'mon (Album Version)\", \"C'mon Girl (Album Version)\", 'C-C-C-Cinnamon Lips', 'C.S. Lewis Song', 'CHILDREN', 'CIEÑ', 'CMYK', 'COLORADOSUNRISE (Explicit Album Version)', 'Ca plane pour moi', 'Cabe-c-o', 'Cadillac', 'Cae El Sol', 'Café Del Mar', 'Calabria 2007', 'Calabria 2008', 'Calendar girl', 'California', 'California (LP Version)', \"California Dreamin'\", 'California English', 'California One / Youth and Beauty Brigade', 'California Waiting', 'California Über Alles', 'Californication (Album Version)', 'Call It Off (Album Version)', 'Call Me If You Need Me', 'Call Me Up', 'Call Me When You Get This', 'Call On Me', 'Call The Doctor', 'Call To Arms', 'Call U Out (Album Version)', 'Calling All Angels', 'Calling You', 'Calm Before The Storm (Album Version)', 'Calm Down Baby', 'Calm Like A Bomb', 'Camaro', 'Camel', 'Camera Shop', 'Camera Talk', 'Camisado [Live In Chicago]', 'Campus (Album)', \"Can I Get Witcha (Featuring Lil' Cease)(Album Version)\", 'Can I Stay', 'Can You Hear Me', 'Can You Tell', \"Can't Be Saved\", \"Can't Believe (Album Version)\", \"Can't Buy Me Love (Album Version)\", \"Can't Deny It [featuring Nate Dogg] [Explicit Version]\", \"Can't Fight The Moonlight (Theme From 'Coyote Ugly')\", \"Can't Fight This Feeling\", \"Can't Get Away (2006 Remastered LP Version)\", \"Can't Get Enough Of Your Love_ Babe\", \"Can't Go Back Now\", \"Can't Have You\", \"Can't Help But Wait (Album Version)\", \"Can't Help Falling In Love (Album Version) (Studio)\", \"Can't Let You Go featuring Mike Shorey & Lil' Mo  (Main LP Version)\", \"Can't Make You Love Me\", \"Can't Repeat\", \"Can't Smile Without You\", \"Can't Stand Me Now\", \"Can't Stop\", \"Can't Take It\", \"Can't Take My Eyes Off Of You\", \"Can't Take My Eyes Off You\", \"Can't You See\", 'Canada', 'Canal 69', 'Cancer', 'Canción Para Luchar', 'Candy', 'Candy Rain', 'Candyman', 'Cannabis', 'Cannonball', 'Cantaloop (Flip Fantasia)', 'Cape Cod Kwassa Kwassa (Album)', 'Captain America', \"Captain Kelly's Kitchen\", 'Captains and Cruise Ships', 'Capturing Moods', 'Car (Album)', 'Car Crash', 'Car Wash', 'Caraluna', 'Caravan Of Love', 'Cards & Quarters', 'Careful', 'Careful (Album Version)', 'Careful Where You Stand', 'Careless Whisper', 'Caring Is Creepy', 'Carmensita', 'Carnaval de Brasil', 'Carnival', 'Carol', 'Carolina', 'Caroline', 'Carousel (Album)', 'Carousels', 'Carpates', 'Carried Away [Demo]', 'Carries On', 'Carrion', 'Carry Me In Your Dreams (Albania)', 'Casio Bossa Nova', 'Cassie', 'Cassius (album version)', 'Casting A Spell (Remixed) (1998 Digital Remaster)', 'Castle On A Cloud', 'Castles In The Sky', 'Cat And Mouse', 'Cat Claw', 'Cat People (Putting Out Fire)', 'Cataracts', 'Catastrophe And The Cure', 'Catch Me', 'Catch You Baby (Steve Pitron & Max Sanna Radio Edit)', 'Cath... (Album Version)', 'Cathar Rhythm', 'Cathedral   (LP Version)', 'Cats In The Cradle', 'Caught By The River', 'Caught In A Mosh', 'Caught Out There (Explicit)', 'Caught Up In You', \"Cay's Crays\", 'Ce Jeu', 'Cearc Agus Coileach / The Hen And Cock', 'Celebration', 'Celebrity Skin', 'Celestica', 'Cemetary Gates (LP Version)', 'Cemeteries Of London', 'Cemetery Gates', 'Centerfield', 'Centre For Holy Wars', 'Century', 'Cerca De La Revolución', 'Cerdo', 'Ceremony', 'Certified', 'Ch-Check It Out', 'Chain Hang Low', 'Challengers', 'Chambermaid Swing', \"Champagne's For Celebrating (I'll Have A Martini) (Album)\", 'Champion', 'Champion Sound', 'Chan Chan (Live)', 'Chances', 'Change', 'Change (Album Version)', 'Change Clothes', 'Change Down / The Sugar Rhyme', 'Change Is Hard', 'Changed My Mind', 'Chant A Psalm', 'Chantilly Lace', 'Chapel Of Ghouls (Live)', 'Chapter Four', 'Charade', 'Chariot', 'Charlotte Sometimes', 'Charly (Trip Into Drum And Bass Version) (Remastered)', 'Charmer', 'Charmless Man', 'Chasing Cars', 'Chattahoochee', 'Chattanooga Choo Choo (2004 Digital Remaster)', 'Che Sara', 'Cheap And Cheerful', 'Cheating On You', 'Check My Brain', 'Check On It', 'Check Yes Juliet', \"Cheers Darlin'\", 'Chelsea Burns (Live In Reykjavik 2008)', 'Chemo Limo (Remastered Version)', 'Cherbourg', 'Cherish', 'Cherish The Day', 'Cherry Blossom Girl (Fanny Demo Version)', 'Cherry Bomb', 'Cherry Lips (Go Baby Go!) (Re-mastered 07)', 'Cherry Red (Groundhogs Cover)', 'Cheryl Tweedy', 'Chevaliers De Sangreal', 'Chevy Smile (featuring Trick Daddy_ Block & Jazze Pha) (Amended Album Version)', 'Chi Mai (El Profesional)', 'Chicken Fried (Album)', 'Chicks Dig It', \"Children's Story\", 'Children_ Go Where I Send Thee', 'Chill Out (Things Gonna Change)', 'China Roses', 'Chinese', 'Chipi-Chipi', 'Chocolate', \"Chop 'em Down\", 'Choppers', 'Choux Pastry Heart', \"Chris And Kevin's Excellent Adventure\", 'Christine', 'Christmas Card From A Hooker In Minneapolis', 'Christmas Is My Favorite Time Of The Year', 'Christmas Tears Will Fall', 'Christmas Time Is Here', 'Chump (Album Version)', 'Chump Change', \"Chunga's Revenge\", 'Church', 'Cicatriz Esp', 'Ciega_ Sordomuda', 'Cigarettes_ Wedding Bands (Album)', 'Cindy Fait Semblant', 'Circle (Album Version)', 'Circles', 'Circling', 'Circo Beat', 'Circuit Breaker', 'Circus', 'Cissy Strut', 'Citizen Erased', 'Citizen/Soldier', 'Citizens Of The World', 'City', 'City Love', 'City Of Angels', 'City Of Delusion', 'City Of The Dead', 'City On Our Knees', 'Civil War', 'Ciúmes Da Lua', 'Clampdown', 'Clap Again', 'Clara meets Slope - Hard To Say', 'Clarity', 'Clark Gable (Album)', 'Classico', 'Clear', 'Clear Blue Water', 'Clementine', 'Clenching The Fists Of Dissent (Explicit Album Version)', 'Click Click Boom', 'Cliffs Of Dover', 'Climbing Up The Walls', 'Clint Eastwood', 'Clint Eastwood (Ed Case/Sweetie Irie Refix) (Edit)', 'Clint Eastwood (Explicit)', 'Cliquot', \"Clobberin' Time\", 'Clock', 'Clocks', 'Clockwork Skinhead', 'Close My Eyes', 'Close My Eyes Forever', 'Close To You', 'Closer', 'Closer To Love', 'Closer To The Heart', 'Closer To The Sun', 'Clothes Off!!  (Explicit Album Version)', 'Clouds (Of Color Bright Album Version)', \"Clubbin' featuring Joe Budden (Remix) (Bonus Track)\", 'Clumsy', 'Cocaine Habit', 'Cockney Thug', 'Coconut Skins', 'Cocoon', 'Coda', 'Code Monkey', 'Coffee And TV', 'Coffee Shop Soundtrack', 'Coffee Shop [Feat. Gorilla Zoe] (Explicit Album Version)', 'Coin-Operated Boy', 'Cold As You', 'Cold Blooded (Acid Cleanse)', 'Cold Day In The Sun', 'Cold December', 'Cold Desert', 'Cold Gin', 'Cold Summer', 'Cold Water', 'Cold night for alligators', 'Coldest Winter', 'Coleccionista De Canciones', 'Coleccionista De Canciones  (Version Acustica)', 'Colgando en tus manos (con Marta Sanchez)', 'Collect Call', 'Collecting Skylines', 'Collide (Album Version)', 'Colony Of Birchmen (Album Version)', 'Colorado', 'Colors', 'Colors Of The Wind', 'Colossal', 'Colour My World (Remastered LP Version #2/GH)', 'Colourful', 'Colourless Colour', 'Comatose (Album Version)', 'Comatose (Comes Alive Version)', 'Combat', 'Combat Rock', 'Come & Talk To Me', 'Come A Little Closer', 'Come Around', 'Come As You Are', 'Come Back Home', 'Come Back Margaret', 'Come Back To Bed', 'Come Back To Me', 'Come Back to Me', 'Come Clarity', 'Come Fly With Me (Album Version)', 'Come Gangsta', 'Come Home', 'Come In With The Rain', 'Come Into My Bedroom (LP Version)', 'Come Into My World', 'Come Let Go', 'Come On (Featuring Sadat X)(Album Version)', 'Come On Come On (Digital Album Version)', 'Come On Eileen', 'Come On Over (All I Want Is You)', 'Come One_ Come All', 'Come To Me', 'Come With Me', 'Comet Course', 'Comfort Eagle', 'Comfortably Numb', 'Coming Home', 'Coming Of Age', 'Coming Up Roses', 'Coming Your Way', 'Comme des enfants', 'Commissioning A Symphony In C', 'Common Denominator', 'Common Pleasure [Eagles Ballroom Live Version]', 'Common Reactor', 'Commotion', 'Communication', 'Communication Part 3', \"Communion Cups and Someone's Coat (Album)\", 'Communist Daughter', 'Como Brillaba tu Alma', 'Como Duele (Album)', 'Como La Flor', 'Como Los Olivos', 'Como Me Mira', 'Como Un Sueño (Am I Dreaming)', 'Company', 'Compañera', 'Complaint Department', 'Complicated', 'Complications', 'Composure', 'Con La Mano Levantá', 'Con Mis Manos', 'Con Te Partirò', 'Con sólo una mirada', 'Condemn Me Society (Katadikase me koinonia)', 'Condom (Album Version)', 'Confessions', 'Conflict (Album Version)', 'Congratulations', 'Congratulations_ I Hate You', 'Conquest Of Paradise', 'Consequence Of Sounds', 'Consolation Prizes', 'Conspiracy (Album Version)', 'Constant Knot', 'Constellations', 'Contagious', 'Conteo', 'Continents', 'Contra La Corriente', 'Control', 'Converting Vegetarians', 'Cookie Jar [feat. The-Dream] (Explicit Album Version)', 'Cool Dry Place (2007 Remastered LP Version)', 'Cooler Than Me', 'Copacabana (At The Copa)', 'Corazon Espinado', 'Corn Bread', 'Corrido de Boxeo', 'Corynorhinus', 'Cosmic Dancer', 'Cosmic Game', 'Cosmic Love', 'Costruire', 'Costumbres Argentinas', 'Costume Party', 'Cotton Eye Joe (Explicit)', 'Cotton Fields (The Cotton Song) (Digitally Remastered 01)', 'Could It Be You (punk Rock Chick)', 'Could We', 'Count On Me (Somebody)', 'Countdown', 'Country House', 'Country Mile', 'Country Road', 'County Line', 'Courage', 'Courtesy Laughs', 'Courtesy Of The Red_ White And Blue (The Angry American)', 'Courtship Dating', 'Cousin Dupree', 'Cousins', 'Cover Me', 'Cover My Eyes', 'Cowboys', 'Crack A Bottle', 'Crack The Shutters', 'Crack The Skye (Album Version)', 'Crack Under Pressure', 'Crackers and Cheese', 'Crank That (Soulja Boy)', 'Crash / Concrete', 'Crawling (Album Version)', 'Crazier', 'Crazy', 'Crazy Bitch (Album Version)', 'Crazy Eyes', 'Crazy For This Girl', 'Crazy For You No Kisetsu (Album Version)', 'Crazy In Love', 'Crazy In The Night (Barking At Airplanes)', 'Crazy Little Thing Called Love', 'Crazy Little Thing Called Love (Album Version)', 'Crazy Love', 'Crazy On You', 'Crazy Rap (Cold 45 & 2 Zig Zags)', 'Cream ( LP Version W/O Rap Monologue )', 'Creator [vs. Switch and FreQ Nasty]', 'Creature', 'Creature Fear', 'Creatures (For A While)', 'Crece La Voz', 'Creep (Explicit)', 'Creep (LP Version)', 'Creepin Up The Backstairs', 'Creil City', 'Crepuscule With Nellie', 'Crescendolls', 'Cricketz [feat. Tyga] (Explicit Album Version)', 'Crimewave (Crystal Castles vs Health)', 'Criminal', 'Crimson And Clover', \"Crockett's Theme\", 'Cross Of Christ', 'Crosses', 'Crossfire', 'Crosshairs', 'Crossing Over', 'Crossroads', 'Crown Of Love', 'Crown Royal', 'Crucifucks (Album Version)', 'Cruel Summer', 'Cruise Control', 'Crumpshit', 'Crunk Juice', 'Cry', 'Cry For Help (Album Version)', 'Cry Me A River', 'Cry Me Out', 'Cry No More', \"Cryin' Blues\", 'Crying', 'Crying At The Aquarium', 'Crying Like A Church On Monday', 'Crying Shame', 'Crystal Blue Persuasion', 'Cuando Estés Acá', \"Cuando Me Enamoro (Quando M'Innamoro)\", 'Cuando Nadie Me Ve', 'Cuando Pase El Temblor', 'Cuando los ángeles lloran', 'Cubism Dream', 'Cuddle Fuddle', 'Cudi Zone', 'Cuidándote', 'Culling Of The Fold', 'Culpa', 'Cult Logic', 'Cult Status', 'Cum On Everybody', 'Cupid', 'Cupid Shuffle [The Scumfrog Club Mix]', 'Curs in the Weeds', 'Curtains Close', 'Cut', 'Cut Throat (feat. The Game_ Jim Jones & Block) (Amended Album Version)', 'Cute Without The E (cut From The Team) (Album Version)', 'Cuts Like A Knife', 'Cuídate', 'Cyanide Sweet Tooth Suicide (Album Version)', 'Cyborg', 'Cycling Trivialities', 'Cyclone (feat.Mikeal & T-Pain)', 'D is for Dangerous', \"D'Evils\", 'D.A.N.C.E [MSTRKRFT Remix]', 'D.A.N.C.E. [Radio Edit]', 'D.O.A. Part 2', 'DARE', 'DLZ', 'DOA', 'DONTTRUSTME (Explicit Album Version)', 'DONTTRUSTME [BENNYBLANCOREMIX] FEATURINGKIDCUDI (Explicit Bonus Version)', 'DVNO', 'Da Baddest [Feat. Trey Songz] (Explicit Album Version)', 'Da Funk', 'Da Funk (Radio Edit)', 'Daddy', \"Daddy's Eyes\", 'Daft Punk Is Playing At My House', 'Daisy', 'Daisy And Prudence', 'Dakota (Album Version)', 'Dam That River', 'Damage Inc.', 'Damaged Goods', 'Damelo', 'Damn Girl', 'Dance Hall', 'Dance Hall Days', 'Dance Little Liar', 'Dance Me To The End Of Love', 'Dance Sister Dance (Baila Mi Hermana)', 'Dance The Way I Feel', 'Dance To The Music', 'Dance With Somebody', 'Dance with a Devil', 'Dance4life', 'Dance_ Dance', \"Dancin' On The Killing Floor\", 'Dancing Choose', \"Dancing In The Moonlight (It's Caught Me In It's Spotlight)\", 'Dancing In The Street (Remastered Album Version)', 'Dancing Shoes', 'Dancing With Tears In My Eyes', 'Dancing in the Moonlight', 'Danger', 'Danger Man', 'Dangerous', 'Dangerous Animals', 'Dangerously In Love', 'Daniel Cowman', 'Danny Boy', 'Dans Ma Bulle (Edit Radio - Live 2006)', 'Danse Pour Moi', 'Dark Blue (Album Version)', 'Dark Matter', 'Dark Moves Of Love', 'Dark Shines', 'Darkness', 'Darkshines [Live From Le Zenith]', \"Darlin' Do Not Fear\", 'Dashboard', 'Date W/Ikea', 'Daughter', 'Davidian (Hellalive) (Album Version)', 'Dawn Of Victory', 'Dawn Over A New World', 'Day & Night', \"Day 'N' Nite\", 'Day Time', 'Day Too Soon (Album Version)', 'Daydream', 'Daylight', 'Days Go By', 'Days Of The Week (Album Version)', 'Daytona Demon', 'Ddiamondd', 'De Weg', 'Deacon Blues', 'Dead & Bloated (LP Version)', 'Dead And Gone [feat. Justin Timberlake] (Explicit Album Version)', 'Dead Flowers', 'Dead Horse', 'Dead Inside (Bonus Track)', 'Dead Man (Carry Me)', 'Dead On Arrival (Album Version)', 'Dead Presidents II', 'Dead Souls', 'Dead Souls (LP Version)', 'Dead Souls [Re-mastered]', 'Dead Star [Live From Le Zenith]', 'Dead alone', 'Deadweight On Velveteen', 'Dear Catastrophe Waitress', 'Dear Friend (The Secret Of Time Album Version)', 'Dear God', 'Dear God (Album Version)', 'Dear John', 'Dear Maria_ Count Me In', 'Dear Vienna', 'Dearly Departed (Album version)', \"Death Ain't No Big Deal (Tribute To Jake Hess Album Version)\", 'Death By Chocolate', \"Death Cult Soup n' Salad\", 'Death Is The Road To Awe', 'Death Of A Martian (Album Version)', 'Death On Two Legs (Dedicated To....) (Live) (1994 Digital Remaster)', 'Deathzone', 'Debaser', 'Debo partirme en dos', 'Decadence (Album Version)', 'Decades Of Despair', 'Deception', 'Decisiones', 'Declaration of Purpose', 'Dedicated Follower Of Fashion', 'Deep Inside Of You (2006 Remastered LP Version)', 'Deeper', 'Deepest Blue', 'Deeply Disturbed', 'Definition', 'Deireadh An Tuath', 'Deja Vu', 'Dejalo (Album Version)', 'Dejame Entrar', 'Dejame entrar (En vivo )', 'Dekh Le', 'Delicate', 'Delicate Answer', 'Delilah', 'Deliver Us from Evil', 'Deliverance', 'Dem Haters', 'Demasiada Presión', 'Demasiado Bueno', 'Demolition Lovers', 'Demolition Man', 'Demon', 'Demon Cleaner', 'Demon Days', 'Demon Speeding', \"Demon's Gate\", 'Dental Care', 'Deny Selected', 'Deora Ar Mo Chroí', 'Departure (Album Version)', 'Depois De Ti (Mais Nada)', 'Deprogram', 'Desafinado', 'Desde Que O Samba E Samba', 'Desenredo (G.R.E.S.Unidos Do Pau Brasil)', 'Deseo', 'Deseret', 'Desert Rose', 'Desert Song', 'Designer Skyline', 'Desire', 'Desire Be Desire Go', 'Destination Calabria', 'Destined For Great Things', 'Destiny', 'Destroy Everything You Touch', 'Detached (Album Version)', 'Detlef Schrempf (Album)', 'Deuces Are Wild', \"Deutschland '04 feat. Joerilla\", 'Devil In A Midnight Mass', \"Devil's Spoke\", \"Devil's path\", 'Devotion And Desire', 'Devour (Album Version)', 'Dial Me Up', 'Diamond Dave', 'Diamonds And Pearls [Edit]', 'Diamonds From Sierra Leone', 'Diary', 'Dice', 'Dick In A Box', 'Dickhead', 'Did It Again', 'Did It Again (featuring Kid Cudi)', 'Did You Get My Message? (Live From Montalvo)', 'Did it Again', 'Didgeridoo', \"Didn't I\", 'Die Die Die', 'Die Kunst der Fuge_ BWV 1080 (2007 Digital Remaster): Contrapunctus XVII - Inversus', 'Die MF Die', 'Die_ All Right!', 'Die_ Die My Darling (Fox Studio 1983)', 'Diferente', 'Different (album version)', 'Different Kind Of Fine (Album)', 'Diffuse', 'Dig', 'Dig This Well Deep', 'Dig Up Her Bones', 'Digging The Grave', 'Digital', 'Digital Love', \"Digitalism In Cairo (Digitalism's Extended Mix)\", 'Dile', 'Dile al amor', 'Dimension', 'Ding dong song (Lounge)', 'Dingue_ Dingue_ Dingue', 'Dinosaur', 'Dinosaurs', 'Dinosaurs Will Die', 'Dip It Low', 'Dirt', 'Dirt Off Your Shoulder', 'Dirt Road Anthem (feat. Brantley Gilbert)', 'Dirty Dishes', 'Dirty Little Secret', 'Dirty Movies\" (Album Version)', 'Dirty Road', 'Dirty World', 'Disappearing World (Album Version)', 'Disasterpiece (Album Version)', 'Disco 2000', 'Disco Heaven', \"Disco Infiltrator (FK's Infiltrated Vocal)\", 'Disconnect_ Disconnect', 'Discotraxx', 'Disease (Album Version)', 'Dishes', 'Disko Partizani', 'Dismantle. Repair.', 'Disorder [2007 Re-mastered Album Version]', 'Dispear', 'Disposable Teens', 'Dissident', 'Distance And Time', 'Ditto (Album Version)', 'Diva', 'Dive', 'Divenire', 'Divinations (Album Version)', 'Divine Hammer', 'Diákdal', 'Djobi_ Djoba', 'Do I', \"Do That There (featuring Dude 'N Nem)\", 'Do The Rump', \"Do They Know It's Christmas?\", 'Do This Anymore (Album Version)', 'Do U Wanna Ride', 'Do We Need This?', 'Do What You Want', 'Do You Believe In Love', 'Do You Hear The People Sing?', 'Do You Know Me', 'Do You Love Me', 'Do You Really Want To Hurt Me', 'Do You Remember', 'Do You Remember The First Time?', \"Do You Think I'm Spooky?\", 'Do You Wanna', 'Do You Want It All\\xa0?', 'Do You Want To Know Love (Pray For Rain Album Version)', 'Do Your Thing', 'Do the whirlwind', 'Do-Wah-Doo', 'Docking Bay 94', 'Doctor Jones', 'Does He Love You? (Album Version)', \"Doesn't Mean Anything\", \"Doesn't Really Matter\", \"Doesn't Remind Me\", 'Dog Days Are Over (Demo)', 'Dog Days Are Over (Radio Edit)', 'Dogs', 'Dogs Are Everywhere', \"Doin' It\", \"Doin' The Cockroach\", 'Dolce Infedele', 'Doll Parts', 'Dollars & Cents', 'Dollhouse', 'Dolly Dagger', 'Dom De Iludir', 'Don', 'Don de fluir', \"Don't\", \"Don't Be Mean\", \"Don't Be On With Her\", \"Don't Be Shy\", \"Don't Be Stupid (You Know I Love You)\", \"Don't Bring Me Down\", \"Don't Call Me Baby\", \"Don't Cha\", \"Don't Come Around Here No More\", \"Don't Cry (Original)\", \"Don't Dance\", \"Don't Dink and Drance (Album Version)\", \"Don't Dream It's Over\", \"Don't Forget\", \"Don't Forget About Us\", \"Don't Get Lost In Heaven\", \"Don't Give Me Your Life\", \"Don't Give Up\", \"Don't Go\", \"Don't Go Breaking My Heart\", \"Don't Haunt This Place\", \"Don't It Make My Brown Eyes Blue\", \"Don't Know What You Got (Till It's Gone)\", \"Don't Leave\", \"Don't Leave Home\", \"Don't Leave Me\", \"Don't Leave Me This Way\", \"Don't Let Go\", \"Don't Let Go (Love)\", \"Don't Let Me Be Misunderstood\", \"Don't Let The Sun Go Down On Me\", \"Don't Look Back\", \"Don't Look Now\", \"Don't Matter\", \"Don't Panic\", \"Don't Play That Song (You Lied) (LP Version)\", \"Don't Push Me\", \"Don't Say (Album Version)\", \"Don't Say Nuthin'\", \"Don't Shake It Off\", \"Don't Speak\", \"Don't Stand So Close To Me '86\", \"Don't Start Me Talkin'\", \"Don't Stay Home\", \"Don't Stop Dancing\", \"Don't Stop The Music\", \"Don't Stop...Planet Rock (In The Pocket Mix) feat. Bambaataa_ Eric Kupper & Mohamed Moretta\", \"Don't Think I Don't Think About It\", \"Don't Trust The Kids\", \"Don't Turn Around\", \"Don't Upset The Rhythm (Go Baby Go)\", \"Don't Wake Me (Album Version)\", \"Don't Walk Away\", \"Don't Wanna Think About You (Album Version)\", \"Don't Worry 'Bout Me\", \"Don't Worry Be Happy\", \"Don't You Agree? (Album Version)\", \"Don't You Evah (Album version)\", \"Don't You Forget It\", \"Don't You Want Me (Original Version)\", 'Donde Estas Corazon', 'Done With You', 'Dontchange', 'Don´t Believe The Hype', 'Don´t Leave Me Now', 'Doo Wop (That Thing)', 'Dope Boy Magic [Feat. Nicholas \"Play Boy Nick\" Smith_ Corey \"Black Owned C Bone\" Andrews and Chino Dolla] [Amended Album Version]', 'Dope Boys', 'Doperide', 'Dory Previn', 'Dosed (Album Version)', 'DotA (Radio Edit)', 'Double Bass', 'Double Feature', 'Dove And Grenade', 'Down', 'Down And Out (Album Version)', 'Down Boy', 'Down By The Water', 'Down Home Girl', 'Down In A Hole', 'Down In The Past', 'Down On My Knees', 'Down On The Corner', 'Down On The Street', 'Down River', 'Down Rodeo', 'Down South (Album Version)', 'Down The Line', 'Down To Earth', 'Down To The Market', 'Down To The River To Pray', 'Down To The Well', 'Down With The Sickness (Album Version)', 'Down With The Sickness [Live At The Riviera]', 'Downfall', 'Downfall (Album Version)', 'Downfall Of Christ (originally By Merauder)', 'Downtown Poker Club', 'Dr. Feelgood', 'Dracula', 'Drag The Waters (Remastered LP Version)', 'Dragon Queen', 'Dragostea din tin (ma-ya-hi)', 'Dragula', 'Drain You', 'Drama', 'Dreadlock Holiday', 'Dream', 'Dream A Little Dream Of Me', 'Dream A Little Dream Of Me (Album Version)', 'Dream About Flying', 'Dream Girl', 'Dream Lover', 'Dream Of Mirrors', 'Dream On', 'Dreamer', \"Dreamin'\", 'Dreaming', 'Dreaming Of You', 'Dreaming Out Loud', 'Dreamlover', 'Dreams (Remastered Version)', 'Dreams Be Dreams', 'Dreams-Come-True-Girl', 'Dreamscape', 'Dress Me Like a Clown', 'Dressed In Decay', 'Drift Away', 'Drifting Away', 'Drinking In L.A.', 'Drive', 'Drive Away', 'Driven (Restrospective 3 Version)', 'Driven To Tears', 'Driving Home For Christmas', 'Driving Me Crazy', 'Drones In The Valley', 'Droomland (duet met Paul de Leeuw)', 'Drop', 'Drop It Low', 'Drop The Pressure', 'Drop The World', 'Droplets', \"Droppin' Plates (Album Version)\", 'Drops In The River', 'Drops Of Jupiter', 'Drown', 'Drown Me Slowly', 'Drugs', 'Drugs Or Me', 'Drum Song', 'Drunk', 'Drunk Girls', 'Drunk Kid Catholic', 'Drunk On Love', 'Drunk and Hot Girls', 'Drunken Lullabies', 'Drunkship Of Lanterns', 'Dry And Dusty', 'Dry Spell (LP Version)', 'Du Hast', 'Du Riechst So Gut', 'Duality (Album Version)', 'Dub On My Mind Dub', 'Dub The Frequencies Of Love', 'Dude (Looks Like A Lady)', 'Dudley', 'Duerme Conmigo', 'Duke Of Earl', 'Dulce Compañia', 'Dulce Condena', 'Dull Life', 'Dumb', 'Dumb Blood', 'Dumb It Down (feat. GemStones and Graham Burris) (Amended Album Version)', 'Dumpweed', 'Dungeon Master', 'Dust', \"Dust N' Bones\", 'Dust in The Wind', 'Dusty', 'Dysentery Gary', 'Dysfunctional (feat. Big Scoob & Krizz Kaliko)', 'Dá Fundo', 'Déjame llorar', 'Désenchantée', 'Désolé', 'Dígale', 'Dímelo', 'Dónde jugarán los niños', 'E-Pro', 'E.I.', 'EMCEE Murdah', 'EMOTIONS', 'Each Coming Night', 'Early Birdie', 'Earth Angel', 'Easier', 'Easier To Run (Album Version)', 'Easily', 'Easily (Album Version)', 'East Infection', 'East Man Skank', 'East Northumberland High', 'East To West', 'Eastern Glow', 'Easy', 'Easy Eats Or Dirty Doctor Galapagos', 'Easy Love', 'Easy girls (acoustic clubbing)', 'Easy/Lucky/Free - Radio Edit', 'Eat It', \"Eat That Up_ It's Good For You\", 'Eat The Meek', 'Eazy-Er Said Than Dunn', 'Ebudae', 'Echo (Explicit Album Version)', 'Echo Sam', 'Echoes', 'Eco', 'Ecstasy (2003 Digital Remaster)', \"Eddie's Gun\", 'Eenie Meenie', 'Effigy', 'Ego', 'Egyptian Cream', 'Eighties Fan', 'Ein Schiff Wird Kommen...', 'Einfeld', 'Either Way', 'El Cantante', 'El Capitalismo Foráneo', 'El Chico Del Apartamento 512', 'El Chubasco', 'El Chupe Nibre (Album Version)', 'El Corrido De Julian', 'El Cuatrero', 'El Hombre Dirigente', 'El Hospital', 'El Justiciero', 'El Kilo', 'El Novio Del Olvido', 'El Presente (Unplugged) (En Vivo)', 'El Revelde', 'El Scorcho', 'El Tiempo Dira', 'El baile y el salón', 'El ciclón', 'El diluvio universal', 'El duelo', 'El puñal y el corazón', 'El tiempo no para', 'Electric Avenue', 'Electric Bloom', 'Electric Feel', 'Electric Twist', 'Electricity', 'Electro Movimiento', 'Elegante', 'Elenore', 'Elephant', 'Elephant Gun', 'Elephants', 'Elevator', 'Elevator Love Letter', 'Elevator [Feat. Timbaland] (Album Version)', 'Eleven (Album Version)', 'Eli_ The Barrow Boy', 'Elizabeth My Dear', 'Ella', 'Ella Elle L A', 'Ella Me Levanto', 'Ella y yo (featuring Don Omar)', 'Elsewhere', 'Elysium', 'Elävät ja kuolleet', 'Eléctrico', 'Ember Drive', 'Embrace', 'Embrujo', 'Emerge', 'Emergency (Album Version)', 'Emigrantes', 'Eminence Front', 'Emotion', 'Empathy', 'Empire Ants (Feat. Little Dragon)', 'Empire State Of Mind (Part II) Broken Down', 'Empty Apartment', 'Empty Skies', 'Empty Walls (Album Version)', 'En Algun Lugar', 'En Algún Lugar Del Puerto (2001 Digital Remaster)', 'En El Cielo No Hay Cerveza (In Heaven There Is No Beer)', 'En El Septimo Dia', \"En Glad Calypso Om Våren (Live '62)\", 'En La Ciudad De La Furia', 'En resa', 'Enchantment', 'Encore Break', 'End', 'End Credits', 'End Of A Century', 'End Of The Day', 'End Of The Line', 'End Of The Road', 'End Of The Summer', 'End Of The World Party', 'Endless Love', 'Endlessly', 'Endlessly_ She Said', 'Enemy', 'Engel', 'English Summer Rain', 'Engwish Bwudd', 'Enjoy The Silence', \"Enjoy The Silence (Contains Hidden Track 'Crucifx')\", 'Enjoying Myself', 'Enter Sandman', 'Entering White Cecilia', 'Enterlude', 'Entertain', 'Entertainment', 'Entertainment Value (2006 Digital Remaster)', 'Enth E Nd (Album Version)', 'Entre Canibales', 'Entre Dos Aguas', 'Entre Dos Tierras (2000 Digital Remaster)', 'Entre Tus Alas', 'Epic', 'Epilogue', 'Epiphany (LP Version)', 'Epistemology', 'Eple', 'Epona', 'Eqypt', 'Erase / Rewind', 'Eriatarka', 'Erotic City ( LP Version)', 'Error: Operator (Album Version)', 'Eruption (Album Version)', 'Es liegt nur an Dir', 'Esa noche', 'Escape', 'Escape From Hellview', 'Escapémonos', 'Esisti Tu', 'Eskimo - Album Version (not as hidden track)', 'Especially In Michigan (Album Version)', 'Espera', 'Esperame', 'Esperando El Impacto', 'Espiritu De Esta Selva', 'Esta Es Para Hacerte Féliz', 'Estadio Azteca', 'Este amor', 'Estoy Aquí', 'Estranged', 'Eternal Flame (Single Version)', 'Eton Boating Song/Wyoming Lullaby/The Wiffenpoof Song (Baa Baa Baa) (Medley)', 'Eu Quero Um Samba', 'Even Flow', 'Even In My Dreams', \"Ever Blazin' (Album Version)\", 'Ever Dream', 'Everlong', 'Every Dog Has Its Day', 'Every Lasting Light', 'Every Little Step', 'Every Little Thing (Album Version)', 'Every Little Thing She Does Is Magic', 'Every Morning', 'Every Morning (LP Version)', 'Every Planet We Reach Is Dead', 'Every Time I Look At You (Album Version)', 'Every Time I Look For You', 'Every Time You Go', 'Every Time You Say Goodbye', 'Every You Every Me (Single Mix)', 'EveryGirl In The World', 'Everybody', 'Everybody Be Somebody', 'Everybody But Me', 'Everybody Everybody', 'Everybody Know', 'Everybody Loves Me', 'Everybody Needs Somebody To Love', 'Everybody Wants To Rule The World', 'Everybody Wants You (1995 Digital Remaster)', \"Everybody's Changing\", \"Everybody's Fool (Live in Europe)\", \"Everybody's Somebody's Fool\", 'Everyday', 'Everyday I Love You Less and Less', 'Everyday People', 'Everyday Struggle (Album Version)', 'Everyone Deserves Music (Alternative)', \"Everyone's At It\", 'Everything', 'Everything (Album Version)', 'Everything About You', 'Everything Changes (Album Version)', 'Everything Ends (Album Version)', 'Everything Flows', 'Everything I Own', 'Everything I Try to Do_ Nothing Seems to Turn Out Right', 'Everything In Its Right Place', 'Everything Is', 'Everything Is Alright', 'Everything Is Alright (Album Version)', 'Everything Is Everything', 'Everything Will Be Alright', 'Everything You Do Is A Balloon', 'Everything You Need', \"Everything You Touch We Touch First (America'S Mexican)\", \"Everything'll Be Alright (Will's Lullaby)\", \"Everything's Magic\", \"Everything's Right\", \"Everything's Ruined\", 'Everythings Just Wonderful', 'Everytime', 'Everywhere', 'Everywhere I Go', 'Evidence', 'Evil', 'Evil Deeds', 'Evil Thing', 'Evolution', 'Evolution Of Man', 'Ex Lover', \"Ex's And Oh's (LP Version)\", 'Ex-Factor', 'Exchange', 'Excuse Me Mr.', 'Excuses', 'Execution Day', 'Exhausted', 'Exit Counselor', 'Exit Music (For A Film)', 'Exitlude', 'Exogenesis: Symphony Part 3 [Redemption]', 'Expectations', 'Experiencia Religiosa', 'Explanation', 'Exploration', 'Explosive', 'Express Yourself', 'Express Yourself (2002 Digital Remaster)', 'Eye For An Eye', 'Eye Of The Beholder', 'Eye Of The Tiger', 'Eyelash Wishes', 'Eyeless (Live version) (Album Version)', 'Eyes As Candles', 'Eyes Full of Rose', 'Eyes On Fire', 'Eyes Without A Face', 'Eyesdown', 'F L M', 'F-cking Boyfriend', 'FACK', 'FANTASY', 'FFT (The Good_ The Bad_ And The Ugly Album Version)', 'FM', 'FU-GEE-LA', 'FaFaFa (Radio Edit)', 'Face Down (Album Version)', 'Face Plant (LP Version)', 'Face To Face', 'Face To Face (Cosmo VItelli Remix)', 'Face To Face (Demon Remix)', 'Face To Face / Short Circuit', 'Faces', 'Faces In The Hall', 'Fade Away And Radiate', 'Fade To Black', 'Fade To Grey', 'Faden', 'Fader', 'Fag Hag', 'Failure', 'Failure by Design', 'Faint Resemblance', 'Fairy Tale', 'Faith', 'Faith (Album Version)', 'Faith Works', 'Fake Tales Of San Francisco', 'Fake Tales Of San Francisco (Explicit)', 'Fakty', 'Fall Back', 'Fall Back Down (Album Version)', 'Fall For You', 'Fall In', 'Fall Line', 'Fall Out', 'Fall To Pieces', 'Fallen Leaves', \"Fallin'\", \"Fallin' Apart\", \"Fallin' Out\", 'Falling', 'Falling Down', 'Falling In', 'Falling In Love Again', 'Falling Inside The Black (Album Version)', 'Falling Or Flying', 'Falling Slowly (Album version)', 'Falling Through Your Clothes', 'Falling To Pieces', 'Falling for You', 'Falling in Hate', 'Fallout (Album Version)', 'Falsa Baiana', 'False Pretense', 'Familiar Ground', 'Familiar Realm', 'Family Business', 'Family Tree', 'Famous One  (Not To Us Album Version (new Code))', 'Fancy', 'Fancy Footwork', 'Fans', 'Fantasy', 'Far Away', 'Far Away (Album Version)', 'Far Behind', 'Far Behind  (Album Version)', 'Far Far', 'Farewell', 'Farewell / Goodbye', 'Fascination', 'Fashion', 'Fast As I Can', 'Fast As You Can', 'Fast Car (LP Version)', 'Fast Cars', 'Fast Forward', 'Fast Forward To 2012 (Album Version)', 'Fast-Track', 'Faster [Explicit Version]', 'Fastlove', 'Fatal Attraction', 'Father Cannot Yell (Pete Shelley/Black Radio Mix)', 'Father Of Mine', 'Faust Arp', 'Favorite Girl', 'Favorite Son [feat. Green Day & The Cast Of American Idiot] (Album Version)', 'Faxing Berlin', 'Fear', 'Fear And Love', 'Fearless', 'Fearless (250 And Dark Stars) (Exit Litghts Album Version)', 'February Song (Album Version)', 'Feel (Album Version)', 'Feel A Whole Lot Better', 'Feel Good Inc (Album Version)', 'Feel Good Inc (Stanton Warriors Remix)', 'Feel It', 'Feel It All Around', 'Feel Like Home (Album Version)', 'Feel So Good (Album Version)', 'Feel So Numb', 'Feel That Fire', 'Feel The Love', 'Feel.Love.Thinking.Of.', \"Feelin' Way Too Damn Good\", 'Feeling Good', 'Feeling This', 'Feelings Show', 'Feels So Good', 'Feels So Good (Remastered Single Version)', 'Felicidad', 'Felicidade', 'Fell In Love With A Girl', 'Fell On Black Days', 'Femme Fatale', 'Fences', 'Fences (Album Version)', 'Fergalicious', 'Feuer Frei', 'Fever', \"Fiddlin' Bill\", 'Fields Of Athenry', 'Fields_ Shorelines And Hunters', 'Fiery Crash', 'Fiesta De Locos', 'Fight Fire With Fire', 'Fight For This Love', 'Fight For Your Life', 'Fight Music', 'Fight On (2002 Digital Remaster)', 'Fighters (feat. Matthew Santos) (Amended Album Version)', 'Fighting the Stall', 'Figure.09 (Album Version)', 'Figures', 'Filosofia Barata Y Zapatos De Goma', 'Filthy|Gorgeous', 'Fim De Caso', 'Final Goodbye', 'Final Path', 'Finale', 'Find A Way', 'Find The Cost Of Freedom', 'Find You Waiting', \"Fingers And Thumbs (Cold Summer's Day) (Sound Factory Remix)\", \"Finnegan's Wake (Album Version)\", 'Fins', 'Fire', 'Fire And Rain', 'Fire Bomb', 'Fire Burning', \"Fire Coming Out Of The Monkey's Head\", \"Fire Eye'd Boy\", 'Fire It Up', 'Fire Up Ahead', 'Fire Water Burn', 'Fire Woman', 'Firecracker', 'Fireflies', 'Firestarter', 'Fireworks', 'Fireworks (bonus track)', 'First Breath After Coma', 'First Dance', 'First Day Of My Life (Single Version)', 'First Thing', 'First Time', 'Fish Eye', 'Fisher Of Men', 'Fishwater', 'Fistful Of Steel', 'Fistful of Love', 'Fitter Happier', 'Fitz And The Dizzy Spells', 'Five Minutes To Midnight', 'Five Vicodin Chased With A Shot Of Clarity (Album Version)', 'Fix You', 'Fix You (Live)', 'Flaca', 'Flacana 16', 'Flagpole Sitta', 'Flake', 'Flash', 'Flash Light', 'Flashdance... What A Feeling', 'Flashing Lights', 'Flat Beat', 'Flesh For Fantasy', 'Flesh Into Gear', 'Fliegende Fische', 'Flipside', 'Flirting With Time (Album Version)', 'Float On', 'Floating In The Forth', 'Floating Vibes', 'Floaty', 'Floods (LP Version)', 'Flor Venenosa', \"Flora's Secret\", 'Flower', 'Flowers On The Wall', 'Flowing', 'Flugufrelsarinn', 'Flume', 'Flutter Girl', 'Flux', 'Fly', 'Fly (Remastered LP Version)', 'Fly Like An Eagle', 'Fly With Me', 'Fog. Vs. Mould For The Next Of Love', 'Fold', 'Follow Me (Explicit LP Version)', 'Follow Me Down', 'Fool For Your Loving', 'Foolish', 'Fools', 'FootShooter', 'Football Season Is Over (Album Version)', 'Footloose And Fancy Free', 'For All The Cows', 'For Beginners', 'For Boston (Album Version)', 'For Emma', 'For Good', \"For Me_ It's You\", 'For Once In My Life (Album Version)', 'For The Dishwasher', 'For The Price Of A Cup Of Tea', 'For The Record', 'For Today I Am A Boy', 'For Tomorrow', \"For What It's Worth\", 'For You', 'For You (Amended/Radio Edit LP)', 'For You (You Got Everything) (LP Version)', 'For Your Life  (Album Version)', 'Foreplay/Long Time', 'Forest Families', 'Forever', 'Forever & Always', 'Forever Loving Jah', 'Forever My Friend', 'Forever Young', 'Forever Yours', 'Forget It', 'Forget Me', 'Forget Me Nots (12\" Version)', 'Forget Myself (2006 Remastered Version)', 'Forgive Me', 'Forgiven (Acoustic Album Version)', 'Forgiven (Album Version)', 'Forgot About Dre', 'Forks And Knives (La Fête)', 'Fortress Around Your Heart', 'Fortunate Fool', 'Fortunate Son', 'Fortunate Son (Live)', 'Fortune Faded (Album Version)', 'Fotografía', 'Found Home', 'Found Out', 'Found Out About You', 'Foundations', 'Fountain Of Youth', 'Fountains And Tramways', 'Four To The Floor', 'Fox On The Run', 'Foxtrot Uniform Charlie Kilo', 'Fragile Heroes', 'Fragile or Possibly Extinct', 'Frances Farmer Will Have Her Revenge On Seattle', \"Francesca's Party\", 'Frank Sinatra', 'Frankenstein', 'Frankie And Johnny', 'Franklin (Album Version)', 'Frankly_ Mr. Shankly', 'Frases Mudas', 'Freak Me', 'Freak Train', 'Freakum Dress', 'Fred Jones Part 2', 'Free Chilly (feat. Sarah Green and GemStones) (Interlude) (Explicit Album Version)', \"Free Fallin'\", 'Free Love', 'Free Of Me', 'Free Style (feat. Kevo_ Mussilini & Lyrical 187)', 'Free Your Mind', 'Freedom', 'Freewill', 'Freeze', 'Frenchy\\x19s', 'Frente A Frente', 'Fresh', 'Friction', 'Friction (LP Version)', 'Friday (Instrumental Album Version)', 'Friday Night', 'Fried My Little Brains', 'Friend Like You', 'Friend Of A Friend', 'Friend Of The Night', 'Friends And Alibis', 'Friends_ Lovers Or Nothing', 'Frijolero', \"Frisch und g'sund\", 'From Blown Speakers', 'From Left To Right', 'From Off To On', 'From Out Of Nowhere', 'From The Ritz To The Rubble', 'From The Station', 'From This Day (Album Version)', 'From Where You Are', 'Front Row', 'Frontline', 'Fruta Fresca', \"Fuck It (I Don't Want You Back)\", 'Fuck Kitty', 'Fuck Me Pumps', 'Fuck Tha Police', 'Fuck The Pain Away', 'Fuck You', 'Fucking Hostile  (LP Version)', 'Fui Eu', 'Full Circle', 'Full Circle (Explicit)', 'Full Clip (Explicit)', 'Full Moon', 'Fully Alive', 'Fun For Me', 'Funeral Song', 'Funkytown', 'Funny Little Frog', 'Fuori Dal Tunnel (Album Version)', 'Furious Rose', 'Furr', 'Further On Up The Road', 'Fury', 'Future Connection', 'Future Foe Scenarios', 'Future Reflections', 'Future Says Run', 'Futurism', \"G.N.O. (Girl's Night Out) (Live)\", \"G.O.D. (Gaining One's Definition) Featuring Ce-Lo\", 'G4L', 'GASOLINE&MATCHES', 'GNG BNG', 'GO!', 'Gabriel', 'Galang', 'Galaxy', 'Games', \"Gangsta Lovin'\", 'Gangsta Nation', 'Gangster Tripping', 'Ganja Bus', 'Gap', 'Gardenhead / Leave Me Alone', 'Gasoline', 'Gatekeeper', 'Gave Up', 'Gears', 'Geek In The Pink (Album Version)', 'Geek In The Pink [Phil Tan Remix]', 'Gel (LP Version)', 'Generation Nintendo', 'Generator', 'Genie In A Bottle', 'Genio Atrapado', 'Genius', 'Genocide', 'Genom tunna tyger', 'Gente', 'Gente Que No', 'Gently Turned on Your Head', 'Georgia On My Mind (Album Version)', 'Gestern_Morgen', 'Get A Move On!', 'Get Back', 'Get By', 'Get Crazy', 'Get Down', 'Get Down Tonight', 'Get Down Tonight (Miami Mix)', 'Get Down Woman', 'Get Get Down (Original Mix)', 'Get Innocuous!', 'Get Innocuous! (Soulwax Remix)', 'Get It Faster', 'Get It Together', 'Get Like Me', \"Get Me Away From Here_ I'm Dying\", 'Get Me Bodied', 'Get Money', 'Get Myself Into It', 'Get On Your Boots', 'Get Out', 'Get Over It', 'Get Ready For This', 'Get Ready To Bounce Recall 08', 'Get Shaky (Radio Edit)', 'Get Trashed', 'Get Your Number', 'Get Your Roll On', 'Get:On', 'Getaway', 'Gett Off', 'Gettysburg', 'Ghost', 'Ghost At The Foot Of The Bed', 'Ghost Dream', 'Ghost Highway', 'Ghost Of A Good Thing', 'Ghost Of Corporate Future [Live in California 2006]', 'Ghost Of The Navigator', 'Ghost Of Yesterday (2001 Digital Remaster)', 'Ghost Town', 'Ghost Under Rocks', 'Ghosts', \"Ghosts 'n' Stuff (Original Instrumental Mix)\", 'Ghosts (Toxic Avenger Mix)', 'Ghosts and Roses', 'Gia', 'Gift From Virgo', \"Gimme All Your Lovin' (LP Version)\", 'Gimme Some', \"Gimme Some Lovin'\", 'Gimme Sympathy', 'Gimme Tha Power', 'Gimme The Loot (Album Version)', 'Gimme Whatcha Got', 'Giocoso gioioso', 'Girl', 'Girl I Love You', 'Girl I Love You (She is Danger Remix)', 'Girl Is On My Mind', 'Girl Money', 'Girl Next Door', 'Girl Sailor (Album)', 'Girl Tonite [Featuring Trey Songz] [Explicit Album Version]', 'Girl U Want (Live)', 'Girl With One Eye (Bayou Percussion Version)', 'Girl With a Problem', 'Girl of My Dreams', \"Girl's Not Grey\", 'Girlfriend', 'Girlfriend (Radio Edit)', 'Girlfriend In A Coma', 'Girls', 'Girls And Boys', 'Girls Dem Sugar', 'Girls Just Wanna Have Fun', 'Girls Just Want To Have Fun', 'Girls On Film', 'Girls_ Girls_ Girls', 'Gitana', 'Give A Little Bit', 'Give It All', 'Give It All Away (Album)', 'Give It Back', 'Give It To Me', 'Give It To Me Baby', 'Give It Up', 'Give It Up (LP Version)', 'Give It Up (feat. Pharrell Williams) (Amended Album Version)', 'Give Me Anything', 'Give Me It', 'Give Me More', 'Give Me Novacaine [feat. Green Day & The Cast Of American Idiot] (Album Version)', 'Give Me Your Eyes', 'Give Myself To You', 'Give Your Heart Away', 'Give and Go', 'Given Up (Album Version)', 'Gives You Hell', 'Giving Up The Gun', 'Glad All Over', 'Glamorous', 'Glamorous Indie Rock and Roll', 'Glamour y Violencia', 'Glass Of Water', 'Glitter In The Air', 'Global A Go-Go', 'Global Warning', 'Gloomy', 'Gloria (LP/Single Version)', 'Glorious', 'Glory Days', 'Glue Of The World', 'Go Ahead', 'Go Away', 'Go Baby (feat GemStones) (Explicit Album Version)', 'Go Go Gadget Flow (Explicit Album Version)', 'Go Go Girls', 'Go Places', \"Go Skate! (Possessed To Skate '97)\", 'Go To Bed Mad (featuring Tyrese)', 'Go To Sleep', 'Go With The Flow', 'Go Your Own Way (LP Version)', 'Goccia', 'God', 'God & Satan', 'God Complex', 'God Is A DJ', 'God Is On The Radio', 'God Put A Smile Upon Your Face', 'God Save The Queen', \"God's Snake\", \"Godhead's Lament\", 'Godlovesugly', 'Godspeed', 'Going Away To College', 'Going Bad', 'Going For the Gold', 'Going Home (For A Time Like This Album Version)', 'Going Nowhere', 'Gold', 'Gold Guns Girls', 'Gold Lion', 'Gold Mine Gutted', 'Gold Teeth', 'Gold Watch (Amended Album Version)', 'Golden Age', 'Golden Cage', 'Golden Diva', 'Golden Mummy Golden Bird', 'Golden Skans', 'Golden Touch', 'Golden earrings', 'Goliath', 'Gone', 'Gone Going', 'Gong', 'Gonna Find You', 'Gonna Fly Now (Theme From \"Rocky\")', 'Gonna Make You Sweat  (Everybody Dance Now)', 'Good Arms vs Bad Arms', 'Good Bye Emily (feat. Gabriella Hanninen)', 'Good Days Bad Days', 'Good Directions', 'Good Enough', 'Good Girl Gone Bad', 'Good Girls Go Bad (Feat.Leighton Meester) (Album Version)', 'Good Golly Miss Molly', 'Good Life', 'Good Love Is On The Way', 'Good Man', 'Good Morning Susie Soho', 'Good Night', 'Good Old Days', 'Good Soldier', 'Good Things', 'Good Time', 'Good Time Boys (2003 Digital Remaster)', \"Good Timin'\", 'Good To Me', 'Good Woman', 'Goodbye', 'Goodbye Babylon', 'Goodbye For Now (Album Version)', 'Goodbye Is All We Have', 'Goodbye My Lover', 'Goodbye To Love', 'Goodbye To You (Album Version)', 'Goodbye_ Apathy', 'Goodnight And Goodbye', 'Goodnight Bad Morning', 'Goodnight and Go', 'Goons Lurkin (Explicit Album Version)', 'Got Me', 'Got Me Going Crazy', 'Got Money', 'Got No Love', \"Got Nuffin'\", 'Got Some', 'Got The Glory', 'Got To Get My Heart Back', 'Gotas De Agua Dulce', 'Gotta Eat (Explicit Album Version)', 'Gotta Get Some', 'Gotta Have You', 'Grace', 'Grace Cathedral Hill', 'Grace Kelly', 'Graduation Day', 'Gran Idolo De Asia', 'Grand Designs', 'Grand Theft Autumn/Where Is Your Boy (Album Version)', 'Graveyard Girl', 'Gravity', \"Gravity's Rainbow\", \"Gravity's Rainbow (Van She remix)\", 'Gray Or Blue', 'Grease (LP Version)', 'Great Awakening', 'Great Dub In The Sky', 'Great Expectations', 'Great Indoors', 'Great Release', 'Greece 2000', 'Green Day (Album version)', 'Green Hell', 'Green Light', 'Green River', 'Greenback Dollar', 'Grey Room', 'Grillz', 'Grind Hard', 'Grind On You (LP Version)', 'Grind With Me (Explicit Version)', 'Grizelda', 'Groove Me', 'Groove Me (Live Version)', \"Groovin'  (LP Version)\", \"Groovin'  (Single Version)\", 'Groovy Times', 'Gross', 'Grounds For Divorce', 'Groundzero (Original Version)', 'Group Four', 'Grow Up and Blow Away', 'Growing Old Is Getting Old (Album Version)', 'Growing Pains', 'Grown So Ugly', 'Guaranteed', 'Guarded (Album Version)', 'Guernica', 'Guerrilla Monsoon Rap', 'Guiding Light', 'Guilty As Charged [feat. Estelle] (Explicit Album Version)', 'Guinevere', 'Guinnevere [Remastered LP Version]', 'Guitar Man (LP Version)', 'Guitarra y vos', 'Gunn Clapp', 'Gunpowder', 'Gunpowder & Lead', 'Guns And Horses', 'Guns Of Brixton', 'Gustos sencillos', 'Gut Feeling', 'Guyamas Sonora', 'Guys Like Me', 'Guys Like You Make Us Look Bad (Album Version)', 'Gymnopedie No 1', 'Gypsies_ Tramps And Thieves', \"Gypsy Woman (She's Homeless)\", 'HAIFISCH', 'HOLLERTILYOUPASSOUT (Explicit Album Version)', 'Habalim', 'Habana', 'Hace Tiempo', 'Had Enough', 'Hagamos Algo Superficial Y Vulgar', 'Hail To Whatever You Found In The Sunlight That Surrounds You', \"Hailie's Song\", 'Hairline Fracture', 'Haitian Divorce', 'Half A Person', 'Half Alive', 'Half Mast', 'Half Of My Heart', 'Half Of My Mistakes', 'Halfway There', 'Hall of Fame', 'Hallelujah', 'Hallelujah (Album Version)', 'Hallowed Be My Name', 'Halo', 'Halo (Explicit Album Version)', 'Hand In Glove', 'Hand In My Pocket (Acoustic Album Version)', 'Hand Me Down (Album Version)', 'Hand Of Sweet Release', 'Hand On Your Heart', 'Handlebars (UK Radio Edit)', 'Hands And Feet', 'Hands Held High (Album Version)', 'Hands Open', 'Hands Up', 'Hands Up Baby', \"Hang 'Em High (Album Version)\", \"Hang 'em High (Album Version)\", 'Hang On To This', 'Hang On To Your Love', 'Hanging High', 'Hanky Panky (Mono)', 'Hannah', 'Hannibal', 'Happier', 'Happiness Is Overrated', 'Happy', 'Happy (Love Theme From \"Lady Sings The Blues\")', 'Happy Alone', 'Happy Ending', 'Happy Endings', 'Happy New Year', 'Happy Song', 'Happy Up Here', 'Happy?', 'Hard Headed Woman', 'Hard Row', 'Hard Sun', 'Hard To Concentrate (Album Version)', 'Hard To Explain', 'Hard Way To Fall', 'Hardcore', 'Harder Better Faster Stronger', 'Harder Better Faster Stronger ( Breakers Break Remix)', 'Harder Better Faster Stronger (Alive Radio Edit 2007)', 'Harder Better Faster Stronger (The Neptunes Remix)', 'Harder To Breathe', 'Hardest Of Hearts', 'Harlem Streets', \"Harlem's Nocturne\", 'Harmageddon', 'Harmonic Necklace (2008 Digital Remaster)', 'Harmony One', 'Harold T. Wilkins_ or How to Wait for a Very Long Time', \"Harpoon Fever (Queequeg's Playhouse)\", \"Harry's Philosophy\", 'Harvest (Remastered Album Version)', 'Hasta Aqui Te Fui Fiel', 'Hasta Ayer', 'Hasta La Vista', 'Hasta Que Te Conoci', 'Hasta siempre', 'Hate It Here', 'Hate It Or Love It', 'Hate My Life [Explicit]', 'Hate On Me', 'Hate To Say I Told You So', 'Haunted', 'Haunted Graffiti', 'Have A Little Faith In Me', 'Have A Nice Day', 'Have Faith In Me', 'Have Mercy On Me', 'Have You Ever Seen The Rain', 'Having A Blast (Album Version)', 'Hay Un Son', 'Hayling', 'Hazey Jane II', 'Hazy Shade Of Winter', 'He Can Only Hold Her', \"He Doesn't Know Why\", 'He Hit Me', 'He Loves Me', 'He Needs Me', \"He Wasn't Man Enough\", \"He's A Pirate\", 'Head Full Of Doubt/Road Full Of Promise', 'Head Like A Hole', 'Head Over Feet (Album Version)', 'Head Over Heels', 'Head Rolls Off', 'Head Up (LP Version)', 'Head of Steam', 'Headknocker', 'Headlights Look Like Diamonds', 'Headlong', 'Heads Will Roll', 'Headstrong (Album Version)', 'Heal Over', 'Healing Is In Your Hands', 'Hear Me Out', 'Hear You Me', 'Heard Them Stirring', 'Heart', \"Heart Ain't A Brain\", 'Heart And Soul', 'Heart Attack and Vine', 'Heart Cooks Brain', 'Heart Less', 'Heart Of A Champion', 'Heart Of Steel (LP Version)', \"Heart Of The City (Ain't No Love)\", 'Heart Shaped Box', 'Heart of Chambers', 'Heartache Tonight  (LP Version)', 'Heartbeat', 'Heartbeats', 'Heartbeats (Live)', 'Heartbreak Hotel', 'Heartbreak Warfare', 'Heartbreaker', 'Heartbreaker/\"If You Should Ever Be Lonely', \"Heartbreakin' Wreck\", 'Heartless', 'Hearts Burst Into Fire', 'Hearts On Fire', 'Heat', 'Heat Miser', 'Heaven', 'Heaven And Hell', 'Heaven Beside You', 'Heaven Is A Truck', \"Heaven Knows I'm Miserable Now\", 'Heaven Must Be Missing An Angel', \"Heaven's On Fire\", \"Heaven's gonna burn your eyes\", 'Heavens Above', 'Heavy  (LP Version)', 'Heavy Breathing', 'Heavy Soul ', 'Heavy Water', 'Heavy metal drummer', 'Heavyweight', 'Hedonism - Just Because You Feel Good', 'Hei okei mä meen', 'Heiterkeit', 'Helen Of Troy', 'Helena (So Long & Goodnight) (Album Version)', 'Helicopter', 'Hell Alright (Bassface Sascha & Franksen Remix)', 'Hell Breaks Loose', 'Hell On The Heart', 'Hell Yeah Featuring P. Diddy (Explicit Album Version)', 'Hell Yes', 'Hellbound', 'Hello', 'Hello Good Morning', 'Hello Sunshine', 'Hello/Goodbye [Uncool] (feat. Unkle) (Explicit Album Version)', 'Hello_ Brooklyn', 'Hello_ I Love You', \"Help I'm Alive\", 'Help Is Round The Corner', 'Help Yourself', 'Helpless', 'Helplessly Hoping (LP Version)', 'Hemma Före Mörkret', 'Henrietta', 'Here (In Your Arms) (Radio Edit)', 'Here And Now', 'Here Comes My Girl', 'Here Comes The Monkey', 'Here I Am', 'Here I Am (Come And Take Me)', 'Here I Am To Worship (Here I Am To Worship Album Version)', 'Here I Dreamt I Was an Architect', 'Here I Go Again', 'Here I Stand', 'Here It Comes', 'Here It Goes Again', 'Here Today_ Gone Tomorrow', 'Here We Are (Family In The Hallways)', 'Here We Go Again', 'Here We Go Again (Album Version)', 'Here Without You', 'Here we go Again', \"Here's A Quarter [Call Someone Who Cares]\", \"Here's To The Night\", 'Here_ There And Everywhere', 'Heresy', 'Heresy  (LP Version)', 'Heretic Pride', 'Heretics', 'Hero', 'Hero (Album Version)', 'Hero Of War', 'Hero/Heroine', 'Heroes (Album Version)', 'Heroes Get Remembered_ Legends Never Die', 'Heroin', 'Heroína', 'Hey', 'Hey (Album Version)', 'Hey Baby', 'Hey Brittany', \"Hey Daddy (Daddy's Home)\", 'Hey Girl', 'Hey Jealousy', 'Hey Ma', 'Hey Mama', 'Hey Now Now', 'Hey Sexy Lady', 'Hey Shorty (Yeah Yeah Pt. II) (Feat. U$O & Johnson)', 'Hey Stephen', 'Hey There Delilah', 'Hey There Mr. Brooks (feat. Feat. Shawn Mike of Alesana)', 'Hey_ Soul Sister', 'Heysátan', 'Hi Scores', 'Hiatus (feat. NO)', 'Hickory (Album)', 'Hicktown', 'Hidden Agenda', 'Hidden Place', 'Hide & Seek', 'Hiding', 'Hierbas Ibicencas', 'High', 'High (Album Version)', 'High Enough (Album Version)', 'High Life', 'High Lonesome', 'High Noon', 'High Of 75 (Album Version)', 'High On The Heels', 'High Road (Album Version)', 'High School Musical', 'High Speed', 'High Voltage', 'High and dry', 'Higher', 'Higher Messiah', 'Higher Than The Sun', 'Highway 20 Ride (Album)', 'Highway Song', 'Highway Star', 'Higinia (Album Version)', 'Hilarious Movie Of The 90s', 'Him', 'Hints', 'Hip Hop Star', 'Hip To Be Square', 'Hip-Hop Saved My Life (feat. Nikki Jean) (Explicit Album Version)', 'Hiphopopotamus vs. Rhymenoceros [feat. Rhymenocerous and the Hiphopopotamus] (Album Version)', 'Hippie Priest Bum-out (Edit)', \"Hips Don't Lie\", \"Hips Don't Lie (featuring Wyclef Jean)\", 'Histoire de geek', 'Historia Del Portero', 'History', 'History In The Making', 'Hit Em Up', 'Hit Or Miss', 'Hit The Lights', 'Hit The Switch (Album Version)', 'Hitched', 'Hits From The Bong', 'Hitsville U.K.', 'Ho Ho Hopefully', \"Ho's\", \"Ho's (LP Version)\", 'Hochmah (Interlude)', 'Hoedown Throwdown', 'Hoisting The Flag', 'Hold Me_ Thrill Me_ Kiss Me_ Kill Me', 'Hold My Heart', 'Hold On', 'Hold On (LP Version)', \"Hold On I'm Comin'\", 'Hold On To Me', 'Hold The Ladder', 'Hold Time', 'Hold Up', 'Hold You', 'Hold You In My Arms', 'Hold up', \"Holdin' It Down For The Underground\", \"Holdin' On To You\", \"Holdin' On Together\", 'Holding Back The Years', 'Holding Out For A Hero', 'Hole In My Life', 'Hole In Your Head (bend in the road)', 'Holes To Heaven', 'Holiday', 'Holiday From Real (Album Version)', 'Holiday [feat. Green Day & The Cast Of American Idiot] (Album Version)', 'Hollaback Girl', 'Holland_ 1945', 'Hollow (LP Version)', 'Hollywood', 'Hollywood (Album Version)', 'Hollywood Blvd._ 2:17 AM', 'Hollywood Whore', 'Holy Diver (Album Version)', 'Holy Roller Novocaine', 'Holy Smoke', 'Hombre Al Agua', 'Home', 'Home (Album Version)', 'Home Is Where The Heart Is', 'Home Zone', 'Homecoming', 'Homesick', 'Homeward Bound', 'Honest Expression', 'Honestly Ok', 'Honey', 'Honey And The Moon [Radio Edit]', 'Honey In The Sun', \"Honey Please_ Can't Ya See\", \"Honey_ This Mirror Isn't Big Enough For The Two Of Us\", 'Hong Kong', 'Hoodoo', 'Hook', 'Hooked On A Feeling', 'Hope', 'Hope For The Hopeless', \"Hope There's Someone\", 'Hopelessly Devoted To You', 'Horchata', 'Horizon Variations', 'Horn Concerto No. 4 in E flat K495: II. Romance (Andante cantabile)', 'Horse And Cart', 'Horse With No Name', 'Horseshoes And Handgrenades (Album Version)', 'Hospital Beds', 'Hot Boyz (w/ Dear Nora)', 'Hot House Of Omagarashid', 'Hot In Herre', 'Hot Love', 'Hot N Cold (Innerpartysystem Main)', 'Hot N Cold (Manhattan Clique Remix Radio Edit)', \"Hot Stuff (Let's Dance)\", 'Hot Summer (Radio Edit)', 'Hotdog', 'Hotel', 'Hotel California', 'Hotel Song (Album Version)', 'Hotel St. George', 'Hotel Yorba', 'Hounds of Love (new mix)', 'House By the Sea (Album)', 'House Of 1000 Corpses', 'House Of Broken Love', 'House Of Cards', 'House Of Fun (2000 Digital Remaster)', 'House Of Jealous Lovers', 'Houseboat', 'Houstatlantavegas', 'Hovering', 'How', \"How 'Bout You\", \"How Am I Doin' (w/o  intro or outro)\", 'How Am I Supposed To Live Without You', 'How Can I Keep From Singing?', 'How Can I Live (Spanish version) (Album Version)', 'How Can You Mend A Broken Heart?', 'How Come', 'How Do I Live', 'How Do You Know You?', 'How Do You Like Me Now?!', 'How Do You?', \"How Far We've Come (Album Version)\", 'How I Could Just Kill A Man', 'How It Ends (Album version)', 'How It Feels To Fly', 'How It Makes You Feel', 'How Long', 'How Sweet It Is', 'How Sweet It Is (Album Version)', 'How To Disappear Completely', 'How We Exit', 'How You Like Me Now?', 'How You Remind Me', \"How's It Going To Be (LP Version)\", 'Howlin\\x19 For You', 'Hoy Me Voy', 'Hoy Te Deje De Amar (copia)', 'Hrisna Tela_ Kridla Motyli', 'Hubcap', 'Hucklebuck', 'Hum Hallelujah', 'Human', 'Human After All', 'Human After All (SebastiAn Remix )', 'Human Behaviour', 'Human Of The Year (Album Version)', 'Humans Being (Album Version)', 'Hummer', 'Humming', 'Hump de Bump (Album Version)', 'Hunger Strike', 'Hunter', 'Hunting For Witches', 'Hurly / Burly', 'Hurricane', 'Hurt', 'Hurt Me Soul (Explicit Album Version)', 'Hush Hush', 'Hussel (Featuring Afrikan Boy)', 'Hustler', 'Hvem Er En... Kælling?', \"Hymne A L'Amour (Album Version)\", 'Hyper Hyper', 'Hyper Music', 'Hypnopaedia', 'Hypnos', 'Hypnotize(Album Version)', 'Hypnotized (featuring Akon) (Explicit Album Version)', 'Hysteric', 'Hårgalåten', 'Héroe De Leyenda', 'I\\x19d Die Without You', 'I\\x19m Not The One', 'I Adore', 'I Adore You', \"I Ain't Sofisticated\", 'I Almost Told You That I Loved You', 'I Am A Man Of Constant Sorrow', 'I Am Just A Rebel (LP Version)', 'I Am Not a Robot', 'I Am The Club (Explicit Album Version)', 'I Am The Highway', 'I Am The Law', 'I Am The Resurrection', 'I Am Trying to Break Your Heart', 'I Am Your Friend (2006 Digital Remaster)', 'I And Love And You', 'I Believe (DJ Tandu Mix)', 'I Believe (When I Fall In Love It Will Be Forever)', 'I Believe I Can Fly', 'I Believe In A Thing Called Love', \"I Belong To You [+Mon Coeur S'Ouvre A Ta Voix]\", 'I Bloom Blaum', 'I Buried a Bone', 'I C Love Affair', \"I CAN'T GET STARTED\", 'I Came As A Rat (Long Walk Off A Short Dock)', 'I Can\\x19t Wait', 'I Can Change', 'I Can Dance', 'I Can Love You Like That (Remastered Version)', 'I Can See Clearly Now', 'I Can Talk', \"I Can't Dance\", \"I Can't Decide\", \"I Can't Love You Back\", \"I Can't Stay\", 'I Come In Please', 'I Constantly Thank God For Esteban [Live In Chicago]', 'I Could Fall In Love', 'I Could Have Lied (Album Version)', \"I Couldn't Help It If I Tried\", 'I Cried For You', 'I Do', 'I Do Believe In Love', 'I Don\\x19t Want To See You', \"I Don't Do Crowds\", \"I Don't Feel Like Dancin'\", \"I Don't Know\", \"I Don't Know What I Can Save You From\", \"I Don't Mind\", \"I Don't Need A Man\", \"I Don't Need No Doctor\", \"I Don't Owe You Anything\", \"I Don't Wanna Be\", \"I Don't Wanna Know (Featuring Enya And P. Diddy) (Amended Version)\", \"I Don't Wanna Wait (Album Version)\", \"I Don't Wanna Walk Around With You  (Remastered Album Version )\", \"I Don't Want To Be\", \"I Don't Want To Be Late\", \"I Don't Want To Wait (Album Version)\", 'I Dont Wanna Wait', 'I Dreamt I Dwelt in Marble Halls', 'I Feel Better', 'I Feel For You', 'I Feel Home (Album Version)', 'I Feel Just Like a Child', 'I Feel So', 'I Feel So Fine ', 'I Felt My Life With Both My Hands (Album)', 'I Forgot To Be Your Lover', 'I Fought The Law (LP Version)', 'I Found A Reason', 'I Found A Whistle', 'I GOT THIS DOWN', 'I Get Around', 'I Get Joy', 'I Get Money', 'I Give You To His Heart', 'I Go To Sleep', 'I Got 5 On It', \"I Got A Feelin'\", 'I Got Mine', 'I Got Nerve (Karaoke)', 'I Got You', 'I Gotta Feeling', 'I Gotta Feeling (Edit)', 'I Gotta Feeling (FMIF Remix Edit)', \"I Guess I'm Floating\", 'I Hate Everything About You', 'I Hate Myself For Loving You', 'I Hate Pretending (Album Version)', 'I Hate The Way You Love', 'I Hate This Part', 'I Have Seen', 'I Heard It Through The Grapevine', \"I Heard It's The Softest Thing Ever (Album Version)\", 'I Heard Love Is Blind', \"I Just Don't Think I'll Ever Get Over You\", 'I Just Want To Make Love To You', 'I Kissed A Girl', 'I Knew I Loved You', \"I Know It's Over\", 'I Know What You Want', 'I Know You Know', 'I Like It', 'I Love My Jean', 'I Love The Dough (Featuring Jay-Z & Angel Winbush) (Amended Version)', 'I Love This Bar', 'I Love To Boogie', 'I Love You Always', 'I Love You Always Forever ( LP Version )', 'I Made A Tree On The Wold', 'I Melt With You', \"I Mera Tis Giortis Sou (T' Asteria Hathikan Noris)\", 'I Might Be Wrong', 'I Miss You', 'I Must Belong Somewhere', 'I Need A Dollar', 'I Need A Girl (Part One) (Featuring Usher & Loon) (Amended Version)', 'I Need All The Friends I Can Get', 'I Need Love', 'I Need To Know', 'I Need You (Album Version)', 'I Need You Now', \"I Need Your Lovin' (Like The Sunshine) (Radio Edit)\", 'I Never (Album Version)', 'I Never Told You', 'I Own You (Bonus Version)', 'I Pray (Never Forget)', 'I Predict A Riot', 'I Put A Spell On You', 'I Ran', 'I Ran Away', 'I Really Want You  (Album Version)', 'I Remember', 'I Repeat', 'I Said', 'I Second That Emotion', 'I See You [Theme from Avatar] (Album Version)', 'I Should Be...', 'I Skyggen Som Jeg Plejer (1998 Digital Remaster)', 'I So Hate Consequences (Album Version)', 'I Stand Alone', 'I Stand Corrected (Album)', 'I Stay Away', 'I Stay In Love', 'I Still Care For You', \"I Still Haven't Found What I'm Looking For\", 'I Still Remember', 'I Swear  (Remastered LP Version)', 'I Swear This Time I Mean It (Album Version)', \"I Think I'll Live\", 'I Think Ur A Contra', 'I Thought I Saw Your Face Today', 'I Thought It Was You', 'I Told You So', 'I Touch Myself', 'I Tried', 'I Try', 'I Use To Think I Was Run', 'I Used To Have A Best Friend (But Then He Gave Me An STD)', 'I Used To Love Him', 'I Walk The Line', 'I Wanna', 'I Wanna Be Down ( LP Version )', 'I Wanna Be Sedated (Remastered Album Version )', 'I Wanna Be Your Dog', 'I Wanna Be Your Joey Ramone', 'I Wanna Be Your Lover (LP Version)', 'I Wanna Love You', 'I Wanna Love You (Akon Cover) ( Compilation)', 'I Wanna Make You Close Your Eyes', 'I Want A New Drug', 'I Want I Want', 'I Want Out', 'I Want Tomorrow', 'I Want You', 'I Want You Back', 'I Want You To Want Me', 'I Want Your Love', 'I Was A Teenage Anarchist (Album Version)', \"I Was Made For Lovin' You\", 'I Was Made For You', 'I Was Meant For the Stage', 'I Was Once_ Possibly_ Maybe_ Perhaps A Cowboy King (feat. NO)', 'I Will Always Return', 'I Will Be Grateful For This Day', 'I Will Be Here', 'I Will Buy You A New Life', 'I Will Follow You into the Dark (Album Version)', 'I Will Still Love You', 'I Wish', 'I Wish Today Could Be Tomorrow', 'I Wish You Would', \"I Won't\", \"I Won't See You Tonight Part 1\", 'I Wonder', 'I Wonder Why', \"I Wouldn't Be A Man\", 'I Write Sins Not Tragedies [Live In Chicago]', \"I'd Come For You (Album Version)\", \"I'd Do Anything (Album Version)\", \"I'd Hate To Be You When People Find Out What This Song Is About (Album)\", \"I'd Love To Change The World (1998 Digital Remaster)\", \"I'd Rather Be With You\", \"I'd Rather Fuck You (Explicit) (Feat. Eazy-E)\", \"I'll Back You Up\", \"I'll Be\", \"I'll Be Lovin' U Long Time\", \"I'll Be Missing You (Featuring Faith Evans & 112)(Album Version)\", \"I'll Be OK (Instrumental Reprise)\", \"I'll Be There\", \"I'll Be There For You\", \"I'll Be Your Man\", \"I'll Call Ya\", \"I'll Do Anything (LP Version)\", \"I'll Give All My Love To You (feat. Monica)\", \"I'll Hold My Breath\", \"I'll Make Love To You\", \"I'll Meet You There\", \"I'll Stand by You\", \"I'll Stick Around\", \"I'll Take Everything  (Album Version)\", \"I'll Try Anything Once\", \"I'll Write A Song For You\", \"I'm A Cuckoo\", \"I'm A Flirt Remix\", \"I'm A G (feat. Bun B & Young Dro) (Explicit Album Version)\", \"I'm A Lady [feat. Trouble Andrew]\", \"I'm A Little Rocket Ship\", \"I'm A Man\", \"I'm About To Come Alive\", \"I'm Alive (Album Version)\", \"I'm Already There\", \"I'm An Actor\", \"I'm Back\", \"I'm Back (Album Version)\", \"I'm Bad\", \"I'm Broken  (LP Version)\", \"I'm Crying\", \"I'm Done\", \"I'm Every Woman\", \"I'm Glad\", \"I'm Goin In\", \"I'm Goin' Away\", \"I'm Goin' Down\", \"I'm Going To Change The World\", \"I'm Gonna Find Another You\", \"I'm Gonna Miss Her\", \"I'm Good_ I'm Gone\", \"I'm Her Slave (Album)\", \"I'm Here Again\", \"I'm Him [Explicit Album Version]\", \"I'm Illy (Explicit Album Version)\", \"I'm In A Hurry (And Don't Know Why)\", \"I'm In Love (Single/LP Version)\", \"I'm In Miami Bitch\", \"I'm In The House\", \"I'm Just A Man\", \"I'm Letting Go (Album)\", \"I'm Like A Lawyer With The Way I'm Always Trying To Get You Off (Me & You)\", \"I'm Made Of Wax_ Larry_ What Are You Made Of?\", \"I'm Me\", \"I'm No Angel\", \"I'm Not A Loser\", \"I'm Not Alone\", \"I'm Not Calling You A Liar\", \"I'm Not Gonna Teach Your Boyfriend How To Dance With You\", \"I'm Not In Love\", \"I'm Not Jesus\", \"I'm Not Okay (I Promise) (Live From Sessions@AOL)\", \"I'm Not Over (Album Version)\", \"I'm Not Waiting\", \"I'm Not Waiting In Line\", \"I'm Not Who I Was\", \"I'm Not Your Toy\", \"I'm On A Boat\", \"I'm On Fire\", \"I'm Only Me When I'm With You\", \"I'm Part Of You\", \"I'm Ready (Album Version)\", \"I'm Real\", \"I'm Shady\", \"I'm Sleeping In A Submarine\", \"I'm So Bored With The U.S.A.\", \"I'm So Excited\", \"I'm So Glad\", \"I'm So Sick\", \"I'm Sorry\", \"I'm Still A Guy\", \"I'm Still Breathing\", \"I'm Talkin' To You (Explicit Album Version)\", \"I'm The One Who Understands (Edit Version)\", \"I'm With You\", \"I'm Your Boogie Man\", \"I'm Your Captain/Closer To Home (Medley) (2002 Digital Remaster)\", \"I'm Your Man\", \"I'm Yours (Album Version)\", \"I'm the man who loves you\", \"I've Been Better\", \"I've Been Thinking About You\", \"I've Got Friends\", \"I've Got The World On A String\", \"I've Got The World On A String (1995 Digital Remaster)\", \"I've Got You Under My Skin (Album Version)\", \"I've Got Your Number\", \"I've Just Seen A Face\", 'I-E-A-I-A-I-O', 'I.O.U. Me', 'I.R.S.', 'I.nner Indulgence', \"I?'m A Steady Rollin? Man\", 'ICH TU DIR WEH', 'II', 'IMNOTYOURBOYFRIENDBABY (Amended Album Version)', 'IXTAPA', 'I_ Manface', 'Ice Box', 'Ice Cream', 'Ice Dogs', 'Ice Ice Baby (Radio Edit)', 'Ich Will', 'Iconography', 'Idealistic', 'If', 'If (Album Version)', 'If He Should Break Your Heart', \"If I Ain't Got You\", \"If I Can't Change Your Mind\", \"If I Can't Have You\", 'If I Could', 'If I Ever Fall In Love', 'If I Ever Leave This World Alive', 'If I Had', 'If I Had A Heart', 'If I Had You', 'If I Never See Your Face Again', 'If I Only Had The Heart', 'If I Were A Carpenter', 'If It Means A Lot To You', \"If It's Love\", \"If It's Lovin' That You Want\", \"If It's Not With You\", \"If It's Over\", 'If Looks Could Kill', 'If Looks Could Kill...', 'If Only', 'If She Wants Me', \"If There's a Rocket Tie Me To It\", 'If This Is It', 'If This Is Love', \"If This Isn't Love\", 'If Today Was Your Last Day (Album Version)', 'If U Wanna Get Down', 'If We Ever Meet Again', 'If You Belonged To Me (2007 Remastered LP Version)', 'If You Could Only See', \"If You Don't_ Don't\", 'If You Find Yourself Caught In Love', 'If You See Me', 'If You Want To Sing Out_ Sing Out', 'If You Wanted A Song Written About You_ All You Had To Do Was Ask (Album)', 'If You Were A Sailboat', \"If You're Gone (Remastered Version)\", \"If You're Into It\", \"If You're Not The One\", 'Ignorance (Album Version)', 'Ikea', 'Iko Iko', 'Il Regalo Più Grande', 'Il tempio interiore', 'Illan kaunein nainen (Tava-live)', 'Illegal (featuring Carlos Santana)', 'Illuminati', 'Illumination', 'Imaginary Love', 'Imagine', 'Imagine Dead John Lennon', 'Imanol', 'Imma Be', 'Immolate Yourself', 'Immortality', 'Implosion of Eternity', 'Impossible Germany', 'Imprint After', 'In', 'In A Darkened Room', 'In Another Life (Album Version)', 'In Between The Years', 'In Cairo', 'In Church', 'In Da Club', \"In God's Country\", \"In God's Hands\", 'In Heaven', 'In Her Eyes (Album Version)', 'In League With Satan', 'In Limbo', 'In My Arms', 'In My Bed', 'In My Place', 'In One Ear', 'In Our Blood', 'In Our Nature', 'In Our Talons', 'In Person', 'In Space', 'In The Aeroplane Over The Sea', 'In The Arms Of Perdition', 'In The Backseat', 'In The Closet', \"In The Cold I'm Standing\", 'In The Dark', 'In The Dark (ft. Christian Burns)', 'In The End (Album Version)', 'In The Fade', 'In The Flesh', 'In The Flowers', 'In The Mausoleum', 'In The Mirror', 'In The Moonlight', 'In The Privacy Of Our Love', 'In The Shadows', 'In The Summertime', 'In The Sun', 'In The Waiting Line', 'In These Arms', 'In This World', 'In a Cave ', 'In and Out of Love', 'In den Gärten Pharaos', 'In the Morning', 'In-A-Gadda-Da-Vida', 'Inaudible Melodies', 'Incentive (Bonus Track)', 'Incident At Gate 7', 'Incomplete And Insecure', 'Incredibad', 'Indestructible', 'India Ink', \"India'Song\", 'Indo Silver Club', 'Indra', 'Inertiatic Esp', 'Inevitable', 'Infanta', 'Infatuation', 'Infatueighties', 'Infected', 'Infinity', 'Infinity 2008', 'Influencia', 'Inhale (Album Version)', 'Injection', 'Ink My Whole Body', 'Inner City Pressure (Album Version)', 'Innocence', 'Innocent Bones (Album)', 'Innocent Son', 'Innocent When You Dream (78)', 'Inolvidable', 'Insane', 'Insectica', 'Inseparable', 'Inside Job', 'Inside My Head', 'Inside Out (2007 Remastered LP Version)', 'Inside The Fire (Album Version)', 'Insomnia', 'Intentions', 'Interactive Halloween Bear', 'Intergalactic', 'Interiors', 'Interlude', 'Intermission (Album Version)', 'Intermission 1', 'International Harvester', 'Interstate 8', 'Interstate Love Song (LP Version)', 'Intervention', 'Into Dust', 'Into The Fire', 'Into The Great Wide Open', 'Into The Groove', 'Into The Hollow', 'Into The Night', 'Into The Ocean', 'Into The Sun', 'Into The White', 'Intoxication (Album Version)', 'Intro', 'Intro 2/ Kick Out The Jams (LP Version)', 'Introduce Yourself', 'Introducing Tobacco To Civilization (LP Version)', 'Introduction To Falling (Fragment)', 'Intruder Alert (feat. Sarah Green) (Explicit Album Version)', 'Intuition', 'Invalid', 'Invincible', 'Invisible', 'Invisible Sun', 'Invitation To Understanding', 'Invocation: Attica Blues', 'Iron Maiden (Live In Dortmund)', 'Ironic (Acoustic Album Version)', 'Ironmasters', 'Ironside', 'Irreplaceable', 'Is It A Crime', 'Is She Weird', 'Is There a Ghost (Album)', 'Is This It', 'Isis (Spam Remix)', 'Island', 'Island In The Sun', 'Islands In The Stream', 'Isn\\x19t It A Lovely Night?', 'Isobel', 'Isolation', 'Isopropanol', 'It All Dies Anyway', 'It Could Be Sweet', \"It Don't Have To Change\", \"It Don't Matter\", 'It Ends Tonight', 'It Feels So Good', 'It Goes On And On', 'It Is What It Is', \"It Just Don't Stop\", 'It Just Is (Album Version)', \"It Keeps You Runnin' (Album Version) (2006 Remastered)\", 'It Kills Me', 'It Stops Today', 'It Takes Two', 'It Was A Good Day', \"It Wasn't Me\", \"It Won't Be Like This For Long\", \"It's A Fire\", \"It's A Great Day To Be Alive (2006 Remastered LP Version)\", \"It's A Hit (Live at 93 Feet East)\", \"It's A Sin (2001 Digital Remaster)\", \"It's All Understood\", \"It's Been Awhile (Clean Edit)\", \"It's Beginning To Get To Me\", \"It's Christmas So We'll Stop\", \"It's Christmas So We'll Stop (Choir Version)\", \"It's Coming Down\", \"It's Dangerous Business Walking Out Your Front Door\", \"It's Five O' Clock Somewhere\", \"It's Getting Boring By The Sea\", \"It's Good To Be In Love\", \"It's Just A Thought\", \"It's Like That\", \"It's Love\", \"It's Me B*#@hes\", \"It's Me I'm Worried About\", \"It's My Job To Keep Punk Rock Elite\", \"It's My Life\", \"It's My Life (Radio Edit)\", \"It's My Own Fault\", \"It's My Party\", \"It's Natural To Be Afraid\", \"It's No Good (Single Version)\", \"It's Not My Time\", \"It's Not Ok (Album)\", \"It's Not Over\", \"It's Not Over Yet\", \"It's Not What\", \"It's Oh So Quiet\", \"It's Only Divine Right\", \"It's Raining Again\", \"It's Raining Men\", \"It's Raining Men (Radio Edit)\", \"It's So Easy\", \"It's Still Rock And Roll To Me\", \"It's The Only One You've Got\", \"It's Time I Go (Jazz)\", \"It's Tricky\", \"It's Working\", 'Italian Leather Sofa', 'Itchy Feet', 'Itkupilli (2001 Digital Remaster)', \"J'ai Dormi Sous L'eau\", 'J.E.E.Z.Y.', 'J.Icaro', 'JUAN LOCO', 'JXL Radio Technical Support (Album Version)', 'Jack & Diane', 'Jackie', 'Jackie Big Tits', 'Jackie_ Dressed In Cobras', \"Jackolantern's Weather\", 'Jade', 'Jaded', 'Jailbird', 'Jailbreak', 'Jailhouse Rock', 'Jails And Bombs', 'Jam 292', 'Jam 4 U', 'Jamaica Roots II(Agora E Sempre)', 'Jambalaya', 'Jambalaya (On The Bayou)', 'Jamelia', 'James', 'James Brown', 'James Dean  (LP Version)', 'James River Blues', 'Jane Says ( LP Version )', 'Jane Says ( Live )( LP Version )', 'Janglin', 'January Wedding', 'Jasey Rae', 'Jayou', \"Jazz (We've Got)\", 'Jazz Street', 'Je Veux Te Voir (Radio Edit)', 'Jealous Of The Moon', 'Jeane', 'Jeb Rand', 'Jefferson Aeroplane [Demo]', 'Jennifer Lost The War', 'Jenny From The Block', 'Jenny Was A Friend Of Mine', 'Jeremy', 'Jerk It Out (Original Mix)', 'Jerry Was A Race Car Driver', 'Jersey (Album)', \"Jesu_ Joy Of Man's Desiring (Featuring Lili Haydn) (Album Version)\", 'Jesus And Mama (LP Version)', 'Jesus Built My Hotrod (Short_ Pusillanimous_ So-They-Can-Fit-More Commercials-On-The-Radio Edit)', 'Jesus Christ', 'Jesus Just Left Chicago', 'Jesus Loves You (Album Version)', \"Jesus Of Suburbia [I. Jesus Of Suburbia/II. City Of The Damned/III. I Don't Care/IV. Dearly Beloved/V. Tales Of Another Broken Home] [feat. Green Day & The Cast Of American Idiot] (Album Version)\", 'Jesus Walks', 'Jesus_ Etc.', 'Jewels And Gold', 'Jezebel', 'Jigsaw Falling Into Place', 'Jihad', 'Jimbo (Album Version)', 'Jimi Thing', 'Jimmy', 'Jimmy Cane', 'Jimmy James', 'Jimmy Kane', 'Jingle Bell Rock', 'Jinxed', \"Jive Talkin' (Album Version)\", 'Joanna Foxtrot (Music for Dancing)', \"Joe's Head\", 'Joey', 'John Blaze', 'John The Fisherman', \"John_ I'm Only Dancing (Sax Version) (1997 Digital Remaster)\", 'Johnny 99', 'Johnny B. Goode', 'Johnny Guitar', \"Johnny Jump Up/Morrison's Jig\", 'Johnny_ I Hardly Knew Ya', 'Joker And The Thief', 'Jolene', 'Jolene (Album)', 'Jolene (Live)', 'Jolene [Live]', 'Jolly Dance', 'Josie', 'Joy Ride', 'Judas y Lucifer', 'Jude Law and a Semester Abroad', 'Judith (Explicit)', 'Juke Box Hero (Remastered LP Version )', 'July Jones', 'July_ July!', 'Jump', 'Jump Around (LP Version)', 'Jump Then Fall', 'Jump [feat. Nelly Furtado] (Album Version)', 'Jumper (2006 Remastered LP Version)', 'Jumpers (Album)', \"Jumpin'_ Jumpin'\", 'Jumping Jack Flash', 'June 9th', 'June Evenings', 'Jungle Gym', 'Jungle Love', 'Jupiter Approach', 'Jupiter Room (Martian Assault Mix)', 'Just', 'Just A Boy', \"Just A Gigolo / I Ain't Got Nobody (Album Version)\", 'Just A Little Heat', 'Just A Man', \"Just Ain't Gonna Work Out\", 'Just An Illusion', 'Just Another Day', 'Just Another Star', \"Just Couldn't Tie Me Down\", 'Just Dance', 'Just Friends', 'Just Friends (Sunny)', 'Just Got To Be', 'Just Like A Woman', 'Just Like Heaven', 'Just Like Honey', 'Just Like You', 'Just Like You (Karaoke)', 'Just Like You Imagined', 'Just Lose It', 'Just Might (Make Me Believe)', 'Just Might Be OK [feat. Gemini)  (Album Version)', 'Just Missed The Train', 'Just One Nite (Album Version)', 'Just Say Yes', 'Just Stop (Album Version)', 'Just The Two Of Us (WSM Compilation Edit)', 'Just The Way You Are', 'K.K.K.', 'Kaaos ei karkaa', 'Kabuki Girl', 'Kabul Shit', 'Kaili', 'Kalopsia', 'Kamasutra', 'Karabali', 'Karibien', 'Karma', 'Karma Police', 'Karmacoma', \"Kathy with a K's Song\", 'Katy Daley', 'Keasbey Nights (LP Version)', 'Keep A Secret', 'Keep Away', 'Keep Breathing', 'Keep Fallin', 'Keep Giving Your Love To Me (Beyonce) (Amended Version)', 'Keep Holding On', 'Keep It Clean', 'Keep It Loose_ Keep It Tight', 'Keep Me', 'Keep Our Ring', 'Keep Quiet', 'Keep The Car Running', 'Keep The Change_ You Filthy Animal', 'Keep The Streets Empty For Me', 'Keep You Much Longer', 'Keep Your Hands Off Her', 'Keep Your Hands To Yourself (LP Version)', 'Keer Op Keer', 'Keine Lust', 'Kelly Watch The Stars', \"Kelly's 12 Play\", 'Kelma', 'Kennedy', 'Kennedy Rag', 'Kept It Too Real (Amended Album Version)', 'Kernkraft 400', 'Kick In The Door (Soundtrack Version) (Explicit)', 'Kick Out the Jams', 'Kicking And Screaming', 'Kickstarts', 'Kid', 'Kid A', 'Kid Charlemagne', 'Kids In America', 'Kids In Love (Album Version)', 'Kids Of The Future', 'Kids With Guns', 'Kiksu', 'Kill Me', 'Kill The Director [Radio Edit]', 'Kill The King', 'Kill The Poor', 'Killa', 'Killer', 'Killers Of The Unborn (Album Version)', 'Killing For Love', 'Killing In The Name', 'Killing Lies', 'Killing Me Softly With His Song', 'Kilometros', 'Kim and Jessie', 'King & Queen', 'King For A Day (Album Version)', 'King Of My Castle [Nicola Fasano & Steve Forest Dub Mix]', 'King Of Sorrow', 'King Of The Rodeo', 'King Of Wishful Thinking', 'King Without A Crown', 'King of Spain', 'Kingdom For A Heart', 'Kinky Fætter', 'Kiss (LP Version)', 'Kiss Kiss', 'Kiss Me', 'Kiss Me (Album Version)', 'Kiss Me Again Stranger', 'Kiss Me Like You Mean It (Album Version)', 'Kiss Me Thru The Phone', 'Kiss Me Where It Smells Funny', 'Kiss Me_ Diss Me', \"Kiss Me_ I'm Gone\", \"Kiss Me_ I'm Sh*tfaced\", 'Kiss N Tell', 'Kiss Of Life', 'Kiss Off', 'Kiss With A Fist', 'Kiss You All Over', 'KissKiss', 'Kiss_ Kiss', \"Kissin' Ears [feat. The-Dream] (Explicit Album Version)\", 'Kissing Behind The Rubbery Grinder', 'Kissing Families (Album Version)', 'Kissy Kissy', 'Kitty', 'Kitty Kat', 'Kiwi', 'Knee Deep At The National Pop League', 'Knife Called Lust', 'Knife Prty (LP Version)', 'Knights', 'Knocked Up', 'Knocking On Forbidden Doors', 'Knocks Me Off My Feet', 'Know You Now', 'Know Your Enemy', 'Know Your Enemy (Album Version)', 'Know-How', 'Knuddelmaus', 'Koigil Vaja On Verd (Estonian Version)', 'Kokoro - Angel Heart (album mix)', 'Kong', 'Konstantine', 'Koop Island Blues', 'Korg Rhythm Afro', 'Korock', 'Kota', 'Kotov Syndrome', 'Kryptonite', 'Kun Puut Tekee Seittiä', 'Kung Fu Fighting', 'Kut-Off', \"Kyle's Mom's A Bitch (LP Version)\", \"Käpt'N Horn (Flying Through The Air)\", \"L'Esperanza\", \"L'Excessive\", \"L'Via L'Viaquez\", \"L'histoire De Bernard Workers\", \"L'hiver : Allegro\", \"L'hiver : Largo\", \"L'été : Adagio\", 'L.A.', 'L.E.D. There Be Light', 'L.E.S. Artistes', 'L.O.V.E.', 'LDN', 'LDN (Switch Remix)', \"LOL :-) [feat. Gucci Mane & Soulja Boy Tell 'Em] (Album Version)\", 'La Aguacatona', 'La Bamba', 'La Banlieue', 'La Bayamesa', 'La Camisa Negra', 'La Carcacha', 'La Casita Blanca', 'La Chabraque', 'La Colina De La Vida', 'La Cruz De Su Hijo', 'La Del Ruso', 'La Despedida', 'La Dispute', 'La Dosis Perfecta', 'La Fokin Moda', 'La Llorona', 'La Madre De Los Enanos', 'La Maison De Mes Parents (Edit)', 'La Margarita Dijo No', 'La Mata De Sandia', 'La Nina', 'La Niña', 'La Noyée', 'La Pared', 'La Parte De Adelante', 'La Perla', 'La Petite Mort', 'La Prima Cosa Bella', 'La Raya', 'La Ritournelle', 'La Rivalita (Album Version)', 'La Rock 01', 'La Señal', 'La Soledad', 'La Tablada', 'La Tripleta', \"La Valse D'Amélie (Version Orchestre)\", \"La Valse D'Amélie (Version Piano)\", 'La Valse Des Monstres (Live)', 'La Vida Es Un Ratico', 'La chica banda', 'La guitarra del joven soldado', 'La pachanga', 'La teoría del caos', 'Labios compartidos [En vivo]', 'Lacrimosa', 'Lacrymosa', 'Lady (Album Version)', 'Lady (Hear Me Tonight)', \"Lady D'Arbanville\", \"Lady Dada's Nightmare\", 'Lady In Black', 'Lady Marmalade', 'Lady Picture Show (LP Version)', 'Lafayette Blues', 'Laffy Taffy (Amended Album Version)', 'Lake Michigan', \"Lakini's Juice\", 'Lalibela', 'Lamb on the Lam (In the City) (Album)', 'Lambada', 'Land Of 1000 Dances', 'Land Of Confusion', 'Land Of Confusion (Album Version)', 'Land of Hope and Dreams', 'Landlocked Blues', 'Landslide [Orchestra Version] [Live From Soundstage]', \"Lara's Castle\", 'Laredo', 'Las flores', 'Lasso', 'Last Caress', 'Last Chance On The Stairway (Manchester Square Demo)', 'Last Child', 'Last Cup Of Sorrow', 'Last Day Of Magic', 'Last Day Of Our Love', 'Last Exit', 'Last Kiss', 'Last Living Souls', 'Last Night', 'Last Night A DJ Saved My Life', 'Last Night Featuring Keyshia Cole (Amended Album Version)', 'Last Night On Earth [feat. Green Day & The Cast Of American Idiot] (Album Version)', 'Last Nite', 'Last Of Days', 'Last Of The American Girls (Album Version)', 'Last Second Chance', 'Last Tango In Paris', 'Late', 'Latin America', 'Latin Simone (Que Pasa Contigo)', 'Latin Static', 'Laundry Room', 'Laura', \"Laura non c'è\", 'Lava Lava', 'Lay All Your Love On Me', 'Lay Your Hands On Me', 'Layla', 'Layla [Unplugged Version]', 'Lazarus (Album Version)', 'Lazy Days', 'Lazy Eye [Jason Bentley Remix]', 'Lazy Sunday', 'Le Banquet', 'Le Corps de Notre Seigneur', 'Le Courage Des Oiseaux', 'Le Fotografie', 'Le Général', \"Le Jardin d'Hiver\", 'Le Million', 'Le Monde', 'Le Moulin', 'Le Plus Beau Du Quartier', 'Le Soir', 'Le Soleil Est Près De Moi', 'Le Toi Du Moi', 'Le Vent Nous Portera', 'Lead Me', 'Leader Of Men', 'Leader Of Men (Album Version)', 'Leader Of The Pack', 'Leaf House', 'Lean Back', 'Lean Back [Remix feat. Lil Jon_ Eminem_ Mase & Remy Martin] (Album Version - Amended)', 'Leaning Against The Wall', 'Learn To Fly', 'Learned Your Name', 'Learning To Fall', 'Learning To Fly', 'Leather And Lace', 'Leave (Get Out)', 'Leave (LP Version)', 'Leave Before The Lights Come On', 'Leave Before The Lights Come On (Explicit)', 'Leave House', 'Leave My Girl Alone', 'Leave The Bourbon On The Shelf', 'Leave The Pieces (Album Version)', \"Leavin' Trunk\", 'Leaving So Soon?', 'Left Hand Suzuki Method', 'Leg 8', 'Legacy Of Kings', 'Legalize It', 'Leggy Blonde [feat. Rhys Darby] (Album Version)', 'Leila Came Around And We Watched A Video', 'Lemme Get That', 'Lemonade', 'Length Of Love', 'Lentil', 'Leper Messiah', 'Les Garçons Dans Les Vestiaires', 'Les derniers aventuriers', 'Leslie Anne Levine', 'Lesson Learned', 'Let Down', 'Let It Be (Intro)', 'Let It Be Sung', 'Let It Die', 'Let It Fall', 'Let It Go', 'Let It Loose (Album Version)', 'Let It Rain', 'Let It Ride', 'Let It Whip', 'Let Me', 'Let Me Be', 'Let Me Be Myself', 'Let Me Fall (From Cirque du Soleil) (Album Version)', 'Let Me Get Down', 'Let Me Go', 'Let Me Go Home', 'Let Me Inside', 'Let Me Take You There', 'Let Me Think About It', 'Let My Love Open The Door', 'Let My Love Open The Door (Underdog Album Version)', 'Let The Flames Begin (Album Version)', 'Let The Music Do The Talking', 'Let There Be Light (album version)', 'Let There Be Lite (Album Version)', 'Let U Go', 'Let You Down', \"Let's Build A Home (Album Version)\", \"Let's Dance\", \"Let's Dance (Remastered Album Version )\", \"Let's Dance To Joy Division (Full Length Version)\", \"Let's Fall In Love\", \"Let's Get Back\", \"Let's Get It On\", \"Let's Get It Started\", \"Let's Get Loud\", \"Let's Get Out Of This Country\", \"Let's Go (Produced by B.R. Gunna)\", \"Let's Go All The Way (Short Blix Mix)\", \"Let's Go Crazy (LP Version)\", \"Let's Go [from 'Salvation']\", \"Let's Live For Today\", \"Let's Make Love And Listen To Death From Above [Dan Carey Mix] (remastered album version)\", \"Let's Shake Hands\", \"Let's Take A Ride\", 'Lethal Industry', 'Lets Get Lost', 'Letter From An Occupant', 'Letterbomb [feat. Green Day & The Cast Of American Idiot] (Album Version)', 'Letters From Madrid', 'Letters From The Sky', 'Let´s Buy Happiness', 'Leve Com Você', 'Lewis Takes Off His Shirt', 'Lex', 'Liar [It Takes One To Know One] (Album Version)', 'Lie To Me', 'Liebeslied (Sprachen: Deutsch_ Englisch_ Französisch_ Italienisch_ Spanisch_ Holländisch_ Japanisch_ Russisch_ Griechisch_ Klingonisch_ Hessisch)', 'Lies', 'Lies (Album Version)', \"Life Ain't Always Beautiful\", 'Life Burns!', 'Life Could Be So Easy', 'Life In A Northern Town (LP Version)', 'Life In Technicolor', 'Life In Technicolor ii', 'Life Less Frightening', 'Life On Mars?', 'Life Without You', \"Life's What You Make It\", 'Lifeboats', 'Lifespan Of A Fly', 'Lift Me Up', 'Lift Your Head Up High (And Blow Your Brains Out)', 'Light My Fire', 'Light On', 'Light Up The Sky', 'Light and space', 'Lights & Music', 'Lights And Sounds', 'Lights And Thunder', 'Lights Of Ayodhya', 'Lights Out', 'Like A Boss', 'Like A Pen', 'Like A Rolling Stone', 'Like A Stone', 'Like A Tattoo', 'Like Glue (Album Version)', 'Like Herod', 'Like I Love You', 'Like Me (Amended Version)', 'Like Spinning Plates', 'Like The Sea', 'Like You', \"Like You'll Never See Me Again\", 'Limbo A Go Go', 'Limelight', 'Limousine', 'Links 2 3 4', 'Linoleum', 'Lip Ring (Album)', 'Lips Like Morphine (Album Version)', 'Lips Of An Angel', 'Listen', 'Listen To Her Heart', 'Listen To The Music', 'Listen To The Music (2006 Remastered Single Version)', 'Listen To Your Heart', 'Lisztomania', 'Lit Up', 'Lithium', 'Lithium (Album Version - Clean)', \"Little Annie's Christmas Wish\", 'Little Black Sandals', 'Little Brother', 'Little Dolls', 'Little Fluffy Clouds', 'Little House', 'Little L', \"Little Lover's So Polite\", \"Little Miss Can't Be Wrong\", 'Little Motel', 'Little Of Your Time', 'Little Red Corvette (LP Version)', 'Little River', 'Little Shadow', 'Little Weapon (feat. Bishop G and Nikki Jean) (Amended Album Version)', 'Little Yellow Spider', 'Littlest Things', 'Littlest Things (Live At The Astoria)', 'Live And Let Die', 'Live High (Album Version)', 'Live It Out', 'Live It Up', \"Live Like We're Dying\", 'Live To Tell', 'Live To Tell The Tale', 'Live from Heart', 'Lived In Bars', 'Lively Up Yourself', \"Livin' On A Prayer\", \"Livin' On The Edge\", 'Living Dead Girl', 'Living In Colour', 'Living In The U.S.A. (1991 Digital Remaster)', 'Living Proof', 'Llamado De Emergencia', \"Lloyd_ I'm Ready To Be Heartbroken\", 'Lo  Que Tengo Yo Adentro', 'Lo Frágil De La Locura', 'Lo Mismo Que Yo', 'Lo Que Yo No Tengo', 'Loba', 'Lobo Bobo', 'Loca', 'Locked Up', 'Lodi', 'Lola Leave Your Light On', 'Lola Stars and Stripes (Album Version)', 'Lola soledad', 'Lollipop', 'London Beckoned Songs About Money Written By Machines (Album Version)', 'Lonelily', 'Lonely', 'Lonely Day', 'Lonely List', 'Lonely Lonely', 'Lonely Street', 'Lonely Teardrops', 'Lonesome Loser', 'Long Arm Of The Law', 'Long As I Can See The Light', 'Long Black Road', 'Long Black Train', 'Long Black Veil', 'Long Cool Woman In A Black Dress', 'Long Distance Call', 'Long Division (Album Version)', 'Long Forgotten Sons', 'Long Line Of Cars', 'Long May You Run', 'Long Nights', 'Long Way 2 Go (Album Version)', 'Long Way Home', 'Long Way To Go', 'Longview (Vocals and Guitar Removed)', 'Look After Me', 'Look At Me', \"Look What You've Done (Album Version)\", \"Lookin' Out My Back Door\", 'Looking Up (Album Version)', 'Loose Lips', 'Loose Translation', 'Lord Have Mercy (Amended Version)', \"Lord I Guess I'll Never Know\", \"Los Angeles_ I'm Yours\", 'Los Aviones', 'Lose Control', 'Lose My Soul feat. Kirk Franklin & Mandisa / Afterparty', 'Loser', 'Losers', 'Losing A Whole Year (2006 Remastered LP Version)', 'Losing My Edge', 'Losing My Ground', 'Losing My Mind', 'Losing Touch', 'Lost', 'Lost (Explicit Album Version)', 'Lost And Found', 'Lost Cause', 'Lost In Love', 'Lost In Stereo', 'Lost In The Plot', 'Lost!', \"Lot Of Leavin' Left To Do\", 'Lothlórien', 'Lotion (LP Version)', 'Lots More Stairs', 'Lotus', 'Loucura', 'Loud Pipes', 'Louder Than Boom', 'Louie Louie', 'Lounge Fly (LP Version)', 'Lounging By The Sea', 'Love', 'Love (original)', 'Love 4/2 (Remastered Single Version)', 'Love All The Pain Away', 'Love And Caring', 'Love And Only Love (1991 Live LP Version)', 'Love And Respect', 'Love And War (11/11/46) (Album Version)', 'Love Buzz', 'Love Can Damage Your Health', 'Love Comes Tumbling', 'Love Conquers Time (Album Version)', 'Love Cry', 'Love Dog', \"Love Don't Let Me Go (Walking Away)\", \"Love Don't Live Here Anymore\", 'Love Gone To Waste (Album Version)', 'Love In 2 Parts', 'Love In This Club Part II', 'Love Is A Deserter', 'Love Is A Losing Game', 'Love Is A Place', 'Love Is All', 'Love Is All Around', 'Love Is Gone (Fred Riester & Joachim Garraud Rm)', 'Love Is Gone (Original Mix)', 'Love Is Gonna Save Us ', 'Love Is Here', 'Love Is Never-Ending', 'Love Is Not A Fight', 'Love Is On The Way (LP Version)', 'Love Is Stronger Than Pride', 'Love It All', 'Love Letter To Japan', 'Love Like Honey (amended album version)', 'Love Like Winter', 'Love Lost', 'Love Lost (Album Version)', 'Love Me', 'Love Me Girl', 'Love Me Like A River Does', 'Love Means Remix', 'Love Of My Life (1993 Digital Remaster)', 'Love Remains The Same', 'Love Shack', 'Love So Right', 'Love Song', 'Love Song For No One', 'Love Stinks', 'Love Story', 'Love Street', 'Love The Way You Love Me', 'Love Theme', 'Love To Hate You', 'Love Train', 'Love Vigilantes (Album)', 'Love Walks In (Remastered Album Version)', 'Love Will Keep Us Together', 'Love Will Tear Us Apart', 'Love Will tear Us Apart', 'Love You Down', 'Love You More', 'Love Your Love The Most', 'Love is...', 'Love vs. Money', 'Love vs. Money: Part 2', 'Love/Hate', 'LoveGame', 'LoveStoned/I Think She Knows', 'Lovebug', 'Lovefool', 'Lovely Allen', 'Lovely Head', 'Lovely Ladies', 'Lover Of Mine', \"Lover's Spit (Redux)\", 'Loverboy', 'Loverman', 'Lovers And Friends', 'Lovesick', 'Lovesong of the Buzzard (Album)', 'Lovestain', \"Lovin' You (1993 Digital Remaster)\", 'Loving You [Album Version]', 'Low', 'Low Rider', 'Lower Your Eyelids To Die With The Sun', 'Lowrider', 'Loyalty', 'Lua (Single Version)', 'Luca', 'Lucille', 'Lucky', 'Lucky (Album Version)', 'Lucky Man', 'Lucky Me', 'Lucy (Album Version)', 'Luka', 'Lulla', 'Lullaby', 'Lullaby In Three/Four', 'Lullaby Of Birdland', 'Lullabye', 'Lumidee', 'Lump', 'Lump Sum', 'Lunar Sea', 'Lune TNS', 'Luno', 'Lunático', 'Lurgee', 'Luv Me_ Luv Me', 'Luvstruck', 'Luxurious', 'Luz Dos Olhos', 'Lycanthrope', 'Lying From You (Album Version)', 'M', 'M1 A1', 'M79 (Album)', 'MASTERPLAN (ORIGINAL)', 'MEIN TEIL', 'MIC (Speak Life Album Version)', 'MMMBop', 'MOSKAU', 'Macarena', 'Machine Gun', 'Machine Gun Funk  (Explicit Album Version)', 'Machine Kit', 'Macho Man', 'Mack The Knife (Album Version)', \"Macomb's Dam Bridge\", 'Mad House', 'Mad Season (LP Version)', 'Mad World', 'Madder Red', 'Made For You', 'Made In The Dark', 'Made Of Scars (Album Version)', 'Mafia Style', 'Magdalena', 'Magia', 'Magia Veneno', 'Magic', 'Magic (LP Version)', 'Magic Bus', 'Magic Carpet Ride', 'Magic Man', 'Magick', 'Mahler: Quartet for Piano and Strings in A minor: Allegro', 'Mahna_ Mahna', 'Main Offender', 'Majesty', 'Major Tom (Coming Home)', 'Make A Mistake', 'Make Gay Love Not War', 'Make Her Say', 'Make It Mine (Album Version)', 'Make It Wit Chu', 'Make It With You (LP Version)', 'Make Love To Your Mind', 'Make Me', 'Make Me Better', 'Make Me Happy', 'Make Music', 'Make This Go On Forever', 'Make Up Your Mind', 'Make You Mine', 'Make You Smile', 'Make Yourself', 'MakeDamnSure (Album Version)', 'Makes Me Wonder', 'Making Love (Into The Night)', 'Making Money Off God feat. Bus Driver', 'Making Time', \"Mal D'Africa (2004 Digital Remaster)\", 'Mala Suerta con el 13', 'Mala Vida', 'Malaria Codes', 'Malibu', 'Malkaus - Alap', 'Malo (Explicit)', 'Mama', 'Mama (2001 Edit)', 'Mama Do (uh oh_ uh oh)', 'Mama Kin', 'Mama Said', 'Mama Said Knock You Out', 'Mama Tierra', \"Mama's Room\", 'Mambo No. 5 (A Little Bit Of...)', 'Mamma', 'Mammoth', 'Man In The Box', 'Man Makes The Zoo', 'Man Next Door', 'Man Of A Thousand Faces (Album Version)', 'Man Research (Clapper)', 'Man To Man', 'Man Who Make You Sick', 'Man/Bag Of Sand', 'Manchild', 'Mandarine Girl', 'Mango Pickle Down River (With The Wilcannia Mob)', 'Mango Tree', 'Manhattan', 'Maniac', 'Manic Monday', 'Manowar', 'Mansard Roof (Album)', 'Manuel', 'Many Ghosts', 'Many Moons (EP Version)', 'Many Of Horror', 'Many Shades Of Black', 'Map Of The Problematique', 'Maradona', 'Marble Halls (Remastered 2009)', 'Marble House', 'March Of The Celts', 'Marchin On', 'Marching Theme', 'Marciano (I Turned Into A Martian)', 'Mardy Bum', 'Margaret In Captivity', 'Margarita', 'Margaritaville', 'Marianas', 'Mariposa traicionera', 'Marquee Moon (LP Version)', 'Marrakech', 'Marry Me', 'Marry Song (Album)', 'Mars vs. Venus', 'Marshall Examines His Carcass', 'Marshall Mathers', 'Mary (Album)', 'Mary Ann', 'Mary Jane', 'Mary Jane (Acoustic Album Version)', \"Mary's In India\", 'María', 'Mas Vale Cholo', 'Masculine Eclipse', 'Masquerade (Reality Check Album Version)', 'Mass Appeal (Explicit)', 'Massive Attack', 'Master Of Puppets', 'Masters Of The Universe', 'Masterswarm', 'Matchbox', 'Matenme Porque Me Muero', 'Mathletics', 'Matinée', 'Matricide', 'Maundy Thursday', 'Maxine', 'May It Be (Album version)', 'Maybe', \"Maybe I'm Amazed (Album Version)\", 'Maybe Not', 'Mayday!!!', 'McFearless', 'Me & Mr Jones', 'Me & Mrs. You', 'Me & My B*tch (Album Version)', 'Me & U', 'Me About You', 'Me Amo', 'Me And Bobby McGee', 'Me And Charlie Talking', 'Me And God', 'Me And John And Paul', 'Me And Mrs. Jones (Album Version)', 'Me And My Friends (2003 Digital Remaster)', 'Me Arde', 'Me Cuesta Tanto Olvidarte', 'Me Da Igual', 'Me Da Miedo', 'Me Demoro (vivo)', 'Me Estoy Enamorando', 'Me Falta El Aliento', 'Me Fui', 'Me In You', 'Me Name Jr. Gong', 'Me Pregunto', 'Me Quedo Contigo [Si Me Das A Elegir]', 'Me Siento Mucho Mejor (I Feel Much Better)', 'Me Voy', 'Me and Your Cigarettes', 'Me_ My Yoke And I', 'Me_ Myself & I', 'Me_ Myself And I', 'Mea Culpa', 'Meadowlarks', 'Mean Old World', 'Mean Street (Album Version)', 'Meaning Of Life (Album Version)', 'Meanwhile_ Rick James...', 'Meatplow (LP Version)', 'Mechanical Animals', 'Medias Negras', 'Medicating', 'Medicine Man  (LP Version)', 'Mediocre Bad Guys', 'Medley:  Amanda/A Couple More Years', 'Medley: Let Me Talk To You/ My Love', 'Medley: Summer Love/Set The Mood (Prelude)', 'Medusa', 'Meet Me In the City', 'Meet Virginia', 'Meet the Monster', 'Meeting Paris Hilton (Album)', 'Megalomania', 'Mein Herz (Live)', 'Mein Herz Brennt', 'Melancholy Mood', 'Melatonin', 'Mellow Mood', 'Melodies & Desires', 'Melody Day', 'Melody Of Life', 'Melt!', 'Memorial', 'Memories', 'Men Who Love Women Who Love Men', 'Mercedes Benz - Remix', 'Mercy', 'Mercy:The Laundromat', 'Merry Happy / Little Red', 'Message From Yuz [Album Version]', 'Message In A Bottle', 'Messages', 'Metal Heart', 'Metal Militia', 'Metalingus', 'Meteor', 'Meteor Shower', 'Methamphetamine', 'Method Man', 'Metropolis', 'Meu Mundo É Hoje (Eu Sou Assim)', 'Mexican Radio', 'Mexico', 'Mi Caramelo', 'Mi Marfil', 'Mi Primer Dia Sin Ti', 'Mi Princesa', 'Mi primer millon', 'Mia', 'Miami', 'Michael', 'Microdaze', 'Microfoni Assassini (2005 Digital Remaster)', 'Microphones in the Trees', 'Middle Man', 'Middle Of Nowhere (Album Version)', 'Midlife Crisis', 'Midnight Bottle', 'Midnight Flyer  (LP Version)', 'Midnight In A Perfect World', 'Midnight Souls Still Remain', 'Midnight Special', 'Midnight in Her Eyes', 'Mike Mills', 'Mil Horas', 'Mild Child (Album)', 'Miles Apart', 'Miles Away', 'Miles Away (Album Version)', 'Milk', 'Milk It', 'Milkshake', 'Million Faces (Album Version)', 'Millstone', 'Milo Gia Ta Pedia Mou (2006 Digital Remaster)', 'Milonga Del Marinero Y El Capitan', 'Milonga del moro judio', 'Milord', 'Milton At Midnight', 'Mince Meat', 'Miniature Disasters', 'Minnie The Moocher', 'Minors', 'Miracle', 'Mirando', 'Mirror Song', 'Mise En Bouche', 'Miserable At Best (Album)', 'Miserable Lie', 'Misery Business (Single Version)', 'Misfit Love', 'Misfits', 'Misguided Ghosts (Album Version)', 'Misirloo', 'Misled', 'Misread', 'Miss Independent', 'Miss It So Much', 'Miss Murder', 'Miss Sarajevo', 'Miss Teen Wordpower', 'Miss U (Amended Version)', 'Miss You', 'Miss Your Touch (Album Version)', 'Missed The Boat', 'Missing', 'Missing Persons 1 & 2', 'Missing You', \"Mission's Message\", 'Mississippi Queen', 'Mistadobalina', 'Mister Jung Stuffed', 'Mistica', 'Mistress Mabel', 'Misunderstood', 'Mix Tape', 'Miéntele', 'Mmm Mmm Mmm Mmm', 'Moan', \"Moar Ghosts 'n' Stuff\", 'Mockingbird', 'Modern Guilt', \"Modern Man's Hustle\", 'Modern Times', 'Modern Way', 'Modern world', 'Moje Mieszkanie', 'Molfsee', 'Molina', 'Molly', \"Molly's Chambers\", 'Molossus', 'Moment Of Clarity', \"Momma's Boy\", 'Mon Kiss à Oxygéne', 'Mona Lisa (When The World Comes Down)', 'Monday Morning (LP Version)', 'Monday Morning Cold (band)', 'Mondegreen', 'Money (featuring Gary \"Nesta\" Pine & Dollarman)', \"Money Ain't A Thang\", 'Money Folder', 'Money In The Bank [Feat. Young Buck] (Main Version)', 'Money On My Mind', 'Money Straight (Explicit Album Version)', 'Money To Blow', 'Mongoloid', 'Monkey 23', 'Monkey Gone To Heaven', 'Monkey Man', 'Monolithe II', 'Monsoon', 'Monster', 'Monster (Album Version)', 'Monster Mash', 'Monsters (Album Version)', 'Montanita', 'Monument (Album Version)', 'Mony Mony', 'Mony Mony (Downtown Mix)', 'Moog Island', 'Moon And Moon', 'Moon Baby', 'Moonchild (1998 Digital Remaster)', 'Moondance (Album Version)', 'Moonlight', 'Moonlight Drive [Version 1]', 'Moonshadow', 'Moonshine', 'Moppitopit: Tähtiä silmissäni nään (2006 Digital Remaster)', 'More Adventurous (Album Version)', 'More Than A Feeling', 'More Than A Woman', 'More Than Everything', 'More Than Meets The Eye', 'More Than This', 'More Than Words', 'More Time (Album Version)', 'Morning Has Broken', 'Morning Train (Nine to Five)', 'Mossing Around', 'Mostly Translucent', \"Moth's Wings\", 'Mother In-Law', 'Mother Knows Best', \"Mother's Journey\", 'Motion Sickness', 'Motownphilly', 'Mount Wroclai (Idle Days)', 'Mountain Song ( LP Version )', 'Mountains', 'Mourning Air', 'Mourning Dove', 'Mouth For War (LP Version)', 'Move', 'Move (If You Wanna)', 'Move Along', 'Move Away', 'Move Bitch', 'Move For Me', 'Move It Up (Muévela)', 'Move On', 'Move On (Album Version)', 'Move On Up (Extended LP Version)', 'Move Over', 'Move Shake Drop Remix', 'Move The Crowd', 'Move Your Feet', 'Movement', \"Movin' On\", \"Movin' Out\", \"Movin' Out (Anthony's Song)\", 'Moving', 'Moving To New York (album version)', \"Mowgli's Road (Single)\", 'Mr Blue', 'Mr Blue Sky', 'Mr Bojangles', 'Mr Sandman', 'Mr Vain', 'Mr Wendal (Edit)', 'Mr. Brownstone', 'Mr. Crowley', \"Mr. Highway's Thinking About The End\", 'Mr. Jones', 'Mr. Jones (Explicit Version)', 'Mr. Maker', 'Mr. Man', 'Mr. P-Mosh', 'Mr. Pitiful', 'Mr.Curiosity  (Album Version)', 'Mrs Thompson', 'Mrs. Officer', 'Mrs. Robinson (LP Version)', 'Ms. Fat Booty', 'Ms. Jackson', 'Mud On The Tires', 'Mudanca De Tempo', 'Muggle Born', 'Mujer Amante', 'Mujeres', 'Mundo Roto', 'Murder She Wrote', 'Murder The Government', 'Murderers (Album Version)', 'Murders In The Rue Morgue (1998 Digital Remaster)', 'Murguita Del Sur', 'Murmullo', 'Mushaboom', 'Mushrooms', 'Music And Lights', 'Music Box', 'Music Is Happiness', 'Music Is My Hot_ Hot Sex (Album)', 'Music Kills Me', 'Music Matters (Mark Knight Dub)', 'Music My Rock', 'Music Now', 'Music Of The Sun', 'Music Sounds Better With You (12\" Club Mix)', 'Music When The Lights Go Out', 'Musique', \"Must Be Doin' Somethin' Right\", 'Must Be Dreaming', 'Must Be The Ganja', 'Must Have Done Something Right', 'Musti Sotakoira (2007 Digital Remaster)', \"Mutha'uckas (Album Version)\", 'Mutiny (album version)', 'Mutiny_ I Promise You', 'Mutt', 'Mutter', 'Muérdete la lengua', 'My All', 'My Angel Rocks Back And Forth', 'My Apocalypse', 'My Baby Left Me', 'My Band', 'My Beloved Monster', 'My Body Is A Cage', 'My Boy Builds Coffins', 'My Curse (Album Version)', \"My Dad's Gone Crazy\", 'My December', 'My Delirium', 'My Doorbell (Album Version)', 'My Family\\x19s Role In The World Revolution', \"My Father's Eyes\", 'My Favorite Accident (Album Version)', 'My Favorite Mistake', 'My First Kiss (Feat. Ke$ha) [Album Version]', 'My Friend Dario', 'My Friends (Album Version)', 'My Friends Over You', 'My Generation', 'My Girl Is Calling Me a Liar', 'My Glorious', 'My Happiness', 'My Happy Ending', 'My Heart (Album Version)', 'My Heart Is An Apple', 'My Heart Is An Open Book', 'My Heart Is Broken', 'My Heart Will Go On', 'My Hippocratic Oath', 'My Holiday', 'My Humps', 'My Immortal', 'My Immortal (Album Version)', 'My Immortal (bonus)', 'My Last Breath', 'My Last Serenade', 'My Last Song To Jenny', 'My Life', 'My Life (featuring Mary J. Blige)  (Explicit Version)', 'My Life For Hire', 'My Life Would Suck Without You', 'My List', 'My Little Brother', 'My Love', \"My Lover's Gone\", \"My Lovin' (You're Never Gonna Get It) (LP Version)\", 'My Maria', 'My Maudlin Career', 'My Michelle', 'My Mistakes Were Made For You', 'My Mom', 'My Moon My Man', 'My Name Is', 'My Name Is Jonas', 'My Neck_ My Back', 'My Night With the Prostitute From Marseille', 'My Oh My', 'My Old School', 'My Own Hell', 'My Own Worst Enemy', 'My Paper Heart', 'My Perfect Cousin', 'My Place', 'My Plague (Album Version)', 'My Poor Old Heart', 'My Propeller', 'My Rights Versus Yours', 'My Sacrifice', 'My Saro Jane', 'My Savior My God (Album Version)', 'My Sharona', 'My Shepherd (Psalms 23) (featuring Kurt Carr & Avalon)', 'My Slumbering Heart', 'My Style', 'My Sundown', 'My Time [Rehearsal]', 'My Wandering Days Are Over', 'My Week Beats Your Year', 'My Wife', 'My Wife_ Lost in the World', 'My World', 'My Worst Nightmare', 'Mykel And Carli', 'Mykonos', 'Myriad Harbour', 'Mysterious Ways', 'Mystery Hours', 'Mystic Brew', 'Myxomatosis', 'Mílanó', 'Música Para Una Boda', 'N A Whitemanzeyez', 'NAISEN KANSSA', 'NJ Legion Iced Tea', 'Na Vi', 'Nací Orishas', 'Nada De Ti', 'Nada Es Para Siempre', 'Nah!', 'Naive', 'Naked', 'Naked As We Can', 'Naked Sunday (LP Version)', 'Naked and Famous', 'Nantes', 'Naomi', 'Napoleon On The Bellerophon', 'Napoleon Says', 'Narc', 'Narcotic (Long Version)', 'Nasty Girl', 'Nasty Girl (Featuring Diddy_ Nelly_ Jagged Edge and Avery Storm) (Explicit Album Version)', \"Natalie's Rap\", 'Natural Anthem (Album)', 'Natural Disaster', \"Natural's Not In It\", 'Naturally', 'Nature of the Experiment', 'Naughty Girl', 'Nausea', 'Naïve', 'Near To You', 'Nearly Home', 'Necesito Amarte', 'Needle In The Hay', 'Needy Girl', 'Negative Creep', 'Neighborhood #1 (Tunnels)', 'Neighborhood #3 (Power Out)', 'Neighborhood #4 (Kettles)', 'Neighborhoods', 'Nemo', 'Neon', 'Neon Bible', 'Neon Knights', 'Neon Tiger', 'Nervous Breakdown', 'Never', 'Never Again', 'Never As Good As The First Time', \"Never As Tired As When I'm Waking Up\", 'Never Be The Same', 'Never Before', 'Never Content', 'Never Ending Math Equation', 'Never Enough', 'Never Ever', 'Never Felt This Way', 'Never Gonna Be Alone (Album Version)', 'Never Gonna Give You Up', 'Never Gonna Happen', 'Never Gonna Let You Go', 'Never Had A Dream Come True', 'Never Knew Love', 'Never Know', 'Never Let Me Down', 'Never Let You Go', 'Never Met The Gooch', 'Never Miss A Beat', 'Never Say Never', 'Never Stops', 'Never There', 'Never Too Far', 'Never_ Never Gonna Give Ya Up', 'New', 'New Blue Moon (2007 Remastered LP Version)', 'New Born', 'New Direction (Original Version)', 'New Divide (Album Version)', 'New Morning', 'New Noise', 'New Orleans (Album Version)', 'New Shoes (Album Version)', 'New Soul', \"New Year's Prayer\", 'New York', 'New York City Cops', 'New York Groove', \"New York_ I Love You But You're Bringing Me Down\", 'Newjack', 'Newspaper Reporter', 'Next Evil', 'Next Girl', 'Next To You', 'Next To You   (Explicit Album Version)', 'Next Year', 'Ni Tú Ni Nadie (Versión Demo)', 'Nice', 'Nice & Slow', 'Nice Boys', 'Nice To Know You', 'Nice Weather For Ducks', 'Niets Dan Dit', 'Night Bus', 'Night By Night', 'Night Drive (Acoustic)', 'Night Village', 'Nightlite (Zero dB Reconstruction - Radio Edit)', 'Nightly Journey', 'Nightrain', 'Nights Like This', 'Nights On Broadway (Album Version)', 'Nightshift', 'Nighttime', 'Nightvision', 'Nimrod\\x19s Son', 'Nine In The Afternoon (Album Version)', 'Nine In the Afternoon', 'Nine Million Bicycles', 'Nine Steps', 'Nine Times Out Of Ten (1998 Digital Remaster)', 'Nineteen (Album Version)', 'Nishe', \"Nitpickin'\", 'Nitro (Youth Energy)', 'Niño', 'Niño Soldado', 'Nlogax', 'No Air duet with Chris Brown', 'No Apologies', 'No Balanço Da Canoa', 'No Cars Go', 'No Ceiling', 'No Children', 'No Creo En El Jamas', 'No Dejes Que...', 'No Diggity', 'No Doubling Back (Eagles Ballroom Live Version)', 'No Envy No Fear', 'No Estaré Allí', 'No Excuses', 'No Fit State', 'No Fun', 'No Good 4 You', 'No Government', 'No Hay Dolor', 'No Hay Nadie Como Tú', 'No I In Threesome', 'No Leaf Clover', 'No Limit', 'No Llegas A Mí', 'No Llores Por Mi', 'No Love', 'No Me Ensenaste', 'No Milk Today', 'No More \"I Love You\\'s', 'No More Mosquitoes', 'No More Tears', 'No More Words  (Re-Recorded / Remastered)', 'No Names (Black Debbie)', 'No One', 'No One Else', 'No One Knows', \"No One's Gonna Love You (Album)\", 'No Ordinary Love', 'No Ordinary Love (Remastered LP Version)', 'No Phone', 'No Pienses De Mas', 'No Puedo Evitar (Pensar En Ti)', 'No Rain', 'No Regrets', 'No Remorse', 'No Rest', 'No Sabes Como Duele', 'No Said Date', 'No Seas Cruel (vivo)', 'No Seu Lugar', 'No Siento Penas', 'No Sleep Till Brooklyn', 'No Sunlight (Album Version)', 'No Surprise', 'No Te Quiero Acá', 'No Te Rindas', 'No Way Back', 'No Way Down', 'No Way Jose', 'No You Girls', 'No es lo mismo', 'No. 5', 'Noam Chomsky Spring Break 2002', 'Nobody (Featuring Athena Cage) (LP Version)', 'Nobody But You', 'Nobody Does It Better', 'Nobody Move_ Nobody Get Hurt (Acoustic)', 'Nobody Not Really (Interlude)', 'Nobody Puts Baby In The Corner', 'Nobody Weird Like Me (2003 Digital Remaster)', \"Nobody's Perfect\", 'Noc...', 'Noctuary', 'Nocturnal', 'Noise', 'Nokian Takana', 'Nomenclature', 'Non E_ Per Te_ Per Me', 'None Shall Pass (Main)', 'Normal Guy', 'North', 'North American Scum', 'North Of the Yukon', 'North Sea Storm (Live)', 'Northern Downpour [Live In Chicago]', 'Northern Sky', 'Norway', 'Nostalgia', 'Nostalgia Amnesia', 'Nostrand', 'Not A Robot_ But A Ghost', 'Not Alone Any More', 'Not An Addict', 'Not Big', 'Not Even Jail', 'Not Every Man Lives', 'Not Exactly', 'Not Fade Away', 'Not Fair', 'Not Fair (Clean Radio Edit)', 'Not Falling Apart', 'Not For You', \"Not Good Enough For Truth In Cliche'\", 'Not In Love', 'Not Miserable', 'Not Ready To Make Nice', 'Not So Usual (Eagles Ballroom Live Version)', 'Not The American Average (feat. NO)', 'Not The Doctor (LP Version)', 'Not To Touch The Earth [Take 2]', 'Not the One (Album Version)', \"Nothin' On You [feat. Bruno Mars] (Album Version)\", 'Nothing', 'Nothing Better (Album)', 'Nothing Can Come Between Us', 'Nothing Even Matters', 'Nothing Ever Happened', 'Nothing Lasts Forever', 'Nothing Like You', 'Nothing On But The Radio', 'Nothing Owed', \"Nothing's Gonna Stop Us Now\", 'Notorious', \"Notorious B.I.G. (Featuring Lil' Kim & Puff Daddy)(Album Version)\", 'November Has Come', 'Novocaine', 'Novocaine For The Soul', 'Now Behold The Lamb', 'Now I Lay Thee Down (Explicit Album Version)', \"Now I'm High_ Really High\", \"Now My Feet Won't Touch The Ground\", 'Now Or Never', 'Now That We Found Love', \"Now You're Gone\", 'Nuestra Cancion', 'Nuestros Nombres', 'Numb', 'Numb (Album Version)', 'Numb (album version)', 'Numb / Encore [Live At Milton Keynes]', 'Number One', 'Number One Song', 'Nut City (2000 Digital Remaster) (The Rudy Van Gelder Edition)', 'Nuthinduan Waltz', 'Nutshell', 'Não Posso Viver Sem Ela', 'Não É Proibido', 'O Death', 'O Green World', 'O Hosanna', 'O Meu Amor Anda Em Fama', 'O My God', 'O New England', \"O Ouranos Pano Ap' ton Grammo\", 'O Samba E O Tango', 'O Segundo Sol', 'O Tempo Não Pára', 'O-o-h Child', 'O.N.E', 'O.P.P.', 'OHNE DICH', 'OMG', 'OVO MI JE `KOLA', 'Observándonos (Satélites)', 'Obsesion', 'Obsessed', 'Obsession', 'Obsessions', 'Ocean And Atlantic (Album)', 'Ocean Avenue', 'Ocean Breathes Salty', 'Ocean Of Noise', 'Ocean View', 'Oceans', 'Oceanside', 'Octavo Día', 'October Song', 'Odalisque', 'Odd One (Radio Edit)', 'Ode To My Family', 'Ode to LRC (Album)', 'Odessa', 'Of Moons_ Birds & Monsters', 'Of Myth And Men (Album Version)', 'Of Wolf And Man', 'Off Da Hook', 'Office (LP Version)', 'Officially Missing You (Radio Version)', 'Oh Boy', 'Oh Comely', 'Oh Girl', 'Oh Jungleland', \"Oh Lately It's So Quiet\", 'Oh My God', 'Oh No', 'Oh No! (album version)', 'Oh Sister', 'Oh Timbaland', 'Oh Very Young', 'Oh What A Night', 'Oh Yeah!', 'Oh!', \"Oh! Sweet Nuthin' (LP Version)\", 'Oh! You Pretty Things (1997 Digital Remaster)', 'Oh_ George', 'Oh_ La', 'Oh_ Susannah (LP Version)', 'Oh_ The Devastation', 'Ohio', 'Oil And Water', 'Ojalá', 'Ojalá que llueva café', 'Ojos De Video Tape', \"Ol' Lady (Explicit Album Version)\", \"Ol' Red (Album Version)\", 'Old Enough (Featuring Ricky Skaggs and Ashley Monroe)', 'Old Flame', 'Old Man (Album Version)', 'Old Man Time (Album Version)', 'Old School Rules (Album Version)', 'Old Song', 'Old Soul Song', 'Old White Lincoln', 'Old Yellow Bricks', 'Older Chests', 'Older Gods', 'Olio', 'Oliver James', 'Olsen Olsen', 'Oltremare', 'Olympic Airways', 'Om Nashi Me', 'Omen', 'On A Deeper Level', 'On A Plain', 'On And On (Edited)', 'On Bended Knee', 'On Green Dolphin Street (Medley) (1999 Digital Remaster)', 'On Love_ In Sadness (LP Version)', 'On Melancholy Hill', 'On My Own', 'On My Way', 'On My Way Back Home', 'On My Way Home', \"On N'A Pas Changé\", 'On Repeat', 'On The Bus Mall', 'On The Other Hand (Album Version)', 'On The Radio (Album Version)', 'On The Road Again', 'On The Road Again (Pigna People Remix)', 'On The Run', 'On Your Porch  (Album Version)', 'On Your Way', 'On a Bayonet', 'On a Neck_ On a Spit', 'Ona Kasuita', 'Once In A Lifetime', 'Once In A Lifetime (Remastered LP Version )', 'Once Upon A December (LP Version)', 'Once again', 'Once upon a time in the west', 'One', 'One (Always Hardcore) (Radio)', 'One And Only', 'One Beat', 'One Call Away', \"One Day I'll Fly Away\", 'One Day Too Late (Album Version)', 'One Fine Wire', 'One Headlight', 'One I Love', 'One In A Million', 'One Kiss From You', 'One Last Breath', 'One Last Kiss (LP Version)', 'One Last Time', 'One Less Lonely Girl', 'One Life Stand', 'One Line Wonder', \"One Man Gets Around (Everything That's On My Mind Album Version)\", 'One Man Show', 'One Minute To Midnight', 'One More Chance (Album Version)', 'One More Drink', 'One More Night', 'One More Sad Song', 'One More Step To Take', \"One More Time (Romanthony's Unplugged)\", 'One More Time (Short Radio Edit)', 'One More Time / Aerodynamic', 'One Night In Bangkok', 'One Of The Boys', 'One Of These Things First', 'One Of Those Days', 'One Of Us', 'One One One', 'One Pure Thought', 'One Red Thread', 'One Shot (Album Version)', 'One Step Beyond', 'One Step Closer (Album Version)', 'One Step Too Far', 'One Summer Night', 'One Sweet Day', 'One Sweet World', 'One Thing', 'One Time', 'One Time Too Many', 'One Touch', 'One Tribe', 'One Way Ticket [Radio Edit]', 'One Way Trip', 'One Year_ Six Months', 'One and Only', 'One more night (your ex-lovers remains dead)', 'Online Songs', 'Only', 'Only Happy When It Rains', 'Only Human', 'Only If', 'Only In Dreams', 'Only One', 'Only One (Live) (Sessions@AOL)', 'Only Superstition', 'Only The Moment (All The Time In The World Mix)', 'Only This Moment (Röyksopps Forsiktige Massasje)', 'Only Time (Original Version)', 'Only Wanna Be With You (LP Version)', 'Only You', 'Only You (Illuminate Album Version)', 'Only You-Bad Boy Remix (Featuring The Notorious B.I.G. & Mase) (Album Version)', 'Ooh La', 'Ooh La La', 'Ooh Wee (featuring Ghostface Killah_ Nate Dogg_ Trife & Saigon) (Amended Version)', 'Oops!...I Did It Again', 'Open All Night', 'Open Your Eyes', 'Open Your Eyes (Explicit LP Version)', 'Opened Once', 'Opening Up (Ce Soir On Danse)', 'Opera Singer', 'Opium Of The People (Album Version)', 'Opposite Of Adults', 'Opus No. 12', 'Opus No. 14', 'Orange Sky', 'Orange Trägt Nur Die Müllabfuhr (Go West)', 'Orbit Brazil', 'Ordinary', 'Orestes', 'Organ Donor', 'Organum', 'Orgelblut', 'Orinoco Flow', 'Orion', 'Orishas Llego', 'Ort', 'Osaka Loop Line', 'Other Mathematics', 'Other Towns And Cities', 'Otherside (Album Version)', 'Otherwise', 'Our Filmscore', 'Our House', \"Our Lawyer Made Us Change The Name Of This Song So We Wouldn't Get Sued\", 'Our Love Is Easy', 'Our Song', 'Our Swords (Soundtrack Version)', 'Our Time Now', 'Out At The Pictures', 'Out Of Exile', 'Out Of Sight', 'Out Of Town', 'Out Ta Get Me', 'Out There On The Ice', 'Outro', 'Outshined', 'Outside (Original LP Version)', 'Outta Control', 'Outta Sight', 'Over', 'Over And Out', 'Over And Over', 'Over And Over (Maurice Fulton Dub)', 'Over My Head (Cable Car)', 'Over The Hills And Far Away', 'Over The Pond', 'Over The Rainbow', 'Over The Wall', 'Over You', 'Overboard', 'Overburdened (Album Version)', 'Overjoyed', 'Overjoyed / Ancora', 'Overload', 'Overrated', 'Overture', 'Overture/And All That Jazz', 'Owl Eyes', 'Own Little World', 'Oxford Comma (Album)', 'Oxygen', \"P.D.A. (We Just Don't Care)\", 'P.I.G.S.', 'P.I.M.P.', 'PDA (E.P Version)', \"PS Don't Write\", 'PUNKB*TCH (Explicit Album Version)', 'PUSSY', 'Pa', \"Pa'l Norte\", 'Paa vauhtii', 'Pablo Picasso/Mary Lou (Live)', 'Pace Is The Trick', 'Packt Like Sardines In A Crushed Tin Box', 'Pagan Angel and a Borrowed Car (Album)', 'Pages', 'Paid In Full', 'Pain', 'Pain In My Heart', 'Pain Redefined (Album Version)', 'Paint Me A Birmingham (2007 Remastered LP Version)', 'Paint The Sky With Stars', 'Paint The Town Red', \"Paint's Peeling\", 'Painting by Chagall', 'Pais E Filhos', 'Pak Dit Grej (1998 Digital Remaster)', 'Pale Blue Eyes', 'Palm Reader', 'Palmdale', 'Pam Berry (Album)', 'Panic', 'Panic Switch (UK edit)', 'Pansy Twist', 'Panty Droppa [Intro] (Album Version)', 'Pap Smear', \"Papa Don't Preach\", 'Papa Noah (2004)', 'Paper Aeroplane', 'Paper Gangsta', 'Paper Planes', 'Paper Wings', 'Paperthin Hymn', 'Paperweight', 'Para Hacerme Perdonar (En Vivo Teatro Metropolitan)', 'Para No Olvidar', 'Para No Verte Más', 'Para Tu Amor', 'Parabienes Al Reves', 'Parachute', 'Paradise', 'Paradise & Dreams', 'Paradise By The Dashboard Light', 'Paradise Circus', \"Paradise Circus (Breakage's Tight Rope Remix)\", 'Paradise Circus (Gui Boratto Remix)', 'Paradise City', 'Parallel Lines', 'Parallel Universe (Album Version)', 'Paralyzer', 'Paranoid', 'Parasito', 'Pardon Me', 'Paris', 'Paris (Acoustic)', 'Paris_ Tokyo (Explicit Album Version)', 'Parisian Goldfish', 'Parklife', 'Parks', 'Part Of The Process', 'Particle Man (LP Version)', \"Party At A Rich Dude's House\", 'Party For Two', 'Party In The U.S.A.', 'Party Like A Rock Star', 'Pas De Cheval [Live In Chicago]', 'Pass Out (Instrumental)', 'Pass The Dutch', 'Pass The Dutchie', 'Pass This On', 'Passenger (LP Version)', \"Passin' Me By\", \"Passin' Me By (Brixton Flavour)\", 'Passion', 'Past In Present', 'Pata Pata (Album Version)', 'Path', 'Patience', 'Patriach On A Vespa', 'Patron [Explicit Album Version]', \"Paul's Birthday\", 'Paulina', 'Peace Beneath the City (Album)', 'Peace Of Mind', 'Peace Train', 'Peacebone', 'Peaceful Valley', 'Peaches & Cream (full-length/album version)', 'Pearl Vision', 'Pearly', 'Peces', 'Pedro Navaja (Live LP Version)', 'Peep Show', 'Peg', 'Peligroso Pop', 'Pen And Notebook', 'Pencil Full Of Lead (album)', 'Penelope', 'People', 'People Are Crazy', 'People Are Strange', \"People C'mon\", 'People Got To Be Free', 'People Gotta Move', 'People Of The Sun', 'People Say', 'People Watching', 'Pepper', 'Percussion Gun', 'Perderte De Nuevo', 'Perdiendo El Tiempo', 'Perfect', 'Perfect (Album Version)', 'Perfect Crime', 'Perfecta', 'Perfectly Lonely', 'Perfidia', 'Perhaps Vampires Is A Bit Strong But&', 'Perhaps Vampires Is A Bit Strong But...', 'Permanent Daylight', 'Pero Me Acuerdo De Tí', 'Perro Amor Explota', 'Personal Jesus', 'Pervert Pop Song (feat. Ximena Sariñana and Patricia Lynn)', 'Pesada (Con Maigaz)', 'Pet Monster Shotglass', 'Pet Semetary', 'Petit Bois', 'Phantom', 'Phantom Limb (Album)', 'Phantom Lord', 'Phantom Part 1.5 (Album Version)', 'Phenomenon', 'Phoenix (Basement Jaxx Remix)', 'Phone Call From The Moon', 'Phone Home', 'Photobooth (Rolling Stone Original)', 'Photograph', 'Photographs', 'Pi-di-di-di', 'Piano Concerto No. 2 in G minor Op. 22 (2006 Digital Remaster): III.  Presto', 'Piazza_ New York Catcher', 'Pick Up', 'Picture', 'Picture Perfect', 'Picture Perfect [Explicit Album Version]', 'Picture U & Me', 'Pictures', 'Pictures Of You', 'Piece By Piece', 'Pieces', 'Pieces Of Me', 'Pienso En Ti', 'Piggy', 'Pills', 'Pills Drunk Daddy', 'Pimp On', \"Pimpa's Paradise\", \"Pimpin'\", 'Pinhead  (LP Version )', 'Pink', 'Pink Ego Box', 'Pink Frost', 'Pink Moon', 'Pink Triangle', 'Pins And Needles (Album Version)', 'Pintame', 'Pioneer to The Falls', 'Pirate Jet', 'Pistol Of Fire', 'Pitiful (Radio Edit) ()', 'Pitter-Pat', 'Pjanoo', 'Plane  (Album Version)', 'Planet 7', 'Planet Caravan', 'Planet Caravan (Remastered LP Version)', 'Planet Telex', 'Plans (Replanned by Mogwai)', 'Plastic Jungle', 'Plastic People', 'Plasticities', 'Plasticities (Remix)', 'Play', 'Play Crack the Sky', 'Play Girl', 'Play On', 'Play That Funky Music', 'Playboy', 'Played-A-Live (The Bongo Song)', \"Player's Anthem feat. Notorious B.I.G._ Lil\\x19 Cease and Lil\\x19 Kim\", \"Player's Ball\", \"Player's Prayer\", 'Playground', 'Playground Love', 'Plc.4 Mie Haed (Album Version)', 'Pleasant Valley Sunday', 'Please Do Not Let Me Go', 'Please Forgive Me', 'Please Mr. Postman', 'Please Read The Letter', 'Please_ Before I Go', 'Plug In Baby', 'Plumber In Progress #1', 'Plush (Acoustic)', 'Plush (LP Version)', 'Plástico', 'Pocket Porn (1990)', 'Pogo', 'Point And Shoot (Explicit Album Version)', 'Point Of Know Return', 'Point/Counterpoint (Album Version)', 'Poison', 'Poison Lips', 'Poison Oak (Album Version)', 'Pojo Pojo', 'Poke', 'Polaris', 'Police Truck', 'Polite Dance Song', 'Politik', 'Pollockshields', 'Pon De Floor', 'Poor Jackie', 'Poor Leno', 'Poor Little Rich Boy (Remastered Version)', 'Poor Places', 'Poor Twisted Me', 'Pop Champagne', 'Pop Is Dead', 'Pop The Glock', 'Por Besarte', 'Por La Noche', 'Por Onde Andei', 'Por que no ser amigos', 'Por quererte', 'Porchrail', 'Pork And Beans', 'Porno Disaster', 'Porno Graphique', 'Porterville', 'Pose', 'Positive Tension', 'Possessed', 'Possible Grenade', 'Possibly Maybe', 'Postcards From Far Away', 'Postcards From Italy', 'Poster Of A Girl', 'Posters', 'Potential Breakup Song', 'Pow Pow', 'Praise You', 'Praise You In This Storm (Medium w/o background vocals)', 'Pray', 'Pre-Game (Explicit) (Feat. Jay-Z)', 'Precious', 'Precious Things', 'Preciso Me Encontrar', \"Pree-Sisters Swallowing a Donkey's Eye\", 'Prego Amore', 'Prelude', 'Prelude 12/21', 'Prelude And Yodel (2008 Digital Remaster)', 'Prelude/Prologue', 'Premonicion', 'Prenzlauerberg', 'Pressure', 'Pressure [feat. Jay-Z] (Explicit Album Version)', 'Pretty Girls Make Graves', 'Pretty Little Ditty', 'Pretty Noose', 'Pretty Pink Ribbon', 'Pretty Wings', 'Primary', 'Primavera', 'Primavera 0', 'Primer Dia', 'Primera Vez', 'Prince Caspian', 'Princesa', 'Prisoner Of Love', 'Pro Lover', 'Pro Nails (feat. Kanye West) (Rusko Remix)', 'Proceed', 'Processed World', 'Prodigal', \"Prodigal Son (Harvey's A Star In Your Own Mind Mix)\", 'Product Man', 'Prologue', 'Promise Less Or Do More', 'Promise Me', 'Promises Like Pie-Crust (Album)', 'Proof', 'Propane Nightmares', 'Proud Mary', 'Prove Yourself', 'Provider', 'Province', 'Prête A Porter', 'Prófugos', 'Psyche', 'Psycho', 'Psycho Killer', 'Psycho Killer (Acoustic)', 'Psychotic Girl', 'Public Pervert', 'Public Service Announcement (Interlude)', 'Puedes', 'Pulk/Pull Revolving Doors', 'Pull', 'Pull A U', 'Pull Up The People', 'Pulse Of The Maggots (Album Version)', 'Pump It', 'Pumpkin Soup', 'Punch Drunk Love', 'Punch You In The Jeans', 'Punchdrunk Lovesick Singalong', 'Punk', 'Punk (Radio Edit)', 'Punk Jazz (Live Verison)', 'Pupilas Lejanas', 'Puppetmad', 'Puppets', 'Pure Morning (Album Version)', 'Purity (Album Version)', 'Purple Pills', 'Purple Rain', 'Purple Weed', 'Purple [Sasha Midnight In Reykjavik]', 'Pursuit Of Happiness (nightmare)', 'Pursuit Of The Pimpmobile', 'Push', 'Push (Remastered Version)', 'Push It', \"Push The Eagle's Stomach\", \"Pushin' Me Away\", 'Pushing Me Away (Album Version)', 'Pussy', 'Put A Lid On It', 'Put A Penny In The Slot', 'Put It Down', 'Put It On Me', 'Put Some Drive In Your Country (LP Version)', 'Put You On Game (Explicit Album Version)', 'Put Your Hands Up For Detroit', 'Put Your Head On My Shoulder (Album Version)', 'Put Your Records On', 'Puto', 'Q-Ball', 'Quality Control', 'Quality Of Mercy', 'Quando_ Quando_ Quando (Album Version)', 'Quante Volte Ti Ho Cercato', 'Que Lloro', 'Que Me Quedes Tu', 'Que Nadie', 'Que Tengo Que Hacer', 'Que dira el santo padre', 'Que pides tu?', 'Queen Of Memphis (Dance Mix)', 'Queen Of The Rodeo', 'Queer', \"Quelqu'un M'a Dit (Album Version)\", 'Question Existing', 'Questions', 'Questo Pazzo Pazzo Mondo Di Tasse', 'Quicksand', 'Quiero Quererte Querer', 'Quiero Verte Sonreir', 'Quiet Houses', 'Quiet Little Voices', 'Quutamo', 'R.A.K.I.M.', 'REISE_ REISE', 'ROCKSTAR 101', 'ROSENROT', 'Rabbit Habits', 'Rabbit Heart (Raise It Up)', 'Rabbit Run', 'Radar Detector', 'Radar Love', 'Radio', 'Radio Nowhere', 'Radio/Video', 'Radio_ Radio', 'Radioactive Toy', 'Raga Haripriya', 'Rage!', 'Ragged Wood', 'Ragoo', 'Raid', 'Rain', 'Rain Is A Good Thing', 'Rain On Your Parade', 'Rainbow', 'Rainbow In The Dark', 'Rainbow In The Sky', \"Rainin' You\", \"Raining Again (Steve Angello's Vocal Mix)\", 'Rainy Days And Mondays', 'Rainy Monday', 'Raise Up', 'Rally', 'Ramblin\\x19 (Wo)man', 'Rambling Man', 'Rammstein', 'Range Life', 'Rap Das Armas Lucana Club Mix Radio Edit', 'Rap Game', 'Raphael', \"Rapper's Delight\", 'Rapture', 'Rapture at Sea', 'Ras Trent', 'Raspberry Beret', 'Rasputin', 'Rat Race', 'Rattled', 'Ray Gun', 'Ray Of Light (Album Version)', 'Rayando el sol', 'Razor', 'Razzle Dazzle Rose', 'Re-Hash', 'Re: Your Brains', 'Reach Out', 'Read My Mind', 'Ready For Love', 'Ready For The Floor (Album Version)', 'Ready Or Not', 'Ready To Die (Amended Album Version)', 'Ready to Flow 2008', 'Ready_ Steady_ Go (Album Version)', 'Real Feat. Sarah Green (Album Version)', 'Real Girl', 'Real Love', 'Real World', 'Real World  (LP Version)', 'Reality Check', 'Reality Of Emptiness', 'Reality Shock', 'Realize', 'Rearviewmirror', \"Reason I'm Alive (Explicit)\", 'Reasons', 'Reasons Why', 'Rebel Without A Pause', 'Rebel Yell', 'Rebelion', 'Rebels of the Sacred Heart', 'Rebirth of Slick (Cool Like Dat) (2005 Digital Remaster) (Explicit)', 'Rebirthing (Album Version)', 'Rec & Play', 'Recado Falado (Metrô Da Saudade)', 'Recess', 'Reckless', 'Reckless Life', 'Reclaimer', 'Recovered', 'Recruiting Soldiers (2002 Digital Remaster)', 'Recycled Air (Album)', 'Red Cave', 'Red Dirt Road', 'Red Flag (Album Version)', 'Red Hats For The Masses', 'Red Hot', 'Red Light Indicates Doors Are Secured', 'Red October', 'Red Rabbits (Album)', 'Red Red Wine (Edit)', 'Red Right Ankle', 'Red Right Hand', 'Red River Rock', 'Red Sam', 'Red Socks Pugie', 'Red To Black (Album Version)', 'Redefine', 'Redneck', 'Redneck Woman', 'Redneck Yacht Club', 'Reek Of Putrefaction', 'Reel Around The Fountain', \"Reelin' In The Years\", 'Reflections Are Protection', 'Refuse / Resist', 'Refuse/Resist (Explicit Album Version)', 'Reggae En El Universo', 'Reggae On Broadway', 'Rehab', 'Reign Of The Tyrants', 'Reign of Terror', 'Rejection Role', 'Relax', 'Release Me', 'Relegate the Judge', 'Remedy', 'Remember', 'Remember (Walking In The Sand)', 'Remember December', 'Remember The Name (Album Version)', 'Remember When (Side A)', 'Remember When It Rained (Revised Live Version)', 'Rememo', 'Rent', 'Replay', 'Replay (Album Version)', 'Represent', 'Représente', 'Reptilia', 'Requiem', 'Requiem For A Dying Song', 'Rescue Me', 'Rescued (Album Version)', 'Resistance', 'Resolve', 'Resonate', 'Respect', 'Respect (Amended Version)', 'Respira', 'Responsible Stu', 'Rest', 'Rest My Chemistry', 'Restless', 'Resurrection', 'Resurrection Fern (Album)', 'Return', 'Revelry', 'Revenga', 'Revenge Is Sweeter [Than You Ever Were] (Album Version)', 'Reversing', 'Revolution', 'Revolution 909', 'Revolution Deathsquad (Album Version)', 'Revolvió', 'Rewind (Demo)', 'Rewind [feat. Wyclef Jean] (Album Version)', 'Rhineland (Heartland)', 'Rhinestone Eyes', 'Rhode Island Is Famous For You', 'Rhyme & Reason', 'Rhythm Is A Dancer', 'Rhythm Is A Dancer 08 (Tom Novy Remix)', 'Rhythm Of The Night', 'Rianna', 'Ribbons', 'Rich Girl', 'Rich Girls (Explicit Album Version)', 'Rich Kid Blues', 'Ricordati Di Noi', 'Ride A White Horse', 'Ride For You (Album Version)', 'Ride The Lightning', 'Ride Wit Me', 'Ridiculous Thoughts', 'Right Back', 'Right Down The Line', 'Right Here', 'Right Here (Album Version)', 'Right Here Waiting (Single Edit)', 'Right Now (Album Version)', 'Right Now (Radio Edit)', 'Right Now (Remastered Album Version)', 'Right On Redd', 'Right On Track', 'Right Side Of My Brain', 'Right Through You (LP Version)', 'Right Where I Need To Be', 'Right Where It Belongs', 'Rikkalicious ', \"Rikki Don't Lose That Number\", 'Ring My Bell', 'Ring Of Fire', 'Ring The Alarm', 'Ring-A-Ling', 'Ringer', 'Ringing Bells', 'Rio', 'Riot', 'Riot In Cell Block Number Nine', 'Riot Of Violence', 'Riot Van', 'Rip Tide', 'Ripcord', 'Ripper', 'Ripping Flesh', 'Rise', 'Rise & Fall [Feat. Sting]', 'Rise Above (Live) (Album Version)', 'Rise To The Challenge', 'Rising Moon', 'Risingson', 'River Below', 'River Of Deceit', 'Riverside', 'Road To Joy', 'Road To Nowhere (Remastered LP Version )', 'Road To Zion', \"Road Trippin' (Album Version)\", 'Roadside', 'Roam [Edit]', 'RoboCop', 'Robot Rock', 'Robot Rock (Soulwax Remix)', 'Robot Rock - Daft Punk Maximum Overdrive Mix', 'Robot Soul (Radio Edit)', 'Robots', 'Rock & Roll (Album Version)', 'Rock & Roll Queen', \"Rock 'N' Roll High School (Album Version)\", \"Rock 'n' Roll\", \"Rock 'n' Roll Lifestyle\", 'Rock A My Soul', 'Rock And Roll All Nite', 'Rock Bottom', 'Rock En Samil', 'Rock It', 'Rock Star', 'Rock Steady', 'Rock The BeaT', 'Rock The Boat', 'Rock The Casbah', 'Rock The House (Radio Edit)', 'Rock This Town', 'Rock Wit U (Awww Baby)', 'Rock Your Body', \"Rock'n Roll\", 'Rocker', 'Rocket', 'Rocket Queen', 'Rockin Round The World', 'Rockin To The Beat', \"Rockin' Around The Christmas Tree\", \"Rockin' Robin\", \"Rockin' Rollin' Stone\", 'Rocks Off', 'Rocks Off (1994 Digital Remaster)', 'Rocky', 'Roger That', 'Roll Feat. Sean Kingston (Explicit Album Version)', 'Roll On Down The Highway', 'Roll Over Beethoven', 'Roll Right', 'Roll With It', 'Roller Coaster', 'Rollerblades', 'Rollercoaster Ride', \"Rollin' & Scratchin'\", \"Rollin' (Air Raid Vehicle)\", \"Rollin' Through The Sunshine\", 'Rollout (My Business)', 'Rollover D.J. (Album Version)', 'Romancipation', 'Romantic Rights', 'Romanticótico', 'Rome', \"Rome Wasn't Built In A Day\", 'Romeo And Juliet', 'Rooftops', 'Room 409', 'Rooster', 'Rootless Tree [Radio Edit]', 'Rorol', 'Rosa Pastel', 'Rosario Tijeras', 'Roscoe', 'Rose', 'Rose Among the Ashes', 'Rosemary', 'Roses', 'Roses Are Red', 'Roulette Dares (The Haunt Of)', 'Roxanne', 'Royal Gregory', 'Royksopp Forever', \"Royksopp's Night Out\", 'Ruby', 'Ruby Soho (Album Version)', \"Ruby_ Don't Take Your Love To Town\", 'Rudy', 'Ruido', 'Rule My World', 'Rule Of Thumb (Album Version)', 'Ruled By Secrecy', 'Ruling Dub', 'Rumors', 'Rumour (Abstract Hip Hop Mix)', 'Rumours', 'Run', 'Run (LP Version)', 'Run Into Flowers', 'Run Me Down', 'Run Run Run', 'Run The Show (featuring Busta Rhymes)', 'Run Through The Jungle', 'Run To Me', 'Run To The Hills (1998 Digital Remaster)', 'Runaround (Live Version)', 'Runaway', 'Runaway ( LP Version )', 'Runaway (2007 Remastered Remix Version)', 'Runaway (Album Version)', 'Runaway (Original)', 'Runaway Love', 'Runaway Train', 'Runnin\\x19 Down A Dream', \"Runnin'\", \"Runnin' Around\", \"Runnin' Down A Dream\", \"Runnin' With A Gun\", \"Runnin' With The Devil\", 'Running', 'Running Away', 'Rush', 'Rush Minute', 'Ruska', 'Russia Privjet', 'Rusted Wheel', 'Rx Queen (LP Version)', 'S Club Party', 'S.O.S.', 'SATORI', 'SHT MTN', 'STARSTRUKK [FEATURINGKATYPERRY] (Explicit Bonus Version)', 'STEIN UM STEIN', 'Sabbath Bloody Sabbath', 'Sacred Flame', 'Sacred Lie (Album Version)', 'Sacrifice', 'Sad Lisa', 'Sad Sad Day', 'Sad Songs (Say So Much)', 'Sad Songs And Waltzes', 'Sad Statue', 'Safari', 'Safe', 'Safe From Harm', 'Safe and Sound', 'Safety Dance', 'Sail Away', 'Sail On', 'Sail To The Moon', 'Saints And Sailors', 'Sala De Recepção', \"Salgo Pa' La Calle\", 'Salio El Sol', \"Sally Goodin'\", 'Salt Shakers', 'Salt Skin', 'Salt Water Sound', 'Salty Dog', 'Salvapantallas', 'Salvation', \"Sam's Town\", 'Samba Da Bencao', 'Samba De Una Nota So´', 'Samba Tranquille', 'Same Girl', 'Same Hood_ Different Day', 'Same Mistake  (Album Version)', \"Same Ol' Situation (S.O.S.)\", 'Same Old Thing', 'Same Song & Dance', 'Sample Track 2', 'San Simeon', 'Sancta Terra', 'Sanctify Yourself', 'Sandman', 'Sandstorm', 'Sangre Y Barro', 'Santa Monica', 'Santana DVX', 'Sao Paulo', 'Satellite Mind', 'Satin In A Coffin', 'Satisfaction', 'Saturday Night (Album Version)', 'Saturdays', 'Savage Circle', 'Save A Horse [Ride A Cowboy] (Album Version)', 'Save Me (Album Version)', 'Save Me (LP Version)', 'Save Me [Acoustic]', 'Save Me_ San Francisco', 'Save Room', 'Save The Last Dance For Me [Ralphi Rosario Anthomic Vocal]', 'Save The World', 'Save Tonight', 'Saved By The Bell', \"Savin' Me\", 'Saving Grace (Album Version)', 'Savior', 'Savior (Comes Alive Version)', 'Sax Man', 'Saxuality', 'Say', 'Say (All I Need)', 'Say Goodbye (Album Version)', 'Say Hello To The Angels', \"Say It Ain't So\", 'Say My Name', 'Say No More', 'Say This Sooner', 'Say What You Say', 'Say Yeah (Album Version)', 'Say Yeah [Radio Edit]', 'Say Yes', 'Say You Will', \"Say You'll Be There (Single Mix)\", 'Say_ Say', 'Saying Sorry (Album Version)', 'Sayonara-Nostalgia', 'Scared', 'Scared Of Lonely', 'Scatman (Ski-Ba-Bop-Ba-Dop-Bop)', 'Scheme Eugene (Album Version)', 'Schießt die Deutschen raus', 'Schifrin and Variations', \"School's Out\", 'Schwarze Biene (Black Maja)', 'Scissors (Album Version)', 'Scooby Snacks (Explicit)', 'Scream', 'Scream (Album Version)', 'Scream Aim Fire', 'Scream For More', 'Scream My Name', 'Screaming Infidelities', 'Screenager', 'Scumbag Blues', 'Scythian Empires', 'Se Dagen Kom', 'Se Ne Dicon Di Parole', 'Se Quiere_ Se Mata', 'Sea Green_ See Blue', 'Sea Horse', 'Sea Legs (Album)', 'Sea Of Love', 'Sea-Shells', 'Seal Jubilee', 'Search And Destroy', \"Searchin'\", 'Seaside', 'Seasons Change', 'Second Chance (Album Version)', 'Second Hand News (LP Version)', 'Second Heartbeat', 'Second To None', 'Secret', 'Secret Crowds', 'Secret Door', 'Secret Door (Explicit)', 'Secret Hell', 'Secret Love', 'Secret Smile', 'Secret Valentine', 'Secrets', 'See Saw', 'See That My Grave Is Kept Clean (Live 2002)', 'See The Sun', 'See The World', 'See You Again', 'See You Soon', 'Seeds Of Night', 'Seemann', 'Segertåget (Dada Life remix)', 'Sehnsucht', 'Sehr kosmisch', 'Sei Lá Mangueira', 'Seize The Day (Album Version)', 'Self Control  (LP Version)', 'Selfish Girl', 'Selling The Drama', 'Sencillamente', 'Sensible Heart', 'Sensimillia', 'Sentimental Heart', 'Senza Una Donna (Without A Woman)', 'Seppuku', 'September', 'Serenity', 'Servant in heaven - King in hell', 'Serve The Servants', 'Set You Free', 'Setting Forth', 'Settle For A Slowdown', 'Settle For Nothing', \"Settlin'\", 'Seven', 'Seven Months', 'Seven Nation Army', 'Seven Nation Army (Album Version)', 'Seventy Times 7', 'Sex In Secret', 'Sex Out South', 'SexSlaveShip', 'Sex_ Love & Money', 'Sextape (Album Version)', 'Sexual Eruption', 'Sexx Laws', 'Sexy Bitch', 'Sexy Can I', 'Sexy Chick (Featuring Akon)', 'Sexy Love', 'Señorita', 'Shadow Feet', 'Shadow Journal', 'Shadow Of A Man', 'Shadow Of The Day (Album Version)', 'Shadow On The Sun', 'Shadow Stabbing', 'Shadowplay', 'Shadows Of Ourselves', 'Shadrach', 'Shakawkaw', 'Shake', 'Shake A Fist', 'Shake A Tail Feather', 'Shake Down', 'Shake Your Groove Thing', \"Shakin' Hands (Album Version)\", \"Shakin' The House (Back To The Street Album Version)\", 'Shallow Be Thy Game (Album Version)', 'Shalom Salaam', \"Shaman's Blues ( LP Version )\", 'Shame', 'Shame And Fortune', 'Shame In You', 'Shanty for the Arethusa', 'Shape Of My Heart', 'Shape Shifter', \"Sharecropper's Son\", 'Sharp Dressed Man', 'Shattered Dreams', 'She\\x19s Long Gone', 'She (Album Version)', 'She (Remastered Album Version)', 'She Bangs The Drums', 'She Blinded Me With Science', \"She Don't Have To Know\", \"She Don't Know Me\", \"She Don't Want The World\", 'She Follows Her Own Rules (2007 Digital Remaster)', 'She Had The World (Album Version)', 'She Hates Me', 'She Is Love', 'She Is My Sin', 'She Just Likes To Fight', 'She Looks To Me (Album Version)', 'She Loves You', 'She Moves In Her Own Way', 'She Moves She', 'She Never Cried (Remastered Album Version)', 'She Said', 'She Said_ She Said', 'She Took My Soul In Istanbul (The Blue Mosque Mix)', 'She Wants To Move (Explicit)', \"She Wouldn't Be Gone (Album Version)\", \"She'd Rather Be With Me\", \"She'll Come Back To Me\", \"She's A Lady\", \"She's A Star\", \"She's Everything\", \"She's Good For Business\", \"She's Good For You\", \"She's Got A Boyfriend Now\", \"She's Got Me Dancing\", \"She's Got You High\", \"She's Mine\", \"She's My Baby (2007 Remastered LP Version)\", \"She's Not The Cheatin' Kind\", \"She's Only 18 (Album Version)\", \"She's Out Of My Life\", \"She's So Cold\", \"She's So Cold (1994 Digital Remaster)\", \"She's So High\", \"She's So Lovely\", 'Sheila (Explicit)', 'Sheila Take A Bow', 'Shelf', 'Shelter', 'Shelter Me', 'Shempi', 'Shepherd Moons (Remastered 2009)', 'Shh', 'Shifty', 'Shiller', 'Shimmer', 'Shimmy', 'Shine', 'Shine (LP Version)', 'Shine Down', 'Shine On', 'Shine On  (Album Version)', 'Shine On (Album Version)', 'Shine Shine', 'Shining Down [feat. Matthew Santos] (Amended Album Version)', 'Shining Star', 'Shit On The Radio (Remember The Days)', 'Shiver', 'Shogun', 'Shook Ones pt. 2', 'Shooter', 'Shooting Star', 'Shooting Stars', 'Shop Around', 'Shoplifters Of The World Unite', 'Short Circuit', 'Short Skirt/Long Jacket', 'Shortie Like Mine', 'Shortly Before The End', 'Shot You Down (Radio Edit) (Feat. Nancy Sinatra)', 'Shots', 'Should I Stay Or Should I Go', \"Should've Been A Cowboy\", \"Should've Known Better\", \"Should've Listened (Album Version)\", \"Should've When You Could've (Album Version)\", 'Shoulder Holster', 'Shoulder Lean [Featuring T.I.] (Amended Album Version) (AKA Radio Version)', 'Shoulder to shoulder 2009', 'Shout', 'Shout (Album Version)', 'Shout Me Out', 'Shove It [feat. SpankRock]', \"Show 'Em A Better Way\", 'Show Me', 'Show Me How To Live', 'Show Me Love', 'Show Me The Meaning Of Being Lonely', \"Show Me What I'm Looking For (Album Version)\", 'Show Stopper (Promo Version)', 'Show You How', 'Showdown (album version)', 'Showoff', 'Shrinking Universe', 'Shrooms', 'Shut Up', 'Shut Your Eyes', 'Shy Boy', 'Si Senor', 'Si Te Contara', 'Si Te Vas', 'Si Una Vez', 'Si Yo Fuera Un Chico', 'Si mama', 'Si tu no estas', \"Sic 'Em On A Chicken (Album)\", 'Sic Of Elephants', 'Sic Transit Gloria ... Glory Fades', 'Sick', 'Sick Little Games', 'Sick_ Sick_ Sick', 'Side', 'Side Effects', 'Side To Side (Featuring Lateef & Pigeon John) (Album Version)', 'Sideways', 'Sidewinder (Album Version)', 'Siechen', 'Siempre Es De Noche', 'Siempre Me Quedará', 'Siete Horas', 'Signal Fire', 'Signals Over The Air', 'Signos', 'Signs', 'Siguiendo La Luna', 'Sigur 3 (Untitled)', 'Silence', 'Silent Lucidity (2002 Digital Remaster)', 'Silent Shout', 'Silva & Grimes', 'Silver And Cold', 'Silver Bath', 'Silver Coin', 'Silver Soul', 'Silvergun Superman (LP Version)', 'Silvia', 'Simarik', 'Simon', 'Simple', 'Simple As...', 'Simple Man (Remastered Album Version)', 'Simple X', 'Simplest Love', 'Simulacro De Emergencia', 'Sin', 'Sin Cadenas', 'Sin Coro', 'Sin Documentos', 'Sin Exagerar', 'Sin Miedo a Nada (con Amaia Montero)', 'Sin With A Grin (Album Version)', 'Since U Been Gone', 'Since You Been Gone', 'Sincerité Et Jalousie', 'Sine Language', 'Sing', 'Sing Me Spanish Techno', 'Sing Swan Song (2004 Digital Remaster)', 'Sing_ Sing_ Sing (Key-E-Premiere Performance Plus w/o Background Vocals)', 'Singing in the Rain', 'Sinisten tähtien alla', 'Sinister Kid', 'Sinner', \"Sinner's Swing! (Album Version)\", 'Sinners Like Me', 'Sirens', 'Sister Seagull', 'Sit Down. Stand Up', 'Sitting', 'Sitting On The Curb (LP Version)', 'Situation', 'Situations', 'Six', 'Six Days', 'Six Days At The Bottom Of The Ocean', 'Six Feet Up', 'Six-Pack Summer', 'Skeleton Boy', 'Skeleton Song', 'Skeletons', 'Skills To Pay The Bills', 'Skin And Bones', 'Skin Is_ My', 'Skin Of The Night', 'Skin Tension', 'Skin Ticket (Album Version)', 'Skinning the Drum', 'Skinny Genes', 'Skinny Love', 'Skip The Youth', 'Skip To The End', 'Skit Kuba', 'Skulls', 'Sky', 'Sky And Sand', 'Sky Blue Sky', 'Sky Might Fall', 'Skyscraper', 'Skyway Avenue', 'Slam', 'Slan Le Maige', 'Slang Blade', 'Slave To Love (1999 Digital Remaster)', 'Sleep All Day (LP Version)', 'Sleep Alone (909s in DarkTimes Mix)', 'Sleep In The Garden', 'Sleep Now In The Fire', 'Sleep Through The Static', 'Sleeping Awake (2006 Remastered LP Version)', 'Sleeping Beauty', 'Sleeping Giant (Album Version)', 'Sleeping In (Album)', 'Sleeping In The Ground', 'Sleeping Lessons (Album)', 'Sleeping Sickness', 'Sleepwalker', 'Sleepyhead', 'Slight Figure Of Speech', 'Slightly Drifting', 'Slip', \"Slippin'\", 'Slipping Away (2006 Digital Remaster)', 'Slow Country', 'Slow Dancing In A Burning Room', 'Slow Death', 'Slow Down', 'Slow Graffiti', 'Slow Hands', 'Slow Jamz (Feat. Kanye West & Jamie Foxx) (Edited Album Version)', 'Slow Moves', 'Sludge Factory', 'Slush', 'Sly', 'Smack Dab In The Middle', 'Smalltown Boy', 'Smart Bomb', 'Smash Into You', 'Smell Of Desire.', 'Smells Like Teen Spirit', 'Smile', 'Smile (Explicit Version)', 'Smile (Radio Edit)', 'Smile In Your Sleep (Album Version)', 'Smile Jamaica', 'Smile Like You Mean It', 'Smile To Shine', 'Smile Version Revisited (Mark Ronson Remix) (Explicit)', 'Smoke & Mirrors', 'Smoke Some Weed (edited version)', \"Smokin' In The Boys Room\", 'Smoking Gun', 'Smoking On Purple (feat. Webbie) (amended album version)', 'Smooth Criminal', 'Smooth Operator', 'Smooth Sailing Remix', 'Smothered (Album Version)', 'Snake', 'Snare Hangar', 'Sniped', 'Snow [Hey Oh] (Album Version)', 'So Ambitious [Jay-Z + Pharrell] (Explicit Album Version)', 'So Com Voce', 'So Confused (feat. Butta Creame) (amended album version)', 'So Easy', 'So Fine', 'So Glad To See You', 'So Haunted', 'So Here We Are', 'So Hott (Amended Album Version)', 'So I Need You', 'So I Thought', 'So In Love (The Real Deal) (Frankie Foncett Vocal Mix)', 'So Insane', 'So Jealous', 'So Lonely', 'So Lonely (featuring Mariah Carey) (Explicit Album Version)', 'So Long', 'So Long-Guthrie', 'So Long_ Lonesome', 'So Long_ Marianne', 'So Many Tears', 'So Much To Say', 'So Nice So Smart', 'So Payaso (Version 2004)', 'So Ruff', 'So Says I', 'So Small', 'So What', 'So far so long', 'Sobredosis De T.V.', 'Society', 'Soco Amaretto Lime', 'Sofa King', 'Sofa Song', 'Soft Shock', 'Soil To The Sun', 'Soil_ Soil (Album Version)', 'Sol de invierno', 'Solar Powered', 'Sold (The Grundy County Auction Incident)  (Remastered Version)', 'Soldier', 'Soldier Of Love', 'Soldier On', 'Soldier Side', 'Sole Nero', 'Solid Gone', 'Solid State', 'Soliloquy Of Chaos (Explicit)', 'Solitary Man', 'Solo Dolo (nightmare)', 'Sombra De Ti', 'Some Girls Are Bigger Than Others', 'Some Kind Of Blue', 'Some Kind Of Miracle', 'Some Kind Of Monster', 'Some Kind Of Wonderful (Non-Album Track)', 'Some Kinda Love', 'Some Unholy War', 'Some Velvet Morning', 'Somebody (Loves You) (Explicit Album Version)', 'Somebody (Remix)', 'Somebody To Love', 'Somebody Told Me', \"Somebody's Watching Me\", 'Someday', 'Someday My Peace Will Come', \"Someday We'll Know\", 'Someone Else Calling You Baby', \"Someone Else's Arms\", \"Someone Else's Life\", 'Someone Great', 'Someone Is Waiting', 'Someone Like You', 'Someone To Call My Lover (So So Def Remix)', 'Someone To Save You', 'Someone Wake Me Up (Album Version)', \"Someone's Missing\", 'Somersault (Album Version)', 'Something', 'Something (Album Version)', 'Something (Radio Edit)', 'Something About Us', 'Something Beautiful (Album Version)', 'Something Good Can Work', 'Something I Can Never Have', 'Something In The Way', 'Something In The Way She Moves', 'Something In Your Mouth (Album Version)', 'Something More', 'Something to Believe In', 'Sometime Around Midnight', 'Sometimes', 'Sometimes In The Fall', \"Sometimes It's A Bitch\", 'Sometimes Selling Out Is Giving Up', 'Sometimes Things Get_ Whatever', 'Somewhere In Between', 'Somewhere Out There', 'Son Of Dragon', 'Son et Lumiere', \"Son's Gonna Rise\", 'Song 4 Mutya (Out Of Control)', 'Song Against Sex', 'Song For A Friend (Live From Montalvo)', 'Song For Dan Treacy', 'Song For Guy', 'Song For No One', 'Song For The Dead', 'Song For You', 'Song For You (Album Version)', 'Song From A Secret Garden', 'Song Of Hope (Heaven Come Down)', 'Song Seven', 'Song for Myla Goldberg', 'Songbird (Album Version)', 'Songs About Rain', 'Songs Of The Season', 'Sonne', 'Sonrisa', 'Sons & Daughters', 'Soon As I Get Home(Album Version)', \"Soon We'll Be Found\", 'Sooner or Later', 'Sorrow', 'Sorrow (1997 Digital Remaster)', 'Sorry', 'Sorry (Album Version)', 'Sorry County Blues', 'Soul Man (Live Version)', 'Soul Of A Vagabond', 'Soul Singing', 'Soul Suckers', 'Soul Survivor', 'Soulful Dress', 'Soulstar', 'Sound Check (Gravity)', 'Sound Of Madness (Album Version)', 'Sound Of Silver (c2 rmx rev.3)', 'Sour Cherry', 'Sour Girl (LP Version)', 'Sour Times', 'Sous le soleil', 'South Side', 'South Side (Digitally Remastered)', 'Southern Comfort', 'Southern Cross  (LP Version)', 'Southern State', 'Southern Sun', 'Southside', 'Southside Remix', 'Southtown (2006 Remastered LP Version)', 'Souverian', 'Sowing Season (Yeah)', 'Sowing The Seeds Of Love', 'Soñe Otro Mundo', 'Space Cowboy', 'Space Cowboy (Digitally Remastered 90)', 'Space Dementia', 'Space Lord', 'Space Olympics', 'Spaceape', 'Spaceman', 'Spaceship', 'Spanish Caravan  [New Stereo Mix] (Advanced Resolution)', 'Spanish Sahara', 'Spank Thru', 'Spare-Ohs', 'Spark My Soul (feat. Substantial)', 'Sparkles', 'Sparkover', 'Sparks', 'Speak', 'Speak Of The Devil (Album Version)', 'Speak To Me In Mysteries', 'Spectacular Views', 'Spectre', 'Speechless', 'Speechless (Album Version)', 'Speed', 'Speed Of Life', 'Speed Of Sound', 'Speed Trials', 'Speedy Marie', 'Speedy Tours', 'Spell', 'Spente Le Stelle', 'Spice Up Your Life (Morales Beats)', 'Spider Cider', \"Spider's Web\", 'Spider-Man Theme [Junkie XL Remix]', 'Spiderwebs', 'Spiel Mit Mir', 'Spies', 'Spill The Wine', 'Spilt Needles (Album)', 'Spiral Static', 'Spirit Fingers', 'Spirit In The Sky', 'Spirits In The Material World', 'Spiritual Holocaust', 'Spit It Out [Explicit]', 'Spit Your Game [feat. Twista and Bone Thugs N Harmony] (Explicit Album Version)', 'Spitfire (Album Version)', 'Splitting The Atom', 'Spooky', 'Spring nicht', 'Spybreak!', 'Spying Glass', 'Square 9', 'Square Dance', 'Square One', 'Square One (Album Version)', 'Squirm', 'Sr. Cobranza', 'St. Apollonia', 'St. Elmos Fire ( Man In Motion ) ( LP Version )', 'St. Elsewhere', 'St. Jimmy [feat. Green Day & The Cast Of American Idiot] (Album Version)', 'St. Louie', \"St. Patrick's Day\", 'Stack Shot Billy', 'Stacked Actors', \"Stacy's Mom\", 'Stadium Love', 'Stagger', 'Stamp On The Ground', 'Stand And Deliver', 'Stand Back', 'Stand Here With Me', 'Stand My Ground (Album Version)', 'Stand Up', 'Stand Up Guy (Amended Album Version)', 'Standing O', 'Standing Still (Album Version)', 'Standpoint', 'Staple It Together', 'Star Bodies', 'Staralfur', 'Stare At The Sun', \"Starin' Through My Rear View\", 'Starlight', 'Starry Eyed', 'Starry Eyed Surprise (Album Version)', 'Stars', 'Stars Of Leo', 'Starshine', 'Starstruck', 'Start All Over', \"Start Shootin'\", 'Starz In Their Eyes', 'State Of Love And Trust', 'Stay', 'Stay Away', 'Stay Away From Being Maybe', 'Stay Awhile', \"Stay Close_ Don't Go\", 'Stay In The Shade', 'Stay Lit', 'Stay Loose', 'Stay The Same', 'Stay Together (Includes Interlude)', 'Stay Too Long', 'Stay With Me', 'Steady Mobbin', \"Steady Mobbin' (Explicit)\", 'Steady State (2001 Digital Remaster)', 'Steam Machine', 'Steamulation', 'Stella', 'Step Into My Office_ Baby', 'Step Through The Door', 'Step Up', 'Stephanie Knows Who (LP/Stereo Version)', 'Stephanie Says', 'Stephen', 'Stepping Stone', 'Steps Of Faith', 'Stickin In My Eye', 'Stickshifts And Safetybelts', 'Stickwitu', 'Sticky Thread', 'Stilettos', 'Still', 'Still Alive', 'Still Alive And Well', \"Still Don't Give A Fuck\", 'Still Got The Blues [Live 2001]', 'Still Ill', 'Still In Love With You', 'Still Not A Player', 'Still On My Brain', 'Still Take You Home', 'Stillborn (Album Version)', 'Stillness Is The Move', 'Stockholm Syndrome', 'Stone Love (LP Version)', 'Stoned', 'Stoned Is The Way Of The Walk', 'Stop', 'Stop (2006 Remastered Album Version)', 'Stop Coming To My House', \"Stop Draggin' My Heart Around\", \"Stop Me If You Think You've Heard This One Before\", 'Stop This Song (Love Sick Melody) (Bonus Version)', 'Stop! Dimentica', 'Stork & Owl', 'Storm', 'Storm In A Teacup (Album Version)', 'Storming The Burning Fields (Album Version)', 'Storms In Africa', 'Stormtrooper (LP Version)', 'Stormy Weather', 'Story', 'Story Of A Lonely Guy', 'Straight Lines', 'Straight Out Of Line', 'Straight Outta Compton (Extended Mix) (Edit) (Explicit)', 'Straight To The Bank', 'Strange', 'Strange Days', 'Strange Deja Vu [Scene Two]', 'Strange Desire', 'Strange Reunions', 'Strange Times', 'Strange World (1998 Digital Remaster)', 'Stranger', 'Stranger Things', 'Stranger than Fiction', 'Strangers In The Wind', 'Strani Amori', 'Stratus [The Bottom Shelf]', 'Strawberry Swing', 'Strawberry Wine', 'Stray Cat Strut', 'Strays', 'Stream', 'Streamside', 'Street Corner Preacher', 'Street Dreams', 'Street Justice', 'Street Lights', 'Street Of Dreams', 'StreetLove', 'Streets Of Fire', 'Streets Of New York (City Life)', 'Streets Of Philadelphia', 'Streets On Fire (Explicit Album Version)', 'Streets On Lock', 'Strength', 'Strength Of The World (Album Version)', 'Stressed Out', \"Stretchin' Out (In A Rubber Band) (LP Version)\", 'Strict Machine', 'Strip My Mind (Album Version)', 'Stripped', 'Stripper Vicar', 'Stroke You Up (LP Version)', 'Strong Will Continue', 'Stronger', 'Stronger Than Me', 'Structure', 'Strut', 'Strut (1993 Digital Remaster)', 'Stuck (Album Version)', 'Stuck Between', 'Stuck In A Rut', 'Stuck In The Middle With You', 'Stuck In The Moment', 'Stuck With You', 'Stupid Girl', 'Stupid In Love', 'Stylo (Album Version) (Feat. Mos Def and Bobby Womack)', 'Su veneno', 'Subbacultcha', 'Substance (Felix Da Housecat Remix)', 'Substitute', 'Subterranean Homesick Alien', 'Succubus', 'Sucede Que A Veces', 'Such A Lovely Thing (Album version)', 'Such A Rush', 'Such Great Heights', 'Such Is Life (Sunday Afternoon Rework)', 'Suddenly You Figure Out', 'Suena tu guitarra', 'Sueña', 'Sueños', 'Suffer Little Children', 'Suffering', 'Suffocate', 'Suffocation', 'Suffragette City (1990 Digital Remaster)', 'Sugar Candy Kisses', 'Sugar Ray (LP Version)', 'Sugar Sugar', \"Sugar_ We're Goin Down\", 'Sugarland', 'Suicidal Thoughts (Album Version)', 'Suite: Judy Blue Eyes (LP Version)', 'Suite: Judy Blue Eyes [Remastered LP Version]', 'Sulk', 'Sultans of El Sur', 'Summer', 'Summer In Dixie (LP Version)', 'Summer Love', 'Summer Nights', 'Summer Shudder', 'Summer Smoke', 'Summer Wind (Duet With Frank Sinatra)', \"Summer's End\", \"Summerfest '86\", 'Summerland', 'Summertime', 'Summertime Clothes', 'Sun', 'Sun Giant', 'Sun Hands', 'Sun It Rises', 'Sun Moon And Stars', 'Sunburn', 'Sunday', 'Sunday Arak', 'Sunday Bloody Sunday', 'Sunday Morning', 'Sunglasses At Night', 'Sunny Day', 'Sunny Road', 'Sunrise', 'Sunset (Bird Of Prey)', 'Sunshine', 'Sunshine (Feat. Anthony Hamilton) (Edited Album Version)', 'Sunshine Highway', 'Sunshine Of Your Love', 'Sunspots', 'Super Freak', 'Super Honeymoon', 'Super Inuit (Studio) [Bonus Track]', 'SuperStar', 'Superballs', 'Superbeast', 'Superfresh', 'Superhereos', 'Superhero', \"Superheroes / Human After All / Rock'n Roll\", 'Superman', \"Superman (It's Not Easy)\", \"Superman's Dead\", 'Supermassive Black Hole (Album Version)', 'Supermassive Black Hole (Twilight Soundtrack Version)', 'Superstar', 'Superstar (featuring Matthew Santos) (Album Version)', 'Superstar Talking Blues', 'Superstition', 'Superwoman (Where Were You When I Needed You) (Digitally Remastered)', 'Supposed To Be', 'Sura (2008 Digital Remaster)', 'Sure Shot', 'Surf Wax America', 'Surfacing (Live version) (Album Version)', \"Surfin' Bird\", 'Surfing With The Alien', 'Surprise Ice', 'Surrender', 'Surrounded', 'Survival', 'Survivalism', 'Survive', 'Susanne', 'Susie Q', 'Suspended From Class', 'Suspension', 'Suspicious Minds', 'Suzy 2003 (Live)', 'Swagger', 'Swallowed In The Sea', 'Swan Song', 'Swans', 'Sway', 'Sway (Album Version)', 'Sweat It Out', 'Sweet About Me', 'Sweet And Low', 'Sweet And Wild', 'Sweet Baby James', \"Sweet Darlin'\", 'Sweet Dreams', 'Sweet Emotion', 'Sweet Hitch-Hiker', 'Sweet Home Chicago', 'Sweet Jane', 'Sweet Life', 'Sweet Pea', 'Sweet Sixteen', 'Sweet Soul Music (Single/LP Version)', 'Sweet Talk', 'Sweet Thing (Live Version)', 'Sweet home Alabama', 'Sweetest Girl (Dollar Bill)', 'Sweetest Kill', 'Swim', 'Swim Until You Can\\x19t See Land', 'Swimmers', 'Swimming In The Flood', 'Swimming Pool', 'Swing', 'Swing Javanaise', 'Swing Life Away', 'Swing Life Away (Acoustic)', 'Swing Tree', 'Swing_ Swing', 'Swisha', 'Switch', 'Swordfish Hotkiss Night', 'Symbol In My Driveway', 'Sympathique', 'Sympathy', 'Sympathy For The Devil', 'Symphonies', 'Symphony No. 39 in E flat major K543: IV.     Allegro', 'Symptom Of The Universe', 'Synchronicity II', 'Szex & KV', 'Sæglópur', 'Sé Lest', 'T-R-O-U-B-L-E', 'T.H.E.H.I.V.E.S.', 'T.N.T. For The Brain (112 Bpm) (Radio Edit)', 'TE QUIERO PUTA!', 'TTHHEE PPAARRTTYY', 'TULENLIEKKI', 'Tabaco Y Chanel', 'Tacobel Canon', 'Tailgunner (1998 Digital Remaster)', 'Tailor Made', \"Taja's Lude (Interlude)\", 'Take A Bow', 'Take A Chance On Me', 'Take A Minute', 'Take A Picture', 'Take A Ride', 'Take California', 'Take Care', 'Take Em To Church', 'Take It Back', 'Take It Easy (2006 Remastered Album Version)', 'Take It Easy (love Nothing) (Album Version)', 'Take It In', 'Take Me Away', 'Take Me Back', 'Take Me Out', 'Take Me To The Riot', 'Take The Box', 'Take The Long Way Home', 'Take The Power Back', 'Take This To Heart (Album)', 'Take What You Take', 'Take You On A Cruise', 'Take Your Mama', 'Taki Rari (1999 Digital Remaster)', \"Takin' Back My Love\", \"Takin' Care Of Business\", 'Taking My Ball', 'Taking Over Me (Live in Europe)', 'Tal Vez', 'Talamak', 'Tales Of Brave Ulysses', 'Talk About The Passion', 'Talk Is Cheap', 'Talk Me Out Of Tampa', 'Talk Of The Town', 'Talk Show Host', 'Talk Shows On Mute', 'Tame', 'Tangerine  (Album Version)', 'Tango del Pecado', 'Tania', \"Tant Que L'on S'aimera\", 'Tapatio', 'Tape Song', 'Taper Jean Girl', 'Taste In Men', 'Taste Test', 'Taste The Pain', \"Tastes Good On Th' Bun\", 'Tattoo', 'Tattoo Of The Sun (2006 Remastered LP Version)', 'Taxi  (LP Version)', 'Taxi Cab', 'Taxi Driver (Album Version)', 'Taylor', 'Tchaparian', 'Te Amo', 'Te Extraño', 'Te Hacen Falta Vitaminas', 'Te Lastimé', 'Te Mando Flores', 'Te Va A Doler', 'Te lo agradezco_ pero no', 'Teach Me How To Dougie', 'Teach Me Tiger', 'Teach U a Lesson', 'Team', 'Tear It Up', 'Tear You Apart', 'Teardrop', \"Tears Don't Fall\", 'Tears For Affairs', 'Tears In Heaven', 'Techno Widows', 'Technologic', 'Technologic ( Basement Jaxx Kontrol Mixx )', 'Technologic (Peaches No Logic Remix)', 'Technologic (Vitalic Remix)', 'Teddy Picker', 'Teddy Picker (Explicit)', 'Teen Angst', 'Teenage Crush', 'Teenage Dirtbag', 'Teenage Kicks', 'Teenager', 'Teenager (Remastered Album Version)', 'Teenagers (Album Version)', 'Teeth', 'Televators', 'Television Rules The Nation', 'Television Rules The Nation / Crescendolls', 'Tell Her No', 'Tell Him', 'Tell Him The Truth', 'Tell Me Baby (Album Version)', \"Tell Me I'm A Wreck\", 'Tell Me Why', 'Temblor', 'Temperature (Album Version)', 'Temptation', 'Temptation [7\" Version ] (Remastered)', 'Tempus Vernum', 'Ten Cent Pistol', 'Ten Commandments (Amended Version)', 'Ten Thousand Fists (Album Version)', 'Ten Years Gone  (Album Version)', 'Tenderly', 'Tenderoni (Radio edit)', 'Tengo Ganas', 'Tengo Hambre', 'Tengo Un Trato', 'Tennessee', 'Tennessee (Pirate Radio Mix)', 'Tenuousness', 'Tequesta', 'Tequila', 'Tequila (Tequila Sunrise)', 'Terre Promise', 'Terrible Lie', 'Terrorist Threats (Edited)', 'Tessellate', 'Tessie', 'Testament (feat. Gonja Sufi)', 'Testament To Youth In Verse', 'Testify', 'Tetragrammaton', 'Tha Crossroads', 'Thank U (Album Version)', 'Thank You', 'Thank You (Album Version)', 'Thank You For The Venom (Album Version)', 'Thank You Stars', 'Thank You for Being a Friend', 'Thanks Vision', \"Thanx 4 Nothin'\", \"That Ain't The Way To Behave (2006 Digital Remaster)\", 'That Box', 'That Home', 'That I Would Be Good (Live/Unplugged Version)', 'That Should Be Me', 'That Thing You Do!', 'That Tree (feat. Kid Cudi)', 'That Was Just A Dream', \"That's All (2007 Digital Remaster)\", \"That's All (Album Version)\", \"That's How Country Boys Roll\", \"That's How You Like It\", \"That's Just The Way We Roll\", \"That's That\", \"That's Where You Take Me\", \"That's Why I'm Here\", \"That's my DJ\", \"The '59 Sound\", 'The Absence Of God (Album Version)', 'The Adjustor', 'The Airway', 'The Akara', 'The Alliance Of Hellhoundz', 'The Animals Were Gone', 'The Approaching Curve', 'The Arms of Sorrow (Album Version)', 'The Art Of Breaking', 'The Artist In The Ambulance', 'The Authority Song', 'The Bachelor and the Bride', 'The Bad Touch', 'The Ballad Of Butter Beans', 'The Ballad Of Chasey Lain', 'The Ballad Of Love And Hate', 'The Ballad of Michael Valentine', \"The Bat's Mouth\", 'The Battery', 'The Beach', 'The Beast', 'The Beat Goes On', 'The Beat Is Rockin (Original Mix)', 'The Beautiful Ones (Featuring Dru Hill)', 'The Beautiful People', 'The Beer', 'The Best Day', 'The Best Is Yet To Come (Album Version)', 'The Best Of Times', 'The Best Thing', 'The Best of Times', 'The Big Gundown', 'The Birds', 'The Bitch Is Back', 'The Bitter End', 'The Black Pearl', 'The Bleeding Heart Show', 'The Blue Notebooks', 'The Body Of An American', 'The Body Says No', 'The Bomb (Little Louie Vega Bonus)', 'The Bones Of An Idol', 'The Bones Of You', 'The Boss', 'The Boy Does Nothing', 'The Boy Is Mine (Duet With Monica) (LP Version)', 'The Boy With The Thorn In His Side', 'The Brainwasher', 'The Breaks', 'The Bunker', 'The Calculation (Album Version)', 'The Call Of Ktulu', 'The Canals Of Our City', 'The Captain', 'The Carpal Tunnel Of Love', 'The Caterpillar', 'The Chariot', 'The Children', 'The Chimbley Sweep', 'The Choice Is Yours', 'The Christmas Song', 'The Christmas Song  (LP Version)', 'The Cigar Song', 'The City Is At War (Album Version)', 'The City Sleeps', 'The Climb', 'The Concubine', 'The Cool (Amended Album Version)', 'The Coolest (Explicit Album Version)', 'The Cop', 'The Cove', 'The Crow & The Butterfly (Album Version)', 'The Crusades', 'The Curse', 'The Curse Of Curves (Album Version)', 'The Cut', 'The Day I Left The Womb', 'The Day That Never Comes', 'The Day The Niggaz Took Over', 'The Day You Died', 'The Day and the Time (featuring Gustavo Cerati)', 'The Daydream', 'The Denial Twist (Album Version)', 'The Desperate Man', 'The Devil Never Sleeps (Album)', \"The Devil's Been Busy (2007 Remastered LP Version)\", 'The Diary', 'The Diary Of Jane (Acoustic)', 'The Die (feat. GemStones) (Amended Album Version)', 'The Dirt Whispered', 'The Dirty Glass', 'The Disconnect', 'The District Sleeps Alone Tonight (Album)', 'The Downfall Of Us All', 'The Downward Spiral', 'The Dream Of The Dolphin', 'The Driveway', 'The Drying of the Lawns', 'The Earth Is (Album Version)', 'The Ecstasy Of Gold', 'The Electric Version', \"The Emperor's Soundtrack (Explicit Album Version)\", 'The Empire', 'The End', 'The End Of Medicine', 'The End Of The Line', 'The Evil That Men Do (1998 Digital Remaster)', 'The Execution Of All Things (Single Version)', 'The Fake Headlines', 'The False Contender', 'The Fear', \"The Fear You Won't Fall\", 'The Feel Good Drag', 'The Fight Song', 'The Final Countdown', \"The Final Episode (Let's Change The Channel)\", 'The Finish Line', 'The First Cut Is The Deepest', 'The First Drop', 'The First Of Autumn', 'The First Of The Gang To Die', 'The First Single', 'The Flame', 'The Flood', 'The Flowers (Album Version)', 'The Flying Club Cup', 'The Fog or China', 'The Food', 'The Fool On The Hill', 'The Four Horsemen', 'The Fox', 'The Frayed Ends Of Sanity', 'The French Open', 'The Funeral (Album Version)', 'The Game (Amended Version)', 'The Garden', 'The General', 'The General Specific (Album)', 'The Ghost Of You (Album Version)', 'The Gift', 'The Girl', 'The Girl And The Robot', 'The Girl From Ipanema', 'The Girl You Lost (Sander van Doorn Edit)', \"The Girl's a Straight-Up Hustler\", 'The Glory', 'The Go Getter', 'The God That Failed', 'The Golden Age', 'The Goldrush', 'The Good Fight', 'The Good Left Undone', 'The Good Life', 'The Good Old Days', 'The Good Song', \"The Good That Won't Come Out\", 'The Good Times Are Killing Me', 'The Great Escape (Album Version) (Explicit)', 'The Greatest', 'The Greatest View (Album Version)', 'The Greys', 'The Guillotine (Album Version)', 'The Gulag Orkestar', 'The Gymnast_ High Above the Ground', 'The Hand That Rocks The Cradle (+ Sonny Boy)', 'The Handshake', 'The Hardest Button To Button', 'The Hardest Part', 'The Hardest Thing', 'The Hazards Of Love 3 (Revenge!)', 'The Hazards Of Love 4 (The Drowned)', 'The Heart Of Everything', 'The Heart Of Life', 'The Heart Of The Matter', 'The Heretic Anthem (Album Version)', 'The Hollow', 'The Horizon Has Been Defeated', 'The Howling', 'The Hustle', 'The Ice Is Getting Thinner (Album Version)', 'The Impossible', 'The Invisible Man', 'The Irony Of It All (Album Version)', 'The Islander', 'The Jessica Numbers', 'The Joker', 'The KKK Took My Baby Away (LP Version )', 'The Keeper', 'The Kids Don\\x19t Stand A Chance (Album)', 'The Killing Moon', 'The Kindness Of Strangers', 'The King Of Carrot Flowers Parts Two And Three', 'The Kiss', 'The Kissaway (LP Version)', 'The Last Baron [Score]', 'The Last Cigarette', 'The Last Goodbye', 'The Last Night (Album Version)', 'The Last One', 'The Last Resort  (LP Version)', 'The Last Song', 'The Last Time', 'The Laws Have Changed', 'The Least You Can Do', 'The Leaving Song Pt. II', \"The Legionnaire's Lament\", 'The Lengths', 'The Light', 'The Lighter', 'The Lighthouse', \"The Lighthouse's Tale\", 'The Lightning Strike', 'The Likes of You Again', 'The Limit To Your Love', 'The Lion Sleeps Tonight', 'The List', 'The Little Things', 'The Little Things Give You Away [Live At Milton Keynes]', 'The Logical Song', 'The Loneliness And The Scream', 'The Long Way Around', 'The Look Of Love', 'The Lost Art Of Keeping A Secret', 'The Lost Get Found', 'The Lost Song', 'The Luckiest', 'The Lucky One', 'The Maestro', 'The Maker', 'The Malevolence', 'The Man I Want To Be', 'The Man Who Sold The World', 'The Marbled Godwit', 'The Mary Martin Show', 'The Mask (Featuring Ghostface Killah) (Album Version)', 'The Mass', 'The May Song (radio Edit)', 'The Meaning Of Love (Single Version)', 'The Medallion Calls', 'The Memory Of Trees (Instrumental)', 'The Memory Remains', 'The Mess I Made', 'The Message', 'The Message/ Outro', 'The Metal', 'The Middle', 'The Minnow & The Trout', 'The Mirror Conspiracy', 'The Missing Frame', 'The Mission (Go Album Version)', 'The Mixed Tape (Album Version)', 'The Moan', 'The Modern Age', 'The Modern Leper', 'The Monkees (Theme From)', 'The Moon', 'The Moon (Album version)', 'The More I Drink (Album Version)', 'The More I See You', 'The More I See You (Album Version)', 'The Most Beautiful Girl [In The Room] (Album Version)', 'The Mystery Zone', 'The Nameless (Album Version)', 'The Nest', 'The New Chapter', 'The New Face Of Zero And One', 'The New Stone Age', 'The New Workout Plan', 'The New Year', 'The News', 'The Next Episode', 'The Noose', 'The Nurse Who Loved Me', 'The Old Saloon', 'The Older I Get (Album Version)', 'The Oldest Baby In the World', 'The Once Lost Returns', 'The One I Love', 'The Only (Album Version)', 'The Only Difference Between Martyrdom and Suicide Is Press Coverage (Tommie Sunshine Brooklyn Fire Remix)', 'The Only Exception (Album Version)', 'The Only Moment We Were Alone', 'The Only One', 'The Other Side', 'The Other Side (album version)', 'The Outer Banks', 'The Outside', 'The Outsider', 'The Outsiders (Album Version)', 'The P.A.S.E.O. (The Poem Aaron Saw Extra Ordinary)', 'The Package', 'The Pain', 'The Passenger', 'The Penalty', 'The Perfect Drug', 'The Perfect Kiss', 'The Perfect Space', 'The Pioneers', 'The Places You Have Come To Fear The Most', 'The Planets Bend Between Us', 'The Planets_ Op. 32/Mars_ the Bringer of War', 'The Poet And The Pendulum', 'The Police And The Private', 'The Power', 'The Power Of Love', 'The Power Of Love (You Are My Lady)', 'The Power of Love', 'The Power of the Mind', 'The Pretender', 'The Prime Time Of Your Life', 'The Prince', 'The Privateers', 'The Prize', 'The Pulse', 'The Pyramids', 'The Queen\\x19s Rebuke/The Crossing', 'The Queen of Nothing', 'The Quest', 'The Rain', 'The Rat (Album Version)', 'The Real Slim Shady', 'The Reeling', \"The Remedy (I Won't Worry) (New EQ'd LP Version)\", 'The Resistance', 'The Riddle', 'The Righteous And The Wicked (Album Version)', 'The Rip', \"The Road I'm On\", 'The Road To Mandalay', 'The Robots (2009 Digital Remaster)', 'The Rocky Road to Dublin (Album Version)', 'The Rose', 'The Runner', 'The Sadness Will Never End (Album Version)', 'The Saltwater Room', 'The Scale', 'The Scientist', 'The Sea', 'The Season', 'The Secret to Quiet', 'The Seed (2.0)', 'The Seven Deadly Sins', 'The Shadow Of Your Smile', 'The Shape (Album Version)', 'The Sharing Song', 'The Shark', 'The Shrew', 'The Sign', 'The Sky Is Falling (Album Version)', \"The Sky's Ablaze\", 'The Slow Descent Into Alcoholism', 'The Small Print', 'The Soldiering Life', 'The Son Never Shines (On Closed Doors)', 'The Sound of Goodbye', 'The Sound of Settling (Album Version)', 'The Space Between', 'The Special Two (Album Version)', 'The Spicy McHaggis Jig (Album Version)', 'The Spirit Of Giving', 'The Sporting Life', 'The Stallion', 'The Stars of Track and Field', 'The State Of Massachusetts', 'The Storm Is Over Now', \"The Story Ain't Over\", 'The Story I Heard', 'The Stranger Song', 'The Strength To Go On', 'The Stroke', 'The Summer', \"The Sun Ain't Gonna Shine Anymore\", 'The Sun In The Stream', 'The Sun On His Back', 'The Sweet Suffering', 'The Sweetest Taboo', 'The Sweetest Thing', 'The Sweets', 'The Sword & the Pen (Non-Album Track)', 'The TIde (LP Version)', 'The Take Over_ The Breaks Over', 'The Technicolor Phase', 'The Tempest (album version)', 'The Thing That Should Not Be', 'The Thousand Names of Lord Shiva (Part 1)', 'The Time Is Now (2006 Digital Remaster)', 'The Time Of Our Lives', 'The Tip Of The Iceberg', 'The Traffic Jam', 'The Trance Is The Motion [Live]', 'The Trapeze Swinger (Album)', 'The Trickster', 'The Trooper (1998 Digital Remaster)', 'The Trouble With Love Is', 'The Truth (LP Version)', 'The Truth (Sick Of It All Cover Version)', 'The Truth Of A Liar', 'The Tune', 'The Twist', 'The Underdog (Album version)', 'The Unforgiven II', 'The Unforgiven III', 'The Universal', 'The Unthinking Majority (Album Version)', 'The Unwinding Cable Car', 'The Video Dept.', 'The Vision', 'The Voice', 'The Voice Of Enigma', 'The Voiceless', 'The Waiting', 'The Walking Wounded', 'The Want Ad', 'The War', 'The Warning', \"The Warrior's Code\", 'The Water', 'The Water Jet Cilice', 'The Way I Are', 'The Way I Feel (Not Our Master)', 'The Way I Feel Inside', 'The Way I Live', 'The Way I Loved You', 'The Way I Was', 'The Way She Dances', 'The Way She Moves', 'The Way Things Go', 'The Way We Get By', 'The Way You Do The Things You Do (2009 Digital Remaster)', 'The Way You Lived', 'The Way You Make Me Feel', 'The Way You Move', 'The Webs We Weave', 'The Weight Of Lies', 'The Well And The Lighthouse', 'The What', 'The Whole World', 'The Wicked End (Album Version)', 'The Wicker Man', 'The Widow', 'The Wild Boys', 'The Wild Hunt', 'The Wind Blows', 'The Winner Takes It All (Va Todo Al Ganador)', 'The Wizard', 'The Wolf', 'The Wolves (Act I and II)', 'The World', 'The World At Large', 'The World Has Turned And Left Me Here', 'The World Is Mine', 'The World Is Not Enough', 'The World Turned Upside Down', 'The World We Live In', \"The World's Greatest\", 'The Worm', 'The Wrestle', 'The Writer', \"The Zookeeper's Boy\", 'The park', 'Them Bones', 'Them Eyes', \"Theme From Harry's Game\", 'Then', 'Then I Kissed Her (16 Bit Digitally Remastered 95)', 'Therapy', 'There For You', 'There Goes My Baby', 'There Goes The Fear', 'There Is', 'There Is A Light That Never Goes Out', 'There It Go (The Whistle Song)', 'There Must Be A Better World Somewhere', 'There She Goes Again', 'There She Goes_ My Beautiful World (Amsterdam)', 'There You Go', \"There You'll Be (Album Version)\", 'There are Thousands Sleeping in Peace', 'There will be a happy meeting in Glory', \"There's A Fire\", \"There's A Good Reason These Tables Are Numbered Honey_ You Just Haven't Thought of It Yet [Live In Chicago]\", \"There's A War Going On For Your Mind\", \"There's No Sympathy For The Dead (Album Version)\", \"There's Only One  (LP Version)\", \"There's Your Trouble\", 'There_ There', 'These Are The Days', 'These Are The Fables', 'These Boots', \"These Boots are Made For Walkin' (2006 Digital Remaster)\", \"These Colours Don't Run\", 'These Days', 'These Dreams', 'These Four Walls', 'These Old Shoes', 'These Photographs', 'These Stones Will Shout', 'These Streets [Album Version]', 'These Walls Are Thin (Album Version)', 'They', 'They Bring Me To You', \"They Do_ They Don't\", 'They Might Follow You', 'They Reminisce Over You (Single Version)', 'Thickfreakness', 'Thieves', 'Thieves In The Night', 'Thin Line', 'Things', \"Things Ain't Like They Used To Be\", 'Things Are Getting Better', 'Things Behind The Sun', 'Things Done Changed (Amended Version)', \"Things I Don't Understand\", \"Things I'll Never Say\", 'Think About It (Album Version)', 'Think About You', 'Think I Got A Beat', 'Thinking About Forever (Album Version)', 'Thinking About You', 'Thinking Of You', 'Third Party', 'This Afternoon (Album Version)', \"This Ain't A Love Song\", \"This Ain't A Scene_ It's An Arms Race\", \"This Ain't Goodbye\", 'This Bitter Pill', \"This Can't Be Life\", 'This Charming Man', 'This Cowboy Song', 'This Fire', 'This Fire (Album Version)', 'This Is A Low', 'This Is Halloween', 'This Is How We Do It', 'This Is Me', 'This Is Not A Test', 'This Is Nowhere', 'This Is The Future', 'This Is The Life', \"This Is Why I'm Hot (Album Version) (Explicit)\", 'This Is Your Life', 'This Is Your Life (featuring Tyler Durden) (Album Version)', 'This Joint', 'This Love  (Remastered LP Version)', 'This Love (Will Be Your Downfall)', 'This Love_ This Hate', 'This Lullaby', \"This Mess We're In\", 'This Old House w/ When The Saints Medley', 'This Photograph Is Proof {I Know You Know] (Album Version)', 'This Place is a Prison (Album)', 'This Song Is Called (Album Version)', 'This Time', 'This Tornado Loves You', 'This Unfolds', 'This War Is Ours (The Guillotine II)', 'This Way', \"This Woman's Work\", 'Thnks fr th Mmrs', 'Thomas', 'Thong Song', 'Those Dancing Days Are Gone (Album)', 'Thousand Ways', 'Threat', 'Three Blind Mice', 'Three Cheers For Five Years', 'Three Days (2006 Remastered Album Version)', 'Three Hopeful Thoughts', 'Three More Days', 'Three Or Four', 'Three Peaches', 'Three Piano Pieces FS131 [Op. 59]: III.     Allegro non troppo', 'Three Pope (feat. Monty Alexander)', 'Three Seed', 'Three Times A Lady', 'Thrill Me', 'Thriller', 'Thrills', 'Through The Fire', 'Through The Fire And Flames (Album Version)', 'Through The Hosiery', 'Through The Rain', 'Through The Wire', 'Throw It In The Bag', 'Throw Me A Rope', \"Throw Some D's Remix\", 'Thugged-Out', 'Thule', 'Thump', 'Thunder Road', 'Ticket To Heaven', 'Tidal Wave', 'Tides', 'Tie Me Down [feat. Ray J] (Amended Album Version)', 'Tie My Hands', 'Tied Together With A Smile', 'Tiempo', 'Tier', 'Tiger By My Side', 'Tiger Feet', 'Tiger Mountain Peasant Song', 'Tigerlily', 'Tight Rope', 'Tighten Up', 'Tij', 'Til Kingdom Come', 'Til Sommer', 'Till Dans Med Karlstadtoserna', 'Till I Get My Way', 'Till It Gets Wet', 'Till It Happens To You', 'Till The Sky Falls Down', 'Till The Sun turns Black', 'Till You Return To Me', 'Tim McGraw', 'Time (LP Version)', 'Time (featuring Corey Harris & Ranking Joe)', 'Time Bomb', 'Time Bomb (Album Version)', 'Time Code (Album Version)', 'Time Flies', 'Time Has Told Me', 'Time Is Running Out', 'Time Of My Life', 'Time Requiem', 'Time Stands Still', 'Time To Dance (Album Version)', 'Time To Pretend', \"Time Won't Let Me Go\", 'Time to Go', 'Time/Breathe [Reprise] (Album Version)', 'Timebomb', 'Timeless', 'Times', 'Times Like These', 'Tire Swing', 'Tired Of Being Sorry', 'Tired Of Waiting For You', 'Tired Of You', 'Tive Sim', 'Tive razão', \"To All The Girls I've Loved Before (With Julio Iglesias)\", 'To Build A Home', 'To End The Rapture', 'To Go Beyond (II)', 'To Have And To Have Not', 'To Know Him Is To Love Him', 'To Plant A Seed', 'To The Core', 'To The End (Album Version)', 'To The Moon & Back', 'To Them These Streets Belong', 'To Where You Are (Album Version)', 'To Wild Homes', 'To Zion', 'Tobacco Island', \"Toca's Miracle\", 'Tocame', 'Todavia Una Cancion De Amor', 'Today Your Love_ Tomorrow The World (Remastered Album Version )', 'Todo Cambio', 'Todo O Tempo Do Mundo', 'Todo se transforma (Cara B)', 'Todos Quieren A Raymond', 'Toes (Album Version)', 'Together Again (Jimmy Jam Deep Remix)', 'Tokyo Drift', 'Tokyo Witch', 'Tommy The Cat', 'Tomorrow', 'Tomorrow Comes Today', \"Tomorrow's World feat. Lacks\", 'Tone Bank Jungle', 'Tonebank Computer', 'Tones Of Home', 'Tonight', 'Tonight (Featuring Mobb Deep & Joe Hooker)(Album Version)', 'Tonight She Comes (LP Version)', 'Too Afraid To Love', 'Too Bad', 'Too Close', 'Too Deep', 'Too Drunk Too F****', 'Too Drunk to Fuck', 'Too Far Gone', 'Too Late For Goodbyes', 'Too Little Too Late', 'Too Little_ Too Late', 'Too Long', 'Too Long (Gonzales Version)', 'Too Long / Steam Machine', 'Too Many Puppies', 'Too Much', 'Too Much (LP Version)', 'Too Much Love', 'Too Much To Ask', 'Too Much_ Too Young_ Too Fast', 'Too Shy', 'Too Sick To Pray', 'Too Young', 'Top Down', 'Top Drawer', 'Top Of The World', 'Top Secret', 'Top Yourself', 'Torn', 'Tortured Soul', 'Total Eclipse (1998 Digital Remaster)', 'Total Eclipse Of The Heart', 'Total Life Forever', 'Totgeliebt', 'Touch Me In The Morning', 'Touch My Body', 'Touch Too Much', 'Touch_ Peel And Stand', 'Touched By The Sun', 'Touchy! (Album Version)', 'Tough Little Boys', \"Tourette's\", 'Tourniquet', 'Tout doucement', 'Toxic', 'Toxic Girl', 'Toxicity', 'Tracking Treasure Down', 'Tradewinds (LP Version)', 'Trahison', 'Train', 'Train Round The Bend (LP Version)', 'Train To Skaville', 'Train Underwater', 'Trains', 'Tramp', 'Trani', 'Tranquilize', 'Transatlanticism', 'Transcendence', 'Transmission', 'Transparency', 'Transparent & Glasslike', 'Transporte', 'Transylvania (Live) (1998 Digital Remaster)', 'Trash', \"Trashin' The Camp (Phil And 'N Sync Version)\", \"Travelin' Band\", 'Traveling Man', 'Travels With Myself - And Someone Else (Live)', 'Tribal Dance', 'Tribal War', 'Tribulations', 'Tricky Tricky', 'Trigger Hippie', 'Tripled Manic State', 'Triumph', 'Triumphant', 'Trojan Horse', 'Tron', 'Tropicana', 'Trouble', 'Trouble (Album Version)', 'Trouble Sleeping', 'Troublemaker', 'Troubles Will Be Gone', 'True', 'True Blue', 'True Colors', 'True Faith', 'True Grit', 'True Love Ways', 'True Stories', 'True love', 'Truly Madly Deeply', 'Trunk', 'Truth', 'Try A Little Tenderness (Album Version)', 'Try Honesty', 'Try Sleeping With A Broken Heart', 'Trying To Find A Balance', 'Trátame Suavemente', 'Tríptico', 'Tsubasa', 'Tu Guardian', 'Tu Recuerdo', 'Tu Silencio', 'Tu Vicio', 'Tu Y Yo Somos Uno Mismo', 'Tu no tienes alma', 'Tuesday Afternoon', 'Tuesday Moon', \"Tuesday's Gone\", 'Tumbling Dice (LP Version)', 'Tunneling Through the Guy', 'Tuolumne', 'Turbo Love', 'Turbulent Serenity (Instrumental)', 'Turn', 'Turn Around', 'Turn Me Up (Sfaction Version / Feat. Sandy)', 'Turn My Swag On', 'Turn On Me (Album)', 'Turn This Car Around (Album Version)', 'Turn Your Lights Down Low', 'Turnin Me On', 'Turning Japanese', 'Tuxedo Hat', 'Twenty Three', 'Twenty-Six Temptations (Album version)', 'Twentytwofourteen', 'Twilight Galaxy', 'Twin Cinema', 'Twisted Logic', 'Two Coins', 'Two Dope Boyz (In A Cadillac)', 'Two Headed Boy', 'Two Hearts', 'Two Is Better Than One', 'Two Million Voices', 'Two Pink Lines', 'Two Shoes', 'Two Step', 'Two Steps_ Twice', 'Two Trees', 'Two Words', 'Two Worlds Collide', 'Two Wrongs', 'Tyrant', 'Té Para Tres', 'Tú', \"U Can't Touch This\", \"U Don't Have To Call\", 'U Killed It', 'U Smile', 'U.R.A Fever', 'Ugly', 'Ugly Girls', 'Uhn Tiss Uhn Tiss Uhn Tiss', 'Ulysses', 'Umbrella Beach', 'Umoja', 'Un Aro En La Nariz', 'Un Beso de Desayuno', 'Un Camino Hasta Vos', 'Un Dia Con Otro', 'Un Dia Gris', 'Un Misil En Mi Placard', 'Un Violinista En Tu Tejado', \"Un-thinkable (I'm Ready)\", 'Una Confusion', 'Una Música Brutal', 'Unbelievable (Amended Version)', 'Unbreakable', 'Unchained Melody', 'Uncle Jonny', 'Undantag', 'Under A Killing Moon', 'Under Pressure', 'Under The Bridge (Album Version)', 'Under The Falling Sky (LP Version)', 'Under The Gun', 'Under The Knife', 'Under The Sheets', 'Under The Sun (Album Version)', 'Under Your Spell', 'Undercover Martyn', 'Underground', 'Underneath It All', 'Underneath Your Clothes', 'Underwater World', 'Undisclosed Desires [Thin White Duke Remix]', 'Undiscovered', 'Undo', 'Undone', 'Unfold (Eagles Ballroom Live Version)', 'Unforgettable Season', 'Unglued (LP Version)', 'Unguided', 'Unholy Confessions', 'Unintended', 'Uninvited (Album Version)', 'Union House Branch', 'Unite (2009 Digital Remaster)', 'Unity', 'Universally Speaking (Album Version)', 'Universe & U', 'Unknown Brother', 'Unloveable', 'Unnatural Selection', 'Uno Entre 1000', 'Unplayed Piano (Chris Lord-Alge Mix)', 'Unprotected Sex With Multiple Partners', 'Unravel', 'Unrecorded', 'Unspoken', 'Unstoppable', 'Untangle', 'Until It Sleeps', 'Until The Day I Die (Album Version)', 'Until The End Of Time', 'Until The Morning', 'Until We Bleed (Feat. Lykke Li)', \"Until You're Over Me\", 'Untitled', 'Untitled #5', 'Untitled #7', 'Untitled (Domestic Album Version)', 'Untitled (Figures)', 'Untitled (How Does It Feel) (Edit)', 'Unto Us/Triptych', 'Untouchable', 'Untrust us', 'Unwell (Album Version)', 'Unwritten', 'Up', 'Up And Down (explicit album version)', 'Up And Up (Acoustic)', 'Up From Below', 'Up Up & Away', 'Up Where We Belong', 'Uprising', 'Uptown', 'Urlando contro il cielo [Remastered]', 'Us (Remastered Album Version)', 'Us V Them', 'Use It', 'Use Me (LP Version)', 'Use Somebody', 'Used To Be', 'Used To Love Her', 'Utopian Dream', 'VIKING MAN', 'VIP', 'Vagabond', \"Val's Blues (Digitally Remastered)\", \"Valencia's Dying Dream\", 'Valentine', 'Valerie', 'Valio La Pena', 'Vampires Will Never Hurt You', 'Van Helsing Boombox', 'Vanilla Twilight', 'Vanished', 'Vegas', 'Vegas Collie (feat. A sample from Natvralism\\x19s Nanoloop)', 'Veleta (En Vivo Auditorio Nacional)', 'Velouria', 'Velvet Snow', 'Vem Comigo', 'Venus', 'Venus In Furs', 'Verde Que Te Quero Rosa', 'Veridis Quo', 'Vertigo', 'Very Loud (Soundtrack Version)', 'Vi sitter i Ventrilo och Spelar DotA (Club Version)', 'Vicinity Of Obscenity', 'Victim Of The Crime', 'Victoria', 'Victoria (LP Version)', 'Victory (Featuring The Notorious B.I.G. & Busta Rhymes)(Album Version)', 'Video', 'Video Girl', 'Video Killed The Radio Star', 'Video Phone', 'Vietnam', 'View From Heaven', 'Vincent', 'Vincent (Starry_ Starry Night) (Album Version)', 'Vino Tinto', 'Violence', 'Violet', 'Violet Hill', 'Virginia Moon', 'Virtual Diva', 'Virtual Insanity', 'Vision One', 'Visions', 'Vitamin', 'Viva La White Girl (Album Version)', 'Viva Las Vegas', 'Vivo Muriendo', 'Vivo Por Ella (Vivo Per Lei)', \"Vladimir's Blues\", 'Vodne stocne', 'Voices (Album Fade)', 'Voices On A String (Album Version)', 'Volare (Nel blu di pinto Di blu)', 'Volcano', 'Volvere', 'Volveré', 'Voodoo', 'Voodoo Chile Blues', 'Voodoo Fire', 'Voodoo Lady', 'Voto Latino', 'Voy A Pasarmelo Bien', 'Voy a Extrañarte', 'Voyager', 'Vuelve', 'Vuelvo Al Sur', 'Vulnerable', 'Vzpominky IV.', 'VÁNDORMADÁR', 'Vício De Ti', 'W', 'WAIDMANNS HEIL', 'Wade Through The Night', 'Wagon Wheel', 'Waimea Bay', 'Wait', 'Wait & See (Gucci Soundsystem Remix)', 'Wait A Minute', 'Wait And Bleed (Album Version)', 'Wait For The Summer', \"Waitin' On A Woman\", 'Waiting', 'Waiting For A Dream', 'Waiting For A Girl Like You', 'Waiting For Tonight', 'Waiting On The World To Change', 'Waiting..', 'Wake (Album Version)', 'Wake For Young Souls', 'Wake Up', 'Wake Up (Album Version)', 'Wake Up Alone', 'Wake Up America', 'Wake Up And Smell The Coffee', 'Wake Up Call', 'Wake Up Little Suzie', 'Wake Up Mr. West', 'Waking The Demon', 'Waking Up', 'Waking Up In Vegas (Calvin Harris Remix Edit)', 'Walcott (Album)', 'Walk (Remastered LP Version)', 'Walk A Little Straighter', 'Walk Away', 'Walk Away (Album Version)', 'Walk Idiot Walk', 'Walk In The Park', 'Walk It Out', 'Walk Of Life', 'Walk On', 'Walk On (Some More)', 'Walk On The Wild Side', 'Walk On Water', 'Walk On Water Or Drown (Album)', 'Walk This Way', 'Walk Through Hell (featuring Max Bemis Acoustic Exclusive)', 'Walk Through The World (RemasteredLP Version)', \"Walk-Don't Run\", 'Walkabout', \"Walkin' On The Sun\", 'Walking', 'Walking Away', 'Walking For You', 'Walking In The Air', 'Walking On A Dream', 'Walking On Sunshine', 'Walking On The Moon', 'Walking Through The Country', 'Waltz #2 (XO)', 'Waltz (Better Than Fine)', 'Walzer Nr. 7 op. 64_2 Cis-Moll', 'Wandering Eye', 'Wanderlust', 'Want You Bad', 'Wanted Dread And Alive (2002 Digital Remaster)', 'War', 'War Ensemble', 'War Of My Life', 'War Pigs', 'War on war', 'Warning', 'Warning (Album Version)', 'Warning Sign', 'Warp 1.9 (feat. Steve Aoki)', 'Warrior', \"Warrior's Dance\", 'Was It Worth It?', 'Washed By The Water (Album Version)', 'Wasted', 'Wasteland', 'Wasting Love (Live) (1998 Digital Remaster)', 'Wasting My Time', 'Wasting My Time (Album Version)', 'Wasting Time', 'Wat and See', 'Watch Dis (Explicit Album Version)', 'Watch Out', 'Watch Over You', 'Watch The Tapes', 'Watch Your Movements (feat. Akon) (amended album version)', 'Watching Lara', 'Watching The Detectives', 'Watercolour', 'Waterfall', 'Waterfall (Spirit Of The Rainforest Album Version)', 'Waterloo', 'Watermark', 'Watermelon Man', 'Waters Of Nazareth (album version)', 'Wattershed', 'Wave', 'Wave of Mutilation (UK Surf Version)', \"Wavin'  Flag\", 'Waxing on Decepticon', 'Way Away', 'Way Out of Here [Album Version]', 'Wayfaring Stranger', 'Wayli Aah', \"We Ain't\", 'We Are All On Drugs', 'We Are Going To Be Friends (Live)', \"We Are Nowhere and It's Now\", 'We Are Okay', 'We Are The Sleepyheads', 'We Are Winning', 'We Are Your Friends (Reprise) (Album Version)', 'We Belong', 'We Belong Together', 'We Both Go Down together', 'We Can Make It Better', 'We Can Work It Out', 'We Celebrate', 'We Change_ We Wait', 'We Could Forever', 'We Deal In Dreams', \"We Don't Care\", \"We Don't Stop (Explicit)\", 'We Fight For Diamonds', 'We Fly High', 'We Got The Beat (Single Mix)', 'We Have A Map Of The Piano', 'We Have Love', 'We Like Sportz', 'We Major', 'We Never Change', 'We Own The Sky (Edit)', 'We Ride', 'We Rode In Trucks', \"We Share Our Mothers' Health (Album Version)\", 'We Speak Music', \"We Weren't Born To Follow\", 'We Will Become Silhouettes (Album)', 'We Will Rock You', 'We Wish You A Merry Christmas (1999 Digital Remaster)', \"We Won't Back Down\", \"We'll Be A Dream (featuring Demi Lovato)\", \"We'll Never Know\", \"We're An American Band (2002 Digital Remaster)\", \"We're Going To Be Friends\", \"We're Looking For A Lot Of Love\", \"We're Not Gonna Take It\", \"We're Not Making Love No More\", \"We've Only Just Begun\", 'Weak', 'Weak And Powerless', 'Weathered', 'Webers', 'Wedding Dress', 'Weed', 'Weekend!', 'Weenie Beenie', 'Weihnacht in mein Elternhaus', 'Weird Fishes/Arpeggi', 'Welcome', 'Welcome Home (Sanitarium)', 'Welcome To Heartbreak', 'Welcome To Hollywood', 'Welcome To Jamrock', 'Welcome To The Black Parade (Album Version)', 'Welcome To The Family', 'Welcome To The Masquerade', 'Welcome To The World', 'Welcome To The World of The Plastic Beach (Feat. Snoop Dogg and Hypnotic Brass Ensemble)', 'Welcome_ Ghosts', 'Welk', 'Well Did You Evah!', 'Well Thought Out Twinkles', 'Wendy Clear', 'Werewolf', 'Werewolf (on the hood of yer heartbreak)', 'Werewolves Of London (LP Version)', 'West One (Shine On Me)', 'Western Eyes', 'Wet Blanket', 'Wet Sand (Album Version)', 'Whalebones', 'What', 'What A Beautiful Day', 'What A Feeling', 'What A Feeling (Clubhouse Radio Version)', 'What A Shame (Album Version)', 'What Am I Gonna Do With You', 'What Can Be Safely Written', 'What Country Is', 'What Difference Does It Make?', 'What Do You Go Home To?', 'What Else Is There?', 'What Goes Around', 'What Goes Around...Comes Around', 'What Goes On', 'What Happened to You?', 'What Have I Done To Deserve This? (2001 Digital Remaster)', 'What Have You Done For Me Lately', 'What I Be', 'What I Want', \"What I Wouldn't Do\", \"What I'm Trying To Say Pt. 1\", \"What I've Done (Album Version)\", 'What If', 'What If (Album Version)', 'What If (Film Version)', 'What If I Do?', 'What If?', 'What Is It About Men', 'What Is Light? Where Is Laughter? (Album Version)', \"What It's Like To Be Me\", 'What New York Couples Fight About (Feat: Kurt Wagner)', 'What Them Girls Like', 'What They Call Him (Skit)', 'What They Found', 'What To Do', 'What Up Gangsta', \"What Was I Thinkin'\", 'What We Do (Explicit) (Feat. Memphis Bleek)', 'What You Got', 'What You Know', 'What You Thought You Need', 'What Your Soul Sings', \"What's Been Going On\", \"What's Going On (Featuring Chuck D)\", \"What's Happenin'\", \"What's In The Middle\", \"What's Left of the Flag\", \"What's Luv? (Featuring Ja-Rule & Ashanti) (Explicit Album Version)\", \"What's My Name\", \"What's My Name Featuring Noah\", \"What's Not To Like\", \"What's So Bad About Feeling Good?\", \"What's The Difference\", \"What's The Frequency_ Kenneth? (Radio Version)\", \"What's Up?\", \"What's Your Name\", 'Whataya Want From Me', 'Whatcha Say', 'Whatever', 'Whatever It Takes', 'Whatever You Like (Single Version)', 'Whatsername [feat. Green Day & The Cast Of American Idiot] (Album Version)', 'When A Man Loves A Woman', 'When Darkness Falls (Album Version)', \"When I Get Home You're So Dead (New Version) (Album)\", \"When I Get Where I'm Going\", 'When I Grow Up', \"When I'm Gone\", 'When In Rome', 'When It Rains (Album Version)', \"When It's Over\", \"When It's Over (Remastered Album Version)\", 'When Something Is Wrong With My Baby', 'When The Children Cry', 'When The Day Met The Night (Album Version)', 'When The Lights Go Out', 'When The Night Feels My Song', 'When The Son Begins To Reign (Degarmo And Key Album Version)', 'When The Stars Go Blue', 'When The Sun Comes Down', \"When The World Is Running Down_ You Make The Best Of What's Still Around\", 'When We Dance', 'When We Murdered the World on the Fourteenth of May', 'When Will They Shoot? (Edited)', 'When You Believe', 'When You Come Back Down', 'When You Feel The Mess', 'When You Look Me In The Eyes', 'When You Love A Woman', 'When You Say Nothing At All', 'When You Say You Love Me (Album Version)', 'When You Were Young', 'When You Wish Upon A Star', \"When You're Gone\", 'When Your Eyes Say It', \"When Your Mind's Made Up (Album version)\", 'When the empire falls (Single Version)', 'Whenever I Say Your Name', \"Where Corn Don't Grow\", 'Where Did He Go', 'Where Did You Sleep Last Night', 'Where Do The Children Play?', 'Where Do You Go To (My Lovely)', 'Where Eagles Dare', 'Where Have All The Cowboys Gone? (Album Version)', 'Where I Come From', 'Where I Stand', 'Where I Stood (Album Version)', 'Where Is Everybody?', 'Where Is My Love', 'Where Is My Mind?', 'Where My Money (I Need That)', 'Where The Boat Leaves From (Album)', 'Where The Hood At', 'Where The Rain Grows', 'Where The River Goes (LP Version)', 'Where The White Boys Dance', 'Where The Wild Roses Grow (Live) (1998 Digital Remaster)', 'Where You Come From  (Remastered LP Version)', 'Where You From?', \"Where You'll Find Me Now\", \"Where'd You Go (Featuring Holly Brook & Jonah Matranga) (Album Version)\", 'Whereabouts Unknown', 'Wherever You Go (Album Version)', 'Wherever You Will Go', 'Which Will', 'While You Were Sleeping', 'Whiskey Girl', 'Whisper', 'Whispers In The Dark (Radio Edit)', 'Whistle For The Choir', 'Whistle For Will', 'White & Nerdy (Parody of \"Ridin\\'\" by Chamillionaire featuring Krayzie Bone)', 'White City', 'White Flag', 'White Flag (Feat. Bashy_ Kano and The National Orchestra For Arabic Music)', 'White Heat', 'White Houses', 'White Knuckles', 'White Lies', 'White Light', 'White Meat', 'White Room', 'White Shadows', 'White Sky', 'White Slave', 'White Tooth Man (Album)', 'White Winter Hymnal', 'Who Am I', 'Who Am I (Medium without background vocals)', 'Who By Fire', 'Who Can Compare', 'Who Did You Think I Was', 'Who Do You Think', 'Who Do You Think You Are', 'Who Is Watching', 'Who Knows Who Cares', 'Who Let You Go?', 'Who Said (Karaoke)', \"Who Said We're Wack?\", 'Who Shot Ya', 'Who Wants To Live Forever (With Commentary)', 'Who Will Save Your Soul', 'Who Will You Run To', \"Who'll Stop The Rain\", \"Who's Cheatin' Who\", \"Who's Cryin' Now\", \"Who's Kissing You Tonight\", \"Who's Real\", \"Who's That Girl (Soundtrack Album Version)\", \"Who's Your Daddy? \", 'Whoa (Album Version)', 'Whoever Brings The Night', 'Whoo! Alright - Yeah...Uh Huh.', 'Whoomp! There It Is', 'Whores (2006 Remastered Album Version)', 'Why', \"Why Can't I? (Explicit)\", \"Why Can't This Be Love (Remastered Version)\", \"Why Can't We Be Friends\", 'Why Do Fools Fall in Love', 'Why Do I Keep Counting?', 'Why Do You Let Me Stay Here?', 'Why Do You Love Me (Clean version) (Re-mastered 07)', 'Why Does It Always Rain On Me?', 'Why Does My Heart Feel So Bad? (2006 Digital Remaster)', \"Why Don't We Just Dance\", \"Why Don't You (Radio Edit)\", 'Why Georgia', 'Why Worry', 'Why You Wanna (Amended Album Version)', 'Why!...', 'Wicked Garden (LP Version)', 'Wide Eyes', 'Wider Than a Smile', 'Wie Jetzt', 'Wild Child', 'Wild Horses', 'Wild Packs Of Family Dogs', 'Wild Seasons', 'Wild Thing', 'Wild World', 'Wildcat', 'William_ It Was Really Nothing', 'Willie And The Hand Jive', \"Willie O'Winsbury\", 'Willing To Wait', 'Wilting On The Vine', 'Wind Farm', 'Wind It Up', 'Wind Of Change', 'Winding Wind', 'Windmill Wedding', 'Window', 'Window Blues', 'Window Blues (Album)', 'Window In The Skies', 'Window Seat', \"Wine Red (Tommie Sunshine's Brooklyn Fire Retouch)\", 'Winner', 'Winter', 'Winter Song', 'Wipe Out', 'Wire To Wire', 'Wish', 'Wish I Stayed', 'Wish You Well', 'Wish You Were Here', 'Wish You Were Intro/Wish You Were', \"Wishin' And  Hopin'\", 'Wishing Well', 'Wishing Wells', \"Wit' Yo' Bad Self\", 'Witch', 'Witch Doctor', 'With A Little Help From My Friends', 'With Arms Outstretched (Album Version)', 'With Blood Adorned', 'With Everything', 'With Oden On Our Side', 'With Or Without You', 'With Pen In Hand', 'With Twilight as My Guide', \"With You I'm Born Again\", 'Withering Heights', 'Without A Face', 'Without Me', 'Without Stars', 'Without You', 'Wolves', 'Woman', 'Woman In Chains', 'Woman Like A Man', 'Womanopoly', 'Won\\x19t Want For Love (Margaret In The Taiga)', \"Won't Go Home Without You\", \"Won't Go Quietly\", 'Wonder', 'Wonderful Tonight [Duet With Ivan Lins] (Album Version)', 'Wonderlust King', 'Wonderwall', 'Woo boost', 'Wood Beez', 'Wooden Ships (LP Version)', 'Woods', 'Woodstock', 'Wooly Bully', 'Word Up', 'Word Up!', 'Wordplay (Album Version)', 'Words', 'Words Of Love', 'Words So Leisured', 'Work', 'Work (Explicit)', 'Work It Out', 'Work Me', 'Work On You', 'Workin For A Livin', 'Working With Homesick', 'World Looking In (Radio Edit)', 'World News', 'World Spins Madly On', 'Worth Goin FED Fo (Explicit Album Version)', 'Wot', \"Wotan's Farewell & Magic Fire Music\", 'Would That Make U Love Me', \"Would You Die For Me (Featuring Lil' Kim & Puff Daddy) (Album Version)\", 'Would You Go With Me', 'Would You Please', 'Would?', 'Wounder', 'Wow_ I Can Get Sexual Too', 'Wrapped Up In Books', 'Wrecking Ball', 'Wrestlers', \"Writer's Block\", 'Written In Reverse', 'Written On The Sky', 'Wrong 4 Dat', 'Wrong Turn', 'Wrong Way To Hollywood (Live)', 'Wuthering Heights', 'X & Y', \"X Gon' Give It To Ya\", 'X-Static', 'XO', 'XRDS', \"XXX's And OOO's (An American Girl)\", 'Xehasmeni Melodia', 'Xtal', 'Xxplosive', 'Y Hubo Alguien', 'Y Nos Dieron Las Diez', 'Y solo se me ocurre amarte (Unplugged)', 'YMCA', 'Ya Nada Queda', 'Ya No Se Que Hacer Conmigo', 'Ya No Sos Igual', 'Yankee Rose (Spanish Album Version)', 'Yapp City', 'Yawns', 'Yawny And The Apocalypse', 'Yeah', 'Yeah Yeah', 'Yeah!', 'Year 3000', 'Year Of Silence', 'Year Of Tha Boomerang', 'Year Of The Rat', 'Year of the Suckerpunch', \"Yearnin'\", \"Yellin' At The Xmas Tree\", 'Yellow', 'Yellow Ledbetter', 'Yellow Sun', 'Yendo A La Casa De Damián', 'Yer So Bad', 'Yes', 'Yes Please', \"Yes_ I Don't Want This\", 'Yes_ I Would', 'Yesterday Once More', 'Yesterday To Tomorrow', 'Yesterdays', 'Yet Another Day', 'Yin Yang', 'Yo Te Seguire (vivo)', 'Yo Tomo', 'You', 'You & Me Song', 'You (featuring Tank) (Amended Album Version)', \"You Ain't Seen Nothing Yet\", 'You And I', 'You And I (Album Version)', 'You And I Both (LP Version)', 'You And Me (Wedding Version)', 'You And Me Jesus', 'You And The Night And The Music', 'You And Your Heart', 'You Appearing', 'You Are A Knife', 'You Are Mine', 'You Are My Sister', 'You Are My Sunshine', 'You Are Not Alone', 'You Are Not Stubborn', 'You Are So Beautiful', 'You Are The Sunshine Of My Life', 'You Are The Worst Thing In The World', 'You Are the Moon (Album Version)', \"You Be The Anchor That Keeps My Feet On The Ground_ I'll Be The Wings That Keep Your Heart In The Clouds (Album)\", 'You Belong With Me', 'You Can Do Better Than Me (Album Version)', 'You Can Do It (Explicit) (Feat. Mack 10 And Ms Toi)', \"You Can't Break A Broken Heart\", \"You Can't Call Yourself A Secret\", \"You Can't Catch Me\", \"You Can't Hurry Love\", 'You Could Be Happy', 'You Could Be Mine', 'You Could Ruin My Day', 'You Don\\x19t Know What Love Is (You Just Do What You\\x19re Told)', 'You Don\\x19t Understand Me', \"You Don't Have A Clue\", \"You Don't Know How It Feels (Album Version)\", \"You Don't Know Me (Album Version)\", \"You Don't Know Me (featuring Regina Spektor)\", \"You Don't Love Me\", \"You Don't Love Me (No_ No_ No)\", 'You Dont Know Me', 'You Fight Me', 'You Found Me', 'You Found Me (Album Version)', 'You Get What You Give', 'You Give Love A Bad Name', 'You Go To My Head', 'You Got Lucky', 'You Got Me', 'You Gotta Be', 'You Had Me At Hello', 'You Hid', \"You Know I'm No Good\", 'You Know My Name', 'You Know What It Is  [feat Wyclef] (New Explicit Album Version)', 'You Know What You Are?', \"You Know You're Right\", 'You Know Your Boy Did That', 'You Learn (Album Version)', 'You Love Me (Album Version)', 'You Made Me Like It', 'You Make It Real', 'You Make Me Wanna...', \"You Mustn't Kick It Around\", 'You Never Know', 'You Never Let Go', 'You Never Miss The Water Until The Well Runs Dry', 'You Only Live Once', 'You Only Live Twice (2006 Digital Remaster)', 'You Only Live Twice (Live From Norway)', 'You Picked Me', 'You Raise Me Up', 'You Really Got Me (Album Version)', 'You Sang To Me', 'You Sent Me Flying / Cherry', 'You Should Have Killed Me When You Had The Chance', \"You Shouldn't Kiss Me Like This\", 'You Spin Me Round (Like A Record)', \"You Think I Ain't Worth A Dollar_ But I Feel Like A Millionaire\", 'You Told A Lie', 'You Used To Hold Me', 'You Wanted A Hit', 'You Were Meant For Me (LP Version)', 'You Will Leave a Mark', \"You Won't Know\", 'You Yourself are Too Serious', 'You and Me', 'You! Me! Dancing!', \"You'd Be So Nice To Come Home To\", \"You'll Be In My Heart\", \"You'll Find A Way\", \"You'll Never Find Another Love Like Mine (Album Version)\", \"You'll Never Know (Live Version)\", \"You'll Never Know (My Love) (Bovellian 07 Mix)\", \"You're A Cad\", \"You're A Wolf (Album)\", \"You're Crazy\", \"You're Ever So Inviting\", \"You're Gonna Miss Me When I'm Gone\", \"You're In My Heart\", \"You're Not Alone\", \"You're So Damn Hot\", \"You're So Last Summer (Album Version)\", \"You're The One\", \"You're The One (LP Version)\", \"You're The Voice\", \"You've Got A Friend\", \"You've Got Everything Now\", \"You've Got The Love\", \"You've Lost That Lovin' Feelin'\", \"You've Passed\", 'Young', 'Young Adult Friction', 'Young And Wild', 'Young Folks', 'Younger Than Springtime', 'Your Arms Feel Like home', 'Your Decision', 'Your English Is Good', 'Your Every Idol', 'Your Ex-Lover Is Dead (Album Version)', 'Your Guardian Angel', 'Your Hand In Mine', 'Your House', 'Your Love', 'Your Love Is King', 'Your Man', 'Your Mother Should Have Told You', \"Your Mother's Here To Stay  (LP Version)\", 'Your Mouth', 'Your Picture', 'Your Place In The World', 'Your Protector', 'Your Rap Is Sad', 'Your Rocky Spine', 'Your Song', 'Your Song (Alternate Take 10)', 'Your Star', 'Your Time Has Come', 'Your Touch', 'Your Visits Are Getting Shorter', 'Your Woman', 'Yours Alone', 'Youth Against Fascism', 'Youth Of The Nation (2006 Remastered Album Version)', 'Yön hetket', 'ZDRLT (Rewind)', 'Ze Rook Naar Rozen', 'Zebra', 'Zebra (full-length/album version)', 'Zero', 'Ziggy Stardust', 'Zopf: Pigtail', 'Zwitter', 'a joy', 'aNYway', 'and then patterns', 'clouding', 'high fives', 'in white rooms', 'mOBSCENE', 'ný Batterý', 'paranoid android', 're:stacks', 'sillyworld (Album Version)', 'sleep_ eat food_ have visions', 'smile around the face', 'sun drums and soil', 'teachme (Album Version)', 'the Love Song', 'you were there with me', '¡Viva La Gloria! (Album Version)', '¿Lo Ves? [Piano Y Voz]', 'Época']\n"
     ]
    }
   ],
   "source": [
    "song_names = ct_df.columns\n",
    "song_list = list(song_names)\n",
    "print(song_list)\n"
   ]
  },
  {
   "cell_type": "code",
   "execution_count": null,
   "metadata": {},
   "outputs": [],
   "source": []
  },
  {
   "cell_type": "code",
   "execution_count": 240,
   "metadata": {},
   "outputs": [
    {
     "name": "stdout",
     "output_type": "stream",
     "text": [
      "3234\n"
     ]
    }
   ],
   "source": [
    "#query_index = song_list.index('Waiting For Tonight')\n",
    "#query_index = song_list.index('Dog Days Are Over (Radio Edit)')\n",
    "#query_index = song_list.index('My Happy Ending')\n",
    "query_index = song_list.index(\"Heartbreak Warfare\")\n",
    "\n",
    "#query_index = song_list.index(song_title)\n",
    "print(query_index)"
   ]
  },
  {
   "cell_type": "code",
   "execution_count": 241,
   "metadata": {},
   "outputs": [
    {
     "name": "stdout",
     "output_type": "stream",
     "text": [
      "[0.76008426 0.7608103  0.67635799 ... 0.87151773 0.75495399 0.80549467]\n",
      "<class 'list'>\n",
      "[False False False ... False False False]\n"
     ]
    }
   ],
   "source": [
    "corr_similar_songs = corr_mat[query_index]\n",
    "corr_similar_songs.shape\n",
    "print(corr_similar_songs)\n",
    "print(type(song_list))\n",
    "print((corr_similar_songs<1.0) & (corr_similar_songs>0.9))"
   ]
  },
  {
   "cell_type": "code",
   "execution_count": 242,
   "metadata": {},
   "outputs": [
    {
     "data": {
      "text/plain": [
       "['Billionaire [feat. Bruno Mars]  (Explicit Album Version)',\n",
       " 'Black',\n",
       " 'Bulletproof',\n",
       " 'Clocks',\n",
       " 'Fag Hag',\n",
       " 'Fireflies',\n",
       " 'Girls_ Girls_ Girls',\n",
       " 'Half Of My Heart',\n",
       " 'How You Remind Me',\n",
       " 'If I Had You',\n",
       " \"Livin' On A Prayer\",\n",
       " 'OMG',\n",
       " 'Resistance',\n",
       " 'Supermassive Black Hole (Album Version)',\n",
       " 'Supermassive Black Hole (Twilight Soundtrack Version)',\n",
       " 'Un Violinista En Tu Tejado',\n",
       " 'Uprising']"
      ]
     },
     "execution_count": 242,
     "metadata": {},
     "output_type": "execute_result"
    }
   ],
   "source": [
    "list(song_names[(corr_similar_songs<1.0) & (corr_similar_songs>0.98)])"
   ]
  },
  {
   "cell_type": "code",
   "execution_count": null,
   "metadata": {},
   "outputs": [],
   "source": []
  },
  {
   "cell_type": "code",
   "execution_count": null,
   "metadata": {},
   "outputs": [],
   "source": []
  },
  {
   "cell_type": "code",
   "execution_count": null,
   "metadata": {},
   "outputs": [],
   "source": []
  }
 ],
 "metadata": {
  "kernelspec": {
   "display_name": "Python 3",
   "language": "python",
   "name": "python3"
  },
  "language_info": {
   "codemirror_mode": {
    "name": "ipython",
    "version": 3
   },
   "file_extension": ".py",
   "mimetype": "text/x-python",
   "name": "python",
   "nbconvert_exporter": "python",
   "pygments_lexer": "ipython3",
   "version": "3.7.3"
  }
 },
 "nbformat": 4,
 "nbformat_minor": 2
}
